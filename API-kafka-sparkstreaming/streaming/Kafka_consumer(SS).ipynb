{
 "cells": [
  {
   "cell_type": "code",
   "execution_count": 0,
   "metadata": {
    "application/vnd.databricks.v1+cell": {
     "cellMetadata": {
      "byteLimit": 2048000,
      "rowLimit": 10000
     },
     "inputWidgets": {},
     "nuid": "c5a4f6c0-5dea-435b-84a1-073f8737f265",
     "showTitle": false,
     "title": ""
    }
   },
   "outputs": [
    {
     "output_type": "stream",
     "name": "stdout",
     "output_type": "stream",
     "text": [
      "Requirement already satisfied: kafka-python in /local_disk0/.ephemeral_nfs/envs/pythonEnv-b65f2ffe-8941-4517-aea6-af1b7167e284/lib/python3.9/site-packages (2.0.2)\r\n\u001B[33mWARNING: You are using pip version 21.2.4; however, version 23.2.1 is available.\r\nYou should consider upgrading via the '/local_disk0/.ephemeral_nfs/envs/pythonEnv-b65f2ffe-8941-4517-aea6-af1b7167e284/bin/python -m pip install --upgrade pip' command.\u001B[0m\r\n"
     ]
    }
   ],
   "source": [
    "!pip install kafka-python\n",
    "from pyspark.sql import SparkSession\n",
    "from pyspark.sql.types import StructType,StructField, StringType, IntegerType\n",
    "from pyspark.sql.functions import col, from_json\n",
    "spark = SparkSession.builder.appName(\"Genomic\").getOrCreate()"
   ]
  },
  {
   "cell_type": "code",
   "execution_count": 0,
   "metadata": {
    "application/vnd.databricks.v1+cell": {
     "cellMetadata": {
      "byteLimit": 2048000,
      "rowLimit": 10000
     },
     "inputWidgets": {},
     "nuid": "183e313e-2e77-4d59-aa3a-12ad160dce2b",
     "showTitle": false,
     "title": ""
    }
   },
   "outputs": [],
   "source": [
    "df_genomic = (\n",
    "    spark.readStream.format(\"kafka\")\n",
    "    .option(\"kafka.bootstrap.servers\",\"localhost:9092,localhost:9095,localhost:9093\")\n",
    "    .option(\"subscribe\", \"genomic\")\n",
    "    .option(\"startingOffsets\", \"earliest\"))\n",
    "df_genomic = df_genomic.load()"
   ]
  },
  {
   "cell_type": "code",
   "execution_count": 0,
   "metadata": {
    "application/vnd.databricks.v1+cell": {
     "cellMetadata": {
      "byteLimit": 2048000,
      "rowLimit": 10000
     },
     "inputWidgets": {},
     "nuid": "a88fb19c-bb24-404b-a143-f488ef54557b",
     "showTitle": false,
     "title": ""
    }
   },
   "outputs": [],
   "source": [
    "schema = StructType([\n",
    "        StructField('source', StructType([\n",
    "             StructField('id', StringType(), True),\n",
    "             StructField('name', StringType(), True)\n",
    "             ])),\n",
    "         StructField('author', StringType(), True),\n",
    "         StructField('title', StringType(), True),\n",
    "         StructField('description', StringType(), True),\n",
    "         StructField('url', StringType(), True),\n",
    "         StructField('urlToImage', StringType(), True),\n",
    "         StructField('publishedAt', StringType(), True),\n",
    "         StructField('content', IntegerType(), True)\n",
    "         ])\n",
    "\n",
    "df_genomic_out = df_genomic.selectExpr(\"CAST(value AS STRING)\") \\\n",
    ".select(from_json(col(\"value\"), schema).alias(\"news\")) \\\n",
    ".select(\"news.*\")"
   ]
  },
  {
   "cell_type": "code",
   "execution_count": 0,
   "metadata": {
    "application/vnd.databricks.v1+cell": {
     "cellMetadata": {
      "byteLimit": 2048000,
      "rowLimit": 10000
     },
     "inputWidgets": {},
     "nuid": "d95983d6-9e51-4d2a-8d27-04d342ad65f6",
     "showTitle": false,
     "title": ""
    }
   },
   "outputs": [
    {
     "output_type": "stream",
     "name": "stdout",
     "output_type": "stream",
     "text": [
      "Out[11]: <pyspark.sql.streaming.query.StreamingQuery at 0x7f764082a970>"
     ]
    }
   ],
   "source": [
    "(\n",
    "    df_genomic_out.writeStream\n",
    "        .format(\"console\")\n",
    "        .start()\n",
    ")"
   ]
  },
  {
   "cell_type": "code",
   "execution_count": 0,
   "metadata": {
    "application/vnd.databricks.v1+cell": {
     "cellMetadata": {
      "byteLimit": 2048000,
      "rowLimit": 10000
     },
     "inputWidgets": {},
     "nuid": "427d6f9c-7962-48aa-9c6a-24d9ad5512b6",
     "showTitle": false,
     "title": ""
    }
   },
   "outputs": [
    {
     "output_type": "stream",
     "name": "stdout",
     "output_type": "stream",
     "text": [
      "Out[20]: <pyspark.sql.streaming.query.StreamingQuery at 0x7f7623eadf40>"
     ]
    }
   ],
   "source": [
    "df_genomic_out.writeStream.format(\"parquet\") \\\n",
    ".option(\"path\", \"dbfs:/tmp/output/genomic/\") \\\n",
    ".option(\"checkpointLocation\", \"dbfs:/tmp/checkpoints/projeto\") \\\n",
    ".start()"
   ]
  },
  {
   "cell_type": "code",
   "execution_count": 0,
   "metadata": {
    "application/vnd.databricks.v1+cell": {
     "cellMetadata": {
      "byteLimit": 2048000,
      "rowLimit": 10000
     },
     "inputWidgets": {},
     "nuid": "78daed38-f879-4fa2-8018-f65e94d7267e",
     "showTitle": false,
     "title": ""
    }
   },
   "outputs": [],
   "source": [
    "file_location = \"dbfs:/tmp/output/genomic/\"\n",
    "file_type = \"parquet\"\n",
    "df_spark = spark.read.format(file_type).load(file_location)"
   ]
  },
  {
   "cell_type": "code",
   "execution_count": 0,
   "metadata": {
    "application/vnd.databricks.v1+cell": {
     "cellMetadata": {
      "byteLimit": 2048000,
      "rowLimit": 10000
     },
     "inputWidgets": {},
     "nuid": "7e3ff137-9a85-46c7-a8c0-9e22ab9dbe34",
     "showTitle": false,
     "title": ""
    }
   },
   "outputs": [],
   "source": [
    "df_temp=df_spark.select(col(\"source.id\").alias(\"id\"),\n",
    "                col(\"source.name\").alias(\"name\"),\n",
    "                col(\"author\"),\n",
    "                col(\"title\"),\n",
    "                col(\"description\"),\n",
    "                col(\"url\"),\n",
    "                col(\"urlToImage\"),\n",
    "                col(\"publishedAt\"),\n",
    "                col(\"content\"))"
   ]
  },
  {
   "cell_type": "code",
   "execution_count": 0,
   "metadata": {
    "application/vnd.databricks.v1+cell": {
     "cellMetadata": {
      "byteLimit": 2048000,
      "rowLimit": 10000
     },
     "inputWidgets": {},
     "nuid": "5f26cbad-babe-4f07-a468-9d1928434ffe",
     "showTitle": false,
     "title": ""
    }
   },
   "outputs": [],
   "source": [
    "file_final = \"dbfs:/final/output/genomic/\"\n",
    "file_type = \"parquet\"\n",
    "df_comp = spark.read.format(file_type).load(file_location)\n",
    "\n",
    "df_comp=df_comp.select(col(\"source.id\").alias(\"id\"),\n",
    "                col(\"source.name\").alias(\"name\"),\n",
    "                col(\"author\"),\n",
    "                col(\"title\"),\n",
    "                col(\"description\"),\n",
    "                col(\"url\"),\n",
    "                col(\"urlToImage\"),\n",
    "                col(\"publishedAt\"),\n",
    "                col(\"content\"))\n",
    "\n",
    "df_final=df_comp.union(df_temp).dropDuplicates([\"url\"])\n",
    "df_final.write.mode(\"overwrite\").parquet(\"dbfs:/final/output/genomic/\")\n",
    "\n"
   ]
  },
  {
   "cell_type": "code",
   "execution_count": 0,
   "metadata": {
    "application/vnd.databricks.v1+cell": {
     "cellMetadata": {
      "byteLimit": 2048000,
      "rowLimit": 10000
     },
     "inputWidgets": {},
     "nuid": "30187857-a4e5-465c-a5f7-98484f9ce4fd",
     "showTitle": false,
     "title": ""
    }
   },
   "outputs": [
    {
     "output_type": "display_data",
     "data": {
      "text/html": [
       "<style scoped>\n",
       "  .table-result-container {\n",
       "    max-height: 300px;\n",
       "    overflow: auto;\n",
       "  }\n",
       "  table, th, td {\n",
       "    border: 1px solid black;\n",
       "    border-collapse: collapse;\n",
       "  }\n",
       "  th, td {\n",
       "    padding: 5px;\n",
       "  }\n",
       "  th {\n",
       "    text-align: left;\n",
       "  }\n",
       "</style><div class='table-result-container'><table class='table-result'><thead style='background-color: white'><tr><th>id</th><th>name</th><th>author</th><th>title</th><th>description</th><th>url</th><th>urlToImage</th><th>publishedAt</th><th>content</th></tr></thead><tbody><tr><td>null</td><td>null</td><td>null</td><td>null</td><td>null</td><td>null</td><td>null</td><td>null</td><td>null</td></tr><tr><td>null</td><td>The Intercept</td><td>Liliana Segura</td><td>DNA Evidence Sent Anthony Sanchez to Death Row. But Did It Actually Solve the Crime?</td><td>A college ballerina was raped and murdered in Oklahoma. DNA put Anthony Sanchez at the scene. But it did not tell the whole story.\n",
       "The post DNA Evidence Sent Anthony Sanchez to Death Row. But Did It Actually Solve the Crime? appeared first on The Intercept.</td><td>http://theintercept.com/2023/09/18/oklahoma-execution-dna-anthony-sanchez/</td><td>https://theintercept.com/wp-content/uploads/2023/09/anthonysanchez_lead_final_the-intercept.jpg?fit=2160%2C1080&w=1200&h=800</td><td>2023-09-18T11:00:00Z</td><td>null</td></tr><tr><td>abc-news</td><td>ABC News</td><td>GERALD IMRAY Associated Press</td><td>South Africa announces official inquiry into deadly Johannesburg building fire</td><td>The South African government says a retired judge will lead an official inquiry into last week's deadly fire at a derelict building in downtown Johannesburg</td><td>https://abcnews.go.com/International/wireStory/south-african-government-announces-official-inquiry-deadly-johannesburg-102924141</td><td>https://s.abcnews.com/images/International/wirestory_8f16805b89fccaa1291454e86db2f670_16x9_992.jpg</td><td>2023-09-05T12:33:02Z</td><td>null</td></tr><tr><td>abc-news</td><td>ABC News</td><td>SEAN MURPHY Associated Press</td><td>Man executed for the 1996 killing of a University of Oklahoma dance student</td><td>A man convicted of the 1996 killing of a University of Oklahoma dance student has been executed</td><td>https://abcnews.go.com/US/wireStory/man-set-executed-1996-slaying-university-oklahoma-dance-103369263</td><td>https://s.abcnews.com/images/US/abc_news_default_2000x2000_update_16x9_992.jpg</td><td>2023-09-21T16:21:55Z</td><td>null</td></tr><tr><td>abc-news</td><td>ABC News</td><td>ANDREW SELSKY Associated Press</td><td>Oregon man who was sentenced to death is free 2 years after murder conviction was reversed</td><td>A man sentenced to death for a 1998 murder is now free, two years after the Oregon Court of Appeals reversed the conviction</td><td>https://abcnews.go.com/US/wireStory/oregon-man-sentenced-death-free-2-years-after-102982452</td><td>https://i.abcnewsfe.com/a/3f18ab0e-36b3-4251-ae5c-965228ce27b2/wirestory_e2b065ae1d19b8ca3698a86a9a9f61e5_16x9.jpg?w=992</td><td>2023-09-07T01:33:37Z</td><td>null</td></tr><tr><td>abc-news</td><td>ABC News</td><td>The Associated Press</td><td>Remains identified of airman who died in crash following WWII bombing raid on Japan</td><td>Military scientists have identified the remains of a U.S. Army airman from Michigan who died along with 10 other crew members when a bomber crashed in India following a World War II bombing raid on Japan</td><td>https://abcnews.go.com/US/wireStory/remains-identified-michigan-airman-died-crash-wwii-bombing-103031035</td><td>https://s.abcnews.com/images/US/abc_news_default_2000x2000_update_16x9_992.jpg</td><td>2023-09-08T18:04:34Z</td><td>null</td></tr><tr><td>abc-news</td><td>ABC News</td><td>The Associated Press</td><td>Woman charged with abandoning newborn girl in New Jersey park nearly 40 years ago</td><td>The mother of a newborn girl whose body was found in a New Jersey park on Christmas Eve nearly 40 years ago has been identified and is now charged in the death</td><td>https://abcnews.go.com/US/wireStory/woman-charged-abandoning-newborn-girl-new-jersey-park-103011000</td><td>https://s.abcnews.com/images/US/abc_news_default_2000x2000_update_16x9_992.jpg</td><td>2023-09-07T21:17:43Z</td><td>null</td></tr><tr><td>null</td><td>Abduzeedo.com</td><td>abduzeedo</td><td>Los Kalakos Tequila Blanco: Minimalist Packaging Design</td><td>Los Kalakos Tequila Blanco: Minimalist Packaging Design\n",
       " \n",
       "\n",
       " abduzeedo0913—23\n",
       " Los Kalakos' Tequila Blanco 2023 isn’t just another beverage in the spirits aisle – it's a masterclass in brandjng and packaging design presented on a bottle. Commissioned by the il…</td><td>https://abduzeedo.com/node/88049</td><td>null</td><td>2023-09-13T21:09:25Z</td><td>null</td></tr><tr><td>ars-technica</td><td>Ars Technica</td><td>Beth Mole</td><td>After being demoted and forced to retire, mRNA researcher wins Nobel</td><td>Katalin Karikó and Drew Weissman awarded Nobel Prize in Physiology or Medicine.</td><td>https://arstechnica.com/health/2023/10/after-being-demoted-and-forced-to-retire-mrna-researcher-wins-nobel/</td><td>https://cdn.arstechnica.net/wp-content/uploads/2023/10/GettyImages-1701994937-760x380.jpeg</td><td>2023-10-02T19:06:09Z</td><td>null</td></tr><tr><td>ars-technica</td><td>Ars Technica</td><td>Elizabeth Rayne</td><td>Genomes could help enigmatic, endangered nocturnal parrot make a comeback</td><td>Variations linked to fertility, survival still present in a small population.</td><td>https://arstechnica.com/science/2023/09/genomes-could-help-enigmatic-endangered-nocturnal-parrot-make-a-comeback/</td><td>https://cdn.arstechnica.net/wp-content/uploads/2023/09/GettyImages-1287134021-760x380.jpg</td><td>2023-09-12T16:57:48Z</td><td>null</td></tr><tr><td>null</td><td>BGR</td><td>Joshua Hawkins</td><td>Google DeepMind could speed up the search for disease-causing genes</td><td>Google’s AI firm DeepMind says that it could help speed up the search for disease-causing genes by using AI. DeepMind is essentially Google’s AI division, …\n",
       "The post Google DeepMind could speed up the search for disease-causing genes appeared first on BGR.</td><td>https://bgr.com/tech/google-deepmind-could-speed-up-the-search-for-disease-causing-genes/</td><td>https://bgr.com/wp-content/uploads/2020/09/bgrpic-copy-16.jpg?quality=82&strip=all</td><td>2023-09-19T23:43:00Z</td><td>null</td></tr><tr><td>null</td><td>Bioengineer.org</td><td>Bioengineer</td><td>Microbe Computers (2013)</td><td>Bacteroides thetaiotaomicron is one of the good guys. Known simply as Bt, it is an abundant member of the estimated 500 to 1,000 species of bacteria that live in the human intestine and one of the</td><td>https://bioengineer.org/microbe-computers/</td><td>https://i0.wp.com/bioengineer.org/wp-content/uploads/2013/11/microbe-computers-standford.jpg?fit=500%2C300&ssl=1</td><td>2023-09-14T10:20:13Z</td><td>null</td></tr><tr><td>null</td><td>Biztoc.com</td><td>prnewswire.com</td><td>Ginkgo Bioworks Announces Multi-Target RNA Discovery Collaboration with Pfizer</td><td>BOSTON, Sept. 27, 2023 /PRNewswire/ -- Ginkgo Bioworks (NYSE: DNA) today announced a collaboration with Pfizer (NYSE: PFE) focused on the discovery of RNA-based drug candidates. In the collaboration, Pfizer will leverage to advance the discovery and developme…</td><td>https://biztoc.com/x/3b755878ca1d515a</td><td>https://c.biztoc.com/p/3b755878ca1d515a/og.webp</td><td>2023-09-27T20:26:11Z</td><td>null</td></tr><tr><td>null</td><td>Boing Boing</td><td>David Pescovitz</td><td>Bizarre golden egg found at the bottom of the ocean confounds scientists</td><td>An NOAA Ocean Exploration team found this strange golden orb two miles down on the seafloor off southern Alaska. In further freakiness, the remote vehicle's camera revealed that the mysterious orb had a hole in it. \"Something tried to get in … or to get out,\"…</td><td>https://boingboing.net/2023/09/07/bizarre-golden-egg-found-at-the-bottom-of-the-ocean-confounds-scientists.html</td><td>https://i0.wp.com/boingboing.net/wp-content/uploads/2023/09/aa8f8ac81edb4fb7e6bfe2b24321fa51.webp?fit=1140%2C642&ssl=1</td><td>2023-09-07T19:57:09Z</td><td>null</td></tr><tr><td>null</td><td>Boing Boing</td><td>David Pescovitz</td><td>Mutant worms engineered with spider genes spin silk six times tougher than bulletproof Kevlar</td><td>Researchers at China's Donghua University inserted spider genes into the DNA of silkworms resulting in worms that can spin fibers six times tougher than the bulletproof material Kevlar. They used the gene editing technology CRISPR to replace the silkworm gene…</td><td>https://boingboing.net/2023/09/21/mutant-worms-engineered-with-spider-genes-spin-silk-six-times-tougher-than-bulletproof-kevlar.html</td><td>https://i0.wp.com/boingboing.net/wp-content/uploads/2023/09/shutterstock_1991337023-scaled.jpg?fit=1200%2C835&ssl=1</td><td>2023-09-21T20:12:18Z</td><td>null</td></tr><tr><td>null</td><td>Wikipedia.org</td><td>Contributors to Wikimedia projects</td><td>The man who did not have a conversation in over 50 years</td><td>Comments</td><td>https://en.wikipedia.org/wiki/Andr%C3%A1s_Toma</td><td>https://upload.wikimedia.org/wikipedia/en/e/e1/Andr%C3%A1s_Toma.gif</td><td>2023-09-30T20:51:53Z</td><td>null</td></tr><tr><td>null</td><td>Gizmodo.com</td><td>Isaac Schultz</td><td>Scientists Recover RNA From an Extinct Species for the First Time</td><td>El último tilacino conocido, el carnívoro marsupial más grande de los últimos tiempos, murió en el zoológico Beaumaris de Tasmania en 1936. Pero el animal ha sido recientemente el objetivo de los esfuerzos de desextinción, y ahora, un equipo de investigadores…</td><td>https://es.gizmodo.com/rna-recovery-extinct-species-thylacine-tasmanian-tiger-1850853810</td><td>https://i.kinja-img.com/gawker-media/image/upload/c_fill,f_auto,fl_progressive,g_center,h_675,pg_1,q_80,w_1200/80a38dd0ce60d4e1e2fa07ab5333149a.png</td><td>2023-09-19T18:48:23Z</td><td>null</td></tr><tr><td>null</td><td>Yahoo Entertainment</td><td>Robert Langreth</td><td>Moderna Poised to Seek Flu Shot Approval After Trial Results</td><td>(Bloomberg) -- Moderna Inc. said a reformulated version of its messenger-RNA based flu shot met its primary goals in a final-stage trial — a result that...</td><td>https://finance.yahoo.com/news/moderna-poised-seek-flu-shot-103000778.html</td><td>https://s.yimg.com/ny/api/res/1.2/KN7WU0AljPNb_0Pz1c507w--/YXBwaWQ9aGlnaGxhbmRlcjt3PTEyMDA7aD04MDA-/https://media.zenfs.com/en/bloomberg_markets_842/8837dfec3df576bab19e772fa026d2ab</td><td>2023-09-13T11:41:02Z</td><td>null</td></tr><tr><td>null</td><td>Gendai.media</td><td>null</td><td>物質から生命へ、その間に何が起きたのか？分子進化の謎から「生命の起源」へ</td><td>小惑星「リュウグウ」は、炭素や窒素に富んでいて、多種多様な有機物に満ちていた。その中から、アミノ酸をはじめ、RNAのもととなるウラシルなど、生命をつくる原材料が見つかりました！　この大発見をとおし、宇宙で「生命の素」ができていることがわかりました。この記事では、高野淑識さんの専門分野となる「有機宇宙化学」という研究をとおして、宇宙での分子進化、そして「生命の起源」について紹介していきます。</td><td>https://gendai.media/articles/-/116206</td><td>https://gendai-m.ismcdn.jp/mwimgs/6/c/1200m/img_6cfe749d0d838468a32b80bf680990fb170090.jpg</td><td>2023-09-25T21:02:00Z</td><td>null</td></tr><tr><td>null</td><td>Gizmodo.com</td><td>Justin Carter</td><td>The Walking Dead: Daryl Dixon Hopes to Recapture the Original's Zombie Magic</td><td>AMC’s The Walking Dead was on the air for 11 years, which may be too long, depending on your point of view. While the franchise isn’t aiming to slow down any time soon, one of its big spinoffs is focused on Norman Reedus’ Daryl Dixon. With the fan-favorite ar…</td><td>https://gizmodo.com/daryl-dixon-greg-nicotero-original-walking-dead-1850800745</td><td>https://i.kinja-img.com/gawker-media/image/upload/c_fill,f_auto,fl_progressive,g_center,h_675,pg_1,q_80,w_1200/0280482257303a74e157e8e55f03217d.jpg</td><td>2023-09-03T19:15:00Z</td><td>null</td></tr><tr><td>null</td><td>Gizmodo.com</td><td>Cheryl Eddy</td><td>Masters of the Universe: Revolution Announces 2024 Return With Scare Glow's Help</td><td>He-Man returns to Netflix next year for more of Kevin Smith’s epic animated series—this time titled Masters of the Universe: Revolution. A new clip featuring terrifying, fiendishly taunting adversary Scare Glow is here to get you pumped for battle.Read more...</td><td>https://gizmodo.com/masters-of-universe-revolution-netflix-clip-kevin-smith-1850875574</td><td>https://i.kinja-img.com/gawker-media/image/upload/c_fill,f_auto,fl_progressive,g_center,h_675,pg_1,q_80,w_1200/9fb36abb38b0f3c67ea5adc73edea393.jpg</td><td>2023-09-27T17:05:00Z</td><td>null</td></tr><tr><td>null</td><td>Gizmodo.com</td><td>Isaac Schultz</td><td>Scientists Recover RNA From an Extinct Species for the First Time</td><td>The last known thylacine—the largest marsupial carnivore in recent times—died in Tasmania’s Beaumaris Zoo in 1936. But the animal has recently been the target of de-extinction efforts, and now, a team of researchers has managed to recover RNA from the creatur…</td><td>https://gizmodo.com/rna-recovery-extinct-species-thylacine-tasmanian-tiger-1850853441</td><td>https://i.kinja-img.com/gawker-media/image/upload/c_fill,f_auto,fl_progressive,g_center,h_675,pg_1,q_80,w_1200/80a38dd0ce60d4e1e2fa07ab5333149a.png</td><td>2023-09-19T18:48:23Z</td><td>null</td></tr><tr><td>null</td><td>Basqu.es</td><td>null</td><td>You have thousands of ancestors from the 1600s</td><td>Comments</td><td>https://kayce.basqu.es/blog/ancestors/</td><td>null</td><td>2023-09-05T02:56:33Z</td><td>null</td></tr><tr><td>null</td><td>VOA News</td><td>VOA Learning English</td><td>Scientists Win Nobel Medicine Prize for COVID-19 Vaccine Research</td><td>Two scientists have won the Nobel Prize in Medicine for discoveries that led to COVID-19 vaccines. The Nobel organization praised the winners for assisting during an “unprecedented rate of vaccine development” during the COVID-19 pandemic.</td><td>https://learningenglish.voanews.com/a/scientists-win-nobel-medicine-prize-for-covid-19-vaccine-research/7293634.html</td><td>https://gdb.voanews.com/01000000-0aff-0242-a37a-08dbc377b7f1_cx0_cy2_cw0_w1200_r1.jpg</td><td>2023-10-02T21:58:00Z</td><td>null</td></tr><tr><td>null</td><td>Marginalrevolution.com</td><td>Tyler Cowen</td><td>Emergent Ventures winners, 29th cohort</td><td>Dan Rivera, South Carolina, FavorPiedmont, addiction recovery and treatment. Lukas Bogacz, Utrecht/South Africa, to start a company based on fine-tuning LLMs. Brian Wang, MIT, Panoplia Laboratories, for DNA-based pan-virus vaccine research. Gabriel Abrams, Wa…</td><td>https://marginalrevolution.com/marginalrevolution/2023/09/emergent-ventures-winners-29th-cohort.html</td><td>https://marginalrevolution.com/wp-content/uploads/2016/10/MR-logo-thumbnail.png</td><td>2023-09-27T04:21:23Z</td><td>null</td></tr><tr><td>null</td><td>MedCity News</td><td>FRANK VINLUAN - MEDCITY NEWS</td><td>FDA Approves Updated COVID-19 Vaccines To Address Now Circulating Variants</td><td>The FDA said the updated messenger RNA vaccines from Pfizer/BioNTech and Moderna will protect against the omicron subvariants now prevalent in circulation. Left out of the FDA decision is Novavax, whose protein-based vaccine is still under regulatory review.\n",
       "…</td><td>https://medcitynews.com/2023/09/fda-approves-updated-covid-19-vaccines-to-address-now-circulating-variants/</td><td>https://medcitynews.com/uploads/2020/08/GettyImages-1208953647-1-e1597428363884.jpg</td><td>2023-09-12T14:02:20Z</td><td>null</td></tr><tr><td>null</td><td>Mindmatters.ai</td><td>null</td><td>Artificial Consciousness Remains Impossible (Part 2)</td><td>Read part one of this article series here. The following segments are responses to specific categories of counterarguments against my thesis, which you can read in part one of this article HERE.</td><td>https://mindmatters.ai/2023/09/artificial-consciousness-remains-impossible-part-2/</td><td>https://mindmatters.ai/wp-content/uploads/sites/2/2023/08/visualizatipon-of-human-consciousness-in-artificial-intelligence-process-of-thinking-robot-humanoid-android-on-dark-background-with-neurals-connection-created-with-generative-ai-stockpack-adobe-stock-scaled.jpg</td><td>2023-09-06T22:55:52Z</td><td>null</td></tr><tr><td>null</td><td>New Atlas</td><td>Paul McClure</td><td>“Jumping genes” pathway provides a potential way to slow aging</td><td>Researchers have provided experimental proof of a pathway that controls aging, finding that quieting some mobile DNA sequences in roundworms led to a longer life. Not only does the discovery provide a greater understanding of how we age, but it also opens the…</td><td>https://newatlas.com/biology/jumping-genes-pathway-a-potential-way-to-slow-aging/</td><td>https://assets.newatlas.com/dims4/default/32a927a/2147483647/strip/true/crop/1999x1049+0+141/resize/1200x630!/quality/90/?url=http%3A%2F%2Fnewatlas-brightspot.s3.amazonaws.com%2Ff4%2Fdd%2Fa30a367a49eb8117e3d6d2643d01%2Fdepositphotos-41225949-l.jpg&na.image_optimisation=0</td><td>2023-09-26T06:53:54Z</td><td>null</td></tr><tr><td>null</td><td>New Atlas</td><td>Michael Irving</td><td>First RNA extracted from extinct species may help thylacine resurrection</td><td>Scientists have successfully extracted RNA molecules from an extinct species for the first time. The milestone was achieved in the thylacine, a species of carnivorous marsupial that roamed Australia until about a century ago – and may again one day, if curren…</td><td>https://newatlas.com/biology/thylacine-rna-extracted-extinct-species/</td><td>https://assets.newatlas.com/dims4/default/29ad3c3/2147483647/strip/true/crop/1119x587+0+30/resize/1200x630!/quality/90/?url=http%3A%2F%2Fnewatlas-brightspot.s3.amazonaws.com%2F7f%2F0a%2Fe49bb08547268769a9185ca5c7f8%2Fthylacine-color.png&na.image_optimisation=0</td><td>2023-09-25T06:01:52Z</td><td>null</td></tr><tr><td>null</td><td>New Atlas</td><td>Paul McClure</td><td>COVID’s – and other viruses’ – Achilles' heel identified</td><td>Researchers have identified how the SARS-CoV-2 virus that causes COVID-19 takes advantage of our cellular machinery to replicate and spread in the body, and, importantly, a way to stop it. The finding could lead to the development of a new class of antiviral …</td><td>https://newatlas.com/medical/achilles-heel-identified-for-covid-and-other-viruses/</td><td>https://assets.newatlas.com/dims4/default/8977111/2147483647/strip/true/crop/1879x986+0+133/resize/1200x630!/quality/90/?url=http%3A%2F%2Fnewatlas-brightspot.s3.amazonaws.com%2F4f%2Fc9%2F0175f6c84671ab575a630e4fb9bf%2Fdepositphotos-496378584-l.jpg&na.image_optimisation=0</td><td>2023-09-15T02:37:46Z</td><td>null</td></tr><tr><td>null</td><td>New Atlas</td><td>Paul McClure</td><td>Mysterious circular RNA linked to Alzheimer’s & Parkinson’s disease</td><td>Researchers have gained new insights into largely overlooked circular RNAs in brain cells and the crucial role they play in diseases like Alzheimer’s and Parkinson’s. In addition to providing valuable information about the molecular mechanisms underlying thes…</td><td>https://newatlas.com/medical/mysterious-circular-rna-linked-to-alzheimers-parkinsons-disease/</td><td>https://assets.newatlas.com/dims4/default/6978e46/2147483647/strip/true/crop/2000x1050+0+142/resize/1200x630!/quality/90/?url=http%3A%2F%2Fnewatlas-brightspot.s3.amazonaws.com%2F5c%2Fc4%2F284e63044f03be85b705f4703a3e%2Fdepositphotos-58856987-l.jpg&na.image_optimisation=0</td><td>2023-09-21T06:56:01Z</td><td>null</td></tr><tr><td>null</td><td>New Atlas</td><td>Michael Irving</td><td>Nobel prize awarded to scientists who set stage for mRNA COVID vaccines</td><td>The 2023 Nobel Prize in Physiology or Medicine has been awarded to biochemist Katalin Karikó and immunologist Drew Weissman for discoveries that enabled the development of mRNA vaccines against COVID-19.Continue ReadingCategory: Medical, ScienceTags: Nobel pr…</td><td>https://newatlas.com/medical/nobel-prize-physiology-medicine-2023-mrna-covid-vaccines/</td><td>https://assets.newatlas.com/dims4/default/acf1ddb/2147483647/strip/true/crop/2000x1050+0+225/resize/1200x630!/quality/90/?url=http%3A%2F%2Fnewatlas-brightspot.s3.amazonaws.com%2F78%2Fc1%2F05d0affe43fc90ef0171962be1aa%2Fvaccines.jpg&na.image_optimisation=0</td><td>2023-10-03T01:17:56Z</td><td>null</td></tr><tr><td>null</td><td>New Atlas</td><td>Ben Coxworth</td><td>Plant virus recruited to save crops from root-eating nematodes</td><td>Plant parasitic nematodes are microscopic soil-dwelling creatures that damage crops by feeding on their roots. Scientists have now developed a greener and more efficient means of eradicating them, using a modified plant virus.Continue ReadingCategory: Science…</td><td>https://newatlas.com/science/plant-virus-nonoparticles-nematodes/</td><td>https://assets.newatlas.com/dims4/default/83f46a1/2147483647/strip/true/crop/2000x1050+0+142/resize/1200x630!/quality/90/?url=http%3A%2F%2Fnewatlas-brightspot.s3.amazonaws.com%2Fad%2F1d%2F7b4a48344dfc89402ca62ef68949%2Fdepositphotos-643016864-l.jpg&na.image_optimisation=0</td><td>2023-09-22T17:17:51Z</td><td>null</td></tr><tr><td>null</td><td>Northwestern.edu</td><td>null</td><td>Covid patients breathe out large amounts of virus early on</td><td>Northwestern investigators collect samples over the entire course of infection to determine when a person is most infectious</td><td>https://news.northwestern.edu/stories/2023/09/covid-patients-exhale-up-to-1000-copies-of-virus-per-minute-during-first-eight-days-of-symptoms/</td><td>https://news.northwestern.edu/assets/Stories/2023/09/COVID-on-breath-Cision__FocusFillWzk3MCw1MDksInkiLDcxXQ.jpg</td><td>2023-09-12T17:01:20Z</td><td>null</td></tr><tr><td>null</td><td>Slashdot.org</td><td>msmash</td><td>Researcher Shows Bodies of Purported 'Non-Human' Beings To Mexican Congress at UFO Hearing</td><td>A journalist and researcher on unidentified anomalous phenomena (UAP), or UFOs as they're better known, presented the remains of purported \"non-human\" beings to lawmakers in Mexico on Tuesday during the country's first public congressional hearing on the topi…</td><td>https://news.slashdot.org/story/23/09/13/1714242/researcher-shows-bodies-of-purported-non-human-beings-to-mexican-congress-at-ufo-hearing</td><td>https://a.fsdn.com/sd/topics/news_64.png</td><td>2023-09-13T17:20:00Z</td><td>null</td></tr><tr><td>null</td><td>Yahoo Entertainment</td><td>Will Dunham</td><td>In a first, RNA is recovered from extinct Tasmanian tiger</td><td>The Tasmanian tiger, a dog-sized striped carnivorous marsupial also called the thylacine, once roamed the Australian continent and adjacent islands, an apex ...</td><td>https://news.yahoo.com/first-rna-recovered-extinct-tasmanian-180457917.html</td><td>https://media.zenfs.com/en/reuters.com/150c85712ec930252bae5abb02e2f944</td><td>2023-09-19T18:04:57Z</td><td>null</td></tr><tr><td>null</td><td>Yahoo Entertainment</td><td>STEVE LeBLANC</td><td>Man accused of walking into FBI office, confessing to killing Boston woman in 1979</td><td>A 68-year-old man walked into an FBI field office in Oregon and confessed to bludgeoning a woman to death more than four decades ago in Boston's Back Bay...</td><td>https://news.yahoo.com/man-accused-walking-fbi-office-193005802.html</td><td>https://s.yimg.com/cv/apiv2/social/images/yahoo_default_logo-1200x1200.png</td><td>2023-09-11T19:30:05Z</td><td>null</td></tr><tr><td>null</td><td>Yahoo Entertainment</td><td>Melissa Healy</td><td>Scientists whose work on mRNA paved the way for first COVID-19 vaccines win Nobel Prize</td><td>Nobel Prize winners Katalin Karikó and Drew Weissman harnessed messenger RNA, an advance that led to the Pfizer and Moderna COVID-19 vaccines.</td><td>https://news.yahoo.com/scientists-whose-mrna-paved-way-094652617.html</td><td>https://media.zenfs.com/en/la_times_articles_853/8028e0ac614d01814fd675d6068015fa</td><td>2023-10-02T09:46:52Z</td><td>null</td></tr><tr><td>null</td><td>Olhardigital.com.br</td><td>Alessandro Di Lorenzo</td><td>IA vai descobrir a cura do câncer, diz CEO da Moderna</td><td>Segundo Stéphane Bancel, a cura do câncer será descoberta através de vacinas de RNA mensageiro, e a IA já pode ter auxiliado nesse processo\n",
       "O post IA vai descobrir a cura do câncer, diz CEO da Moderna apareceu primeiro em Olhar Digital.</td><td>https://olhardigital.com.br/2023/09/15/medicina-e-saude/ia-vai-descobrir-a-cura-do-cancer-diz-ceo-da-moderna/</td><td>https://img.olhardigital.com.br/wp-content/uploads/2023/08/Cancer.jpg</td><td>2023-09-15T15:08:06Z</td><td>null</td></tr><tr><td>null</td><td>Olhardigital.com.br</td><td>Pedro Borges Spadoni</td><td>Dupla de cientistas ganha Nobel de Medicina por vacina contra Covid-19</td><td>A bioquímica Katalin Karikó e o médico Drew Weissman ganharam o prêmio por descobertas que levaram ao desenvolvimento das vacinas\n",
       "O post Dupla de cientistas ganha Nobel de Medicina por vacina contra Covid-19 apareceu primeiro em Olhar Digital.</td><td>https://olhardigital.com.br/2023/10/02/medicina-e-saude/dupla-de-cientistas-ganha-nobel-de-medicina-por-vacina-contra-covid-19/</td><td>https://proxy.olhardigital.com.br/wp-content/uploads/2023/10/Destaque-Nobel-Medicina.jpg</td><td>2023-10-02T13:48:08Z</td><td>null</td></tr><tr><td>null</td><td>Pansci.asia</td><td>鳥苷三磷酸 (PanSci Promo)</td><td>腸病毒不可輕忽！孩童是重症高危險群，該如何保護家中孩童？疫苗真的有用嗎？</td><td>2023 年，截至 7 月 8 日，感染腸病毒併發重症病例已經累計 6 例，而且都是 5 歲以下幼童。這個天氣開始變熱，也就是腸病毒肆虐的好發季節。今天我們就來談談什麼是「腸病毒」？ 以及 7 月上路的「腸病毒疫苗」是否有效？而目前的研究現況是什麼？</td><td>https://pansci.asia/archives/367837</td><td>https://pansci.asia/wp-content/uploads/2023/07/peple-gettig-vaccine-for-covid-19-virus-vaccinati-2021-09-03-19-42-53-utc-942x628.jpg</td><td>2023-09-13T11:14:22Z</td><td>null</td></tr><tr><td>null</td><td>Pansci.asia</td><td>PanSci</td><td>對腫瘤最終兵器！癌症療法新選擇，基改溶瘤病毒為何備受期待？</td><td>為您介紹抗癌的最新武器——以毒攻毒！用溶瘤病毒感染癌細胞！\n",
       "而溶瘤病毒要怎麼在傷害癌細胞的同時，又不影響健康細胞生存呢？</td><td>https://pansci.asia/archives/368691</td><td>https://pansci.asia/wp-content/uploads/2023/08/dfv-1020x573.jpg</td><td>2023-09-04T08:23:48Z</td><td>null</td></tr><tr><td>null</td><td>Pansci.asia</td><td>PanSci</td><td>阿斯巴甜真的致癌嗎？代糖為何能超甜又零熱量？它是如何騙過舌頭產生甜味的？</td><td>代糖為什麼可以沒熱量又這麼甜？它是怎麼被發現的？\n",
       "近年代糖出現致癌爭議，它會對我們的健康造成影響嗎？</td><td>https://pansci.asia/archives/369138</td><td>https://pansci.asia/wp-content/uploads/2023/08/image-44-942x628.png</td><td>2023-09-05T07:00:00Z</td><td>null</td></tr><tr><td>null</td><td>Pansci.asia</td><td>研之有物│中央研究院</td><td>研究自閉症成因的新思路：環狀 RNA——專訪中研院基因體研究中心莊樹諄研究員</td><td>自閉症是一種病因成謎的複雜疾病，但我們在環狀 RNA 上看見一些可能性。</td><td>https://pansci.asia/archives/369534</td><td>https://pansci.asia/wp-content/uploads/2023/09/chuang-trees-juen-07-scaled-1-942x628.jpg</td><td>2023-09-22T08:00:00Z</td><td>null</td></tr><tr><td>null</td><td>Pansci.asia</td><td>雅文兒童聽語文教基金會</td><td>「拜託」最好和右耳說：解密聽覺「右耳優勢」現象</td><td>「拜託」還要選邊站！\n",
       "怎麼樣溝通更容易成功？答案是在對方的右耳邊說話！</td><td>https://pansci.asia/archives/369622</td><td>https://pansci.asia/wp-content/uploads/2023/09/giphy-7.gif</td><td>2023-09-20T02:00:00Z</td><td>null</td></tr><tr><td>null</td><td>Pansci.asia</td><td>臉譜出版</td><td>人類是少數能看見斑馬條紋的物種！人類的視力到底有多好？——《五感之外的世界》</td><td>人類的五感和其他物種比起來多半稱不上敏銳，唯獨視力鶴立雞群……？</td><td>https://pansci.asia/archives/369647</td><td>https://pansci.asia/wp-content/uploads/2023/09/magnifying-4340698_1280-942x628.jpg</td><td>2023-09-18T08:00:00Z</td><td>null</td></tr><tr><td>null</td><td>Pansci.asia</td><td>careonline</td><td>皮膚出現點狀出血、大片瘀斑！——免疫性血小板減少症警訊與治療</td><td>免疫性血小板減少症 ITP（Immune thrombocytopenia）是一種自體免疫疾病，患者的免疫系統產生自體抗體攻擊自己的血小板，使血小板數量減少。</td><td>https://pansci.asia/archives/369814</td><td>https://pansci.asia/wp-content/uploads/2023/09/immune-thrombocytopenia-1.jpg</td><td>2023-09-20T05:18:27Z</td><td>null</td></tr><tr><td>null</td><td>Phys.Org</td><td>Science X</td><td>Chromosomal instability in cancer cells causes DNA damage and promotes invasiveness: Study</td><td>Chromosomal instability is a phenomenon characterized by rapid changes in the number and structure of chromosomes during cell division. It is very common in solid tumors and it is linked to the aggressive spread of cancer, that is to say, metastasis. Given th…</td><td>https://phys.org/news/2023-09-chromosomal-instability-cancer-cells-dna.html</td><td>https://scx2.b-cdn.net/gfx/news/2023/chromosomal-instabilit.jpg</td><td>2023-09-26T13:06:12Z</td><td>null</td></tr><tr><td>null</td><td>Phys.Org</td><td>Krisy Gashler</td><td>Environmental DNA breakthrough detects genetic diversity of invasive fish</td><td>Ecologists have demonstrated that the genetic material that species shed into their environments can reveal not only the presence of the species but also a broad range of information about the genetics of whole populations.</td><td>https://phys.org/news/2023-09-environmental-dna-breakthrough-genetic-diversity.html</td><td>https://scx2.b-cdn.net/gfx/news/hires/2023/environmental-dna-brea.jpg</td><td>2023-09-11T16:15:02Z</td><td>null</td></tr><tr><td>null</td><td>Phys.Org</td><td>Science X</td><td>Freshwater connectivity can transport environmental DNA through the landscape</td><td>A new paper published in the journal Proceedings of the Royal Society B used environmental DNA (eDNA) metabarcoding to analyze fish and zooplankton communities.</td><td>https://phys.org/news/2023-09-freshwater-environmental-dna-landscape.html</td><td>https://scx2.b-cdn.net/gfx/news/hires/2023/freshwater-connectivit-1.jpg</td><td>2023-09-13T00:00:01Z</td><td>null</td></tr><tr><td>null</td><td>Phys.Org</td><td>Science X</td><td>Mature sperm lack intact mitochondrial DNA, study finds</td><td>New research provides insight about the bedrock scientific principle that mitochondrial DNA—the distinct genetic code embedded in the organelle that serves as the powerplant of every cell in the body—is exclusively passed down by the mother.</td><td>https://phys.org/news/2023-09-mature-sperm-lack-intact-mitochondrial.html</td><td>https://scx2.b-cdn.net/gfx/news/hires/2021/sperm.jpg</td><td>2023-09-18T15:00:01Z</td><td>null</td></tr><tr><td>null</td><td>Phys.Org</td><td>Science X</td><td>Mechanism of methyltransferase METTL8-mediated mitochondrial RNA m3C modification and its relaxed substrate specificity</td><td>A study published in the journal Science Bulletin was led by Profs. Xiao-Long Zhou and En-Duo Wang (CAS Center for Excellence in Molecular Cell Science, Shanghai Institute of Biochemistry and Cell Biology, Chinese Academy of Sciences).</td><td>https://phys.org/news/2023-09-mechanism-methyltransferase-mettl8-mediated-mitochondrial-rna.html</td><td>https://scx2.b-cdn.net/gfx/news/2023/mechanism-of-methyltra.jpg</td><td>2023-09-27T18:27:02Z</td><td>null</td></tr><tr><td>null</td><td>Phys.Org</td><td>Science X</td><td>Nanopore sequencing and DNA barcoding method gives hope of personalized medicine</td><td>With the ability to map dozens of biomarkers at once, a new method could transform testing for conditions including heart disease and cancer.</td><td>https://phys.org/news/2023-09-nanopore-sequencing-dna-barcoding-method.html</td><td>https://scx2.b-cdn.net/gfx/news/hires/2023/nanopore-sequencing-an.jpg</td><td>2023-09-25T15:00:01Z</td><td>null</td></tr><tr><td>null</td><td>Phys.Org</td><td>Science X</td><td>New nanopore tech for quicker, more thorough mRNA quality checks</td><td>Researchers at The University of Queensland are harnessing the latest sequencing technology developed by UK-based biotech Oxford Nanopore Technologies to analyze mRNA vaccines and therapies.</td><td>https://phys.org/news/2023-09-nanopore-tech-quicker-mrna-quality.html</td><td>https://scx2.b-cdn.net/gfx/news/hires/2023/new-nanopore-tech-for.jpg</td><td>2023-09-21T15:06:42Z</td><td>null</td></tr><tr><td>null</td><td>Phys.Org</td><td>Science X</td><td>A NICER approach to genome editing</td><td>The gene editing technique CRISPR/Cas9 has allowed researchers to make precise and impactful changes to an organism's DNA to fix mutations that cause genetic disease. However, the CRISPR/Cas9 method can also result in unintended DNA mutations that may have ne…</td><td>https://phys.org/news/2023-09-nicer-approach-genome.html</td><td>https://scx2.b-cdn.net/gfx/news/2023/a-nicer-approach-to-ge.jpg</td><td>2023-09-15T09:00:01Z</td><td>null</td></tr><tr><td>null</td><td>Phys.Org</td><td>Science X</td><td>Facilitating a new nucleic acid detection platform</td><td>DNA phosphorothioate (PT)-modification, with a non-bridging oxygen in the phosphodiester backbone substituted by sulfur, is an epigenetic marker in prokaryotes and is involved in the bacterial defense system, anti-oxidative stress, and gene regulation. PT-mod…</td><td>https://phys.org/news/2023-09-nucleic-acid-platform.html</td><td>https://scx2.b-cdn.net/gfx/news/hires/2023/characterization-and-e.jpg</td><td>2023-09-29T08:01:36Z</td><td>null</td></tr><tr><td>null</td><td>Phys.Org</td><td>Kim Krieger</td><td>Researchers publish first full DNA map of the endangered butternut</td><td>Butternuts are soft and oily, with a light walnut flavor that lingers on the tongue. But few Americans have tasted this endangered native. Now, UConn undergraduates have published the first full map of the unusual tree's DNA in G3 . It has been accepted for p…</td><td>https://phys.org/news/2023-09-publish-full-dna-endangered-butternut.html</td><td>https://scx2.b-cdn.net/gfx/news/hires/2023/researchers-publish-fi-1.jpg</td><td>2023-09-13T17:50:21Z</td><td>null</td></tr><tr><td>null</td><td>Phys.Org</td><td>Science X</td><td>Q&A: Xiaohan Yang on transforming plants for a cleaner future</td><td>Scientist Xiaohan Yang's research at the Department of Energy's Oak Ridge National Laboratory focuses on transforming plants to make them better sources of renewable energy and carbon storage.</td><td>https://phys.org/news/2023-09-qa-xiaohan-yang-cleaner-future.html</td><td>https://scx2.b-cdn.net/gfx/news/hires/2020/plant.jpg</td><td>2023-09-27T16:10:01Z</td><td>null</td></tr><tr><td>null</td><td>Phys.Org</td><td>Heidi Opdyke</td><td>Researchers develop a new reagent and method to create DNA and RNA polymer biohybrids</td><td>Researchers in Carnegie Mellon University's Department of Chemistry have developed a reagent that opens new possibilities for creating DNA and RNA-based materials that could be used in ultra-stable and smart sensors for biomedical applications. The work was p…</td><td>https://phys.org/news/2023-09-reagent-method-dna-rna-polymer.html</td><td>https://scx2.b-cdn.net/gfx/news/2023/researchers-develop-a-11.jpg</td><td>2023-09-04T13:27:04Z</td><td>null</td></tr><tr><td>null</td><td>Phys.Org</td><td>Science X</td><td>New ribozyme can make RNA molecules accessible for click chemistry in living cells</td><td>RNA molecules are real all-rounders. They transfer the genetic information from the DNA in the cell. They regulate the activity of genes. And some of them have a catalytic effect: just like enzymes, they enable biochemical reactions that would be difficult or…</td><td>https://phys.org/news/2023-09-ribozyme-rna-molecules-accessible-click.html</td><td>https://scx2.b-cdn.net/gfx/news/2023/new-ribozyme-can-make.jpg</td><td>2023-09-04T16:24:11Z</td><td>null</td></tr><tr><td>null</td><td>Phys.Org</td><td>Sam Sholtis</td><td>Could RNA folding play a role in the origin of life?</td><td>To investigate potential early steps taken by the first life to develop on Earth, researchers have been studying a model of pre-life protocells comprising membraneless compartments. Now, a team of Penn State scientists have found that RNA molecules within the…</td><td>https://phys.org/news/2023-09-rna-play-role-life.html</td><td>https://scx2.b-cdn.net/gfx/news/hires/2023/could-rna-folding-play.jpg</td><td>2023-09-27T14:22:51Z</td><td>null</td></tr><tr><td>null</td><td>Phys.Org</td><td>Science X</td><td>Scientists discover biomimetic macrophage technology to combat antibiotic resistance</td><td>A research team led by Shuilin Wu at Tianjin University, China, has made a discovery in the field of intelligent catalysis. Their research article titled \"Biomimetic Macrophage–Fe3O4@PLGA Particle-Triggered Intelligent Catalysis for Killing Multidrug-Resistan…</td><td>https://phys.org/news/2023-09-scientists-biomimetic-macrophage-technology-combat.html</td><td>https://scx2.b-cdn.net/gfx/news/hires/2023/chinese-scientists-dis-1.jpg</td><td>2023-09-28T21:04:03Z</td><td>null</td></tr><tr><td>null</td><td>Phys.Org</td><td>Science X</td><td>Scientists discover a new way to test for life on Mars</td><td>Space scientists have discovered a new process to test for life on Mars and on Earth, using cutting-edge technology to sequence DNA using the tiniest possible sample of DNA mass.</td><td>https://phys.org/news/2023-09-scientists-life-mars.html</td><td>https://scx2.b-cdn.net/gfx/news/hires/2023/a-new-way-to-test-for.jpg</td><td>2023-09-25T15:45:39Z</td><td>null</td></tr><tr><td>null</td><td>Phys.Org</td><td>Caitlin Sedwick</td><td>Singling out a bacterium from the crowd</td><td>Bacteria are nearly ubiquitous and have tremendous impacts on human and ecological health. And yet, they remain largely mysterious to us. Princeton MOL faculty Zemer Gitai, Britt Adamson and Ned Wingreen launched a joint effort to develop new tools to help us…</td><td>https://phys.org/news/2023-09-singling-bacterium-crowd.html</td><td>https://scx2.b-cdn.net/gfx/news/2023/singling-out-a-bacteri.jpg</td><td>2023-09-14T14:58:29Z</td><td>null</td></tr><tr><td>null</td><td>Phys.Org</td><td>Zhang Nannan</td><td>'Sociability' of locusts: Social interactions promote aggregation</td><td>In a study published in the Proceedings of the National Academy of Sciences on Sept. 5, researchers led by Prof. Kang Le from the Beijing Institutes of Life Science of the Chinese Academy of Sciences have provided a deep understanding of the \"sociability\" of …</td><td>https://phys.org/news/2023-09-sociability-locusts-social-interactions-aggregation.html</td><td>https://scx2.b-cdn.net/gfx/news/hires/2023/sociability-of-locusts.jpg</td><td>2023-09-12T14:38:03Z</td><td>null</td></tr><tr><td>null</td><td>Phys.Org</td><td>Bob Yirka</td><td>Team develops technique for building DNA-based programmable gate arrays</td><td>A team of chemists and chemical engineers at Shanghai Jiao Tong University, working with a colleague from the Chinese Academy of Sciences, both in China, has built a DNA-based programmable gate array for use in general-purpose DNA computing. In their study, r…</td><td>https://phys.org/news/2023-09-team-technique-dna-based-programmable-gate.html</td><td>https://scx2.b-cdn.net/gfx/news/hires/2023/team-develops-techniqu.jpg</td><td>2023-09-14T14:40:02Z</td><td>null</td></tr><tr><td>null</td><td>Phys.Org</td><td>Silvia Cernea Clark</td><td>Tiny CRISPR tool could help shred viruses</td><td>Small and precise: These are the ideal characteristics for CRISPR systems, the Nobel-prize winning technology used to edit nucleic acids like RNA and DNA.</td><td>https://phys.org/news/2023-09-tiny-crispr-tool-shred-viruses.html</td><td>https://scx2.b-cdn.net/gfx/news/hires/2023/tiny-crispr-tool-could.jpg</td><td>2023-09-27T14:13:04Z</td><td>null</td></tr><tr><td>null</td><td>Phys.Org</td><td>Liu Jia</td><td>Researchers uncover novel physiological functions of CRISPR-Cas guard RNA</td><td>How the expression of Cas proteins in bacterial CRISPR-Cas immune system adapts to the constantly changing CRISPR structures and crRNA expression levels has been a long-standing unresolved question.</td><td>https://phys.org/news/2023-09-uncover-physiological-functions-crispr-cas-rna.html</td><td>https://scx2.b-cdn.net/gfx/news/2023/researchers-uncover-no-2.jpg</td><td>2023-09-08T13:46:14Z</td><td>null</td></tr><tr><td>null</td><td>Phys.Org</td><td>Peter Rüegg</td><td>Cell biologists identify new organelle present in mammalian cells made of rings of DNA</td><td>Researchers at ETH Zurich recently identified a previously unknown compartment in mammalian cells. They have named it the exclusome. It is made up of DNA rings known as plasmids. The researchers have published details of their discovery in the journal Molecul…</td><td>https://phys.org/news/2023-10-cell-biologists-organelle-mammalian-cells.html</td><td>https://scx2.b-cdn.net/gfx/news/2023/a-hygiene-program-for.jpg</td><td>2023-10-02T13:56:20Z</td><td>null</td></tr><tr><td>null</td><td>Phys.Org</td><td>Michelle Klampe</td><td>DNA from discarded whale bones suggests loss of genetic diversity due to commercial whaling</td><td>Commercial whaling in the 20th century decimated populations of large whales but also appears to have had a lasting impact on the genetic diversity of today's surviving whales, new research from Oregon State University shows.</td><td>https://phys.org/news/2023-10-dna-discarded-whale-bones-loss.html</td><td>https://scx2.b-cdn.net/gfx/news/2023/dna-from-discarded-wha.jpg</td><td>2023-10-02T20:36:04Z</td><td>null</td></tr><tr><td>null</td><td>Phys.Org</td><td>Science X</td><td>Kariko, Weissman win Nobel for mRNA COVID vaccines</td><td>Katalin Kariko of Hungary and Drew Weissman of the United States won the Nobel Medicine Prize on Monday for work on messenger RNA (mRNA) technology that paved the way for COVID-19 vaccines.</td><td>https://phys.org/news/2023-10-kariko-weissman-nobel-mrna-covid.html</td><td>https://scx2.b-cdn.net/gfx/news/hires/2023/katalin-karik-and-drew-1.jpg</td><td>2023-10-02T10:01:47Z</td><td>null</td></tr><tr><td>null</td><td>Phys.Org</td><td>Science X</td><td>Wheat's long non-coding RNAs unveiled: A leap in understanding grain development</td><td>Wheat is a global staple food and plays a pivotal role in the livelihoods of billions of people. Although long non-coding RNAs (lncRNAs) have been recognized as crucial regulators of numerous biological processes, our knowledge of lncRNAs associated with whea…</td><td>https://phys.org/news/2023-10-wheat-non-coding-rnas-unveiled-grain.html</td><td>https://scx2.b-cdn.net/gfx/news/2023/wheats-long-non-coding.jpg</td><td>2023-10-02T13:24:04Z</td><td>null</td></tr><tr><td>null</td><td>Royal Society of Chemistry</td><td>Odelia Tepper, Hongchao Zheng, Daniel H. Appella, Eylon Yavin</td><td>Correction: Cyclopentane FIT-PNAs: bright RNA sensors</td><td>Chem. Commun., 2023, Advance ArticleDOI: 10.1039/D3CC90303F, Correction Open Access &nbsp This article is licensed under a Creative Commons Attribution 3.0 Unported Licence.Odelia Tepper, Hongchao Zheng, Daniel H. Appella, Eylon YavinTo cite this article befo…</td><td>https://pubs.rsc.org/en/content/articlelanding/2023/cc/d3cc90303f</td><td>null</td><td>2023-09-14T23:00:00Z</td><td>null</td></tr><tr><td>null</td><td>[Removed]</td><td>null</td><td>[Removed]</td><td>[Removed]</td><td>https://removed.com</td><td>null</td><td>1970-01-01T00:00:00Z</td><td>null</td></tr><tr><td>null</td><td>Slashdot.org</td><td>EditorDavid</td><td>China's Quest for Human Genetic Data Spurs Fears of a DNA Arms Race</td><td>In 2020 Serbian scientists were gifted China's \"Fire-Eye\" labs, remembers the Washington Post. The sophisticated portable labs \"excelled not only at cracking the genetic code for viruses, but also for humans, with machines that can decipher genetic instructio…</td><td>https://science.slashdot.org/story/23/09/23/055211/chinas-quest-for-human-genetic-data-spurs-fears-of-a-dna-arms-race</td><td>https://a.fsdn.com/sd/topics/china_64.png</td><td>2023-09-23T14:34:00Z</td><td>null</td></tr><tr><td>null</td><td>Slashdot.org</td><td>msmash</td><td>Nobel Prize Awarded To Covid Vaccine Pioneers</td><td>Katalin Kariko and Drew Weissman, who together identified a chemical tweak to messenger RNA, were awarded the Nobel Prize in Physiology or Medicine on Monday. Their work enabled potent Covid vaccines to be made in less than a year, averting tens of millions o…</td><td>https://science.slashdot.org/story/23/10/02/184259/nobel-prize-awarded-to-covid-vaccine-pioneers</td><td>https://a.fsdn.com/sd/topics/medicine_64.png?refresh=now</td><td>2023-10-02T18:04:00Z</td><td>null</td></tr><tr><td>null</td><td>Sciencebasedmedicine.org</td><td>Steven Novella</td><td>Self-Amplifying RNA Vaccines</td><td>Self-Amplifying RNA vaccines are coming. Here's a primer to get you ready.\n",
       "The post Self-Amplifying RNA Vaccines first appeared on Science-Based Medicine.</td><td>https://sciencebasedmedicine.org/self-amplifying-rna-vaccines/</td><td>https://sciencebasedmedicine.org/wp-content/uploads/2023/09/saRNA-vaccines.jpg</td><td>2023-09-06T11:58:54Z</td><td>null</td></tr><tr><td>null</td><td>Slate Magazine</td><td>Jenée Desmond-Harris</td><td>Help! My Brother Refuses to Tell His Daughter the Truth About How She Was Conceived.</td><td>She should know.</td><td>https://slate.com/human-interest/2023/09/brother-niece-pregnancy-dear-prudence-advice.html</td><td>https://compote.slate.com/images/49578860-c365-459c-ad8e-5ba13028986a.jpeg?crop=1560%2C1040%2Cx0%2Cy0&width=1560</td><td>2023-09-05T15:32:18Z</td><td>null</td></tr><tr><td>null</td><td>Spidersweb.pl</td><td>Rafał Dadura</td><td>Jak powstało życie na Ziemi? Odpowiedź może dać… attochemia</td><td>Małe kałuże wody wystawione na intensywne promieniowanie mogły stać się laboratoriami gdzie powstały materiały budulcowe życia, czyli DNA i RNA.</td><td>https://spidersweb.pl/2023/09/zycie-na-ziemi-chemia-reakcje-chemiczne-mocznik.html</td><td>https://ocs-pl.oktawave.com/v1/AUTH_2887234e-384a-4873-8bc5-405211db13a2/spidersweb/2022/04/dna-min.jpg</td><td>2023-09-16T10:20:00Z</td><td>null</td></tr><tr><td>null</td><td>Sputnikglobe.com</td><td>Chimauchem  Nwosu</td><td>Scientists Extract RNA of Extinct Tasmanian Tiger</td><td>Scientists have achieved a monumental breakthrough in genetic research, successfully extracting RNA from a preserved Tasmanian tiger specimen. This unprecedented feat opens new doors to understanding extinct species and also offers insights into past pandemic…</td><td>https://sputnikglobe.com/20230920/scientists-extract-rna-of-extinct-tasmanian-tiger-1113529894.html</td><td>https://cdn1.img.sputnikglobe.com/images/sharing/article/eng/1113529894.jpg?10519663781695218642</td><td>2023-09-20T14:04:02Z</td><td>null</td></tr><tr><td>null</td><td>taz.de</td><td>Ann-Kathrin Leclere</td><td>Forschung zu Messenger-RNA: Impfgegner hassen ihren Trick</td><td>Katalin Karikó hat die Grundlage für Corona-Impfstoffe geschaffen. Dabei hat lange niemand an die mRNA geglaubt, trotzdem hat sie weitergemacht.</td><td>https://taz.de/Forschung-zu-Messenger-RNA/!5959278/</td><td>https://taz.de/picture/6534319/948/Katlin-Kariko-1.jpeg</td><td>2023-09-22T16:38:00Z</td><td>null</td></tr><tr><td>null</td><td>Technews.tw</td><td>黃 嬿</td><td>北歐科學家成功取得袋狼 RNA，稱復活滅絕物種可平衡生態</td><td>袋狼曾經是澳洲大陸和鄰近島嶼塔斯馬尼亞森林中的頂級掠食者，但 130 年前滅亡，最後一隻已知的袋狼於 1936 年在塔斯馬尼亞動物園去世。最近北歐科學家從博物館收藏的袋狼標本中成功回收 RNA，是全球首例。由於塔斯馬尼亞森林至今未受破壞，科學家相信物種復活可以重新平衡當地生態。 袋狼有標誌性的條紋，...</td><td>https://technews.tw/2023/09/22/recovered-from-extinct-animals-from-rna/</td><td>https://img.technews.tw/wp-content/uploads/2023/09/22132230/47661336791_cb15afa9ec_c.jpg</td><td>2023-09-22T05:36:49Z</td><td>null</td></tr><tr><td>null</td><td>Thebridge.jp</td><td>VentureBeat</td><td>ジェネレーティブAIブーム立役者の一人、今度はバイオの世界に身を投じワクチンを再発明へ</td><td>元 Google AI 研究者の Jakob Uszkoreit 氏は、ChatGPT や他のほとんどの大規模言語モデル（LLM）を支えることになった Transformers アーキテクチャを紹介した2017年の代表的論文「Attention is All You Need」の共著者8人のうちの1人だ。最近、Nvidia やAndreessen Horowitz などの投資家から1億米ドルを調達...\n",
       "The post ジェネレーティブAIブーム立役者の一人、今度はバイオの世界に身を投じワクチンを再発明へ fi…</td><td>https://thebridge.jp/2023/09/this-ex-googler-helped-launch-the-gen-ai-boom-now-he-wants-to-reinvent-vaccines</td><td>https://thebridge.jp/wp-content/uploads/2023/09/Jakob-Uszkoreit.jpg</td><td>2023-09-28T22:15:43Z</td><td>null</td></tr><tr><td>the-next-web</td><td>The Next Web</td><td>Ioanna Lykiardopoulou</td><td>DeepMind’s new AI tool can predict genetic diseases</td><td>Google DeepMind has unveiled its novel AI tool that can predict whether DNA mutations are likely to cause genetic diseases. The ambition is that it will  facilitate faster diagnosis and development of life-saving treatments. The new AI model, called AlphaMiss…</td><td>https://thenextweb.com/news/deepminds-ai-tool-predicts-genetic-diseases</td><td>https://img-cdn.tnwcdn.com/image/tnw-blurple?filter_last=1&fit=1280%2C640&url=https%3A%2F%2Fcdn0.tnwcdn.com%2Fwp-content%2Fblogs.dir%2F1%2Ffiles%2F2023%2F09%2FUntitled-design-14-10.jpg&signature=d5b222e3ee9bcffe5f162236598b4ad2</td><td>2023-09-20T11:44:36Z</td><td>null</td></tr><tr><td>time</td><td>Time</td><td>Charlotte Alter</td><td>Police Arrest Suspect for Rape of 13-Year-Old Who Was Unable to Get an Abortion</td><td>Police in Clarksdale, Miss., have arrested a suspect in the alleged rape.</td><td>https://time.com/6311507/13-year-old-mom-police-arrest-rape-suspect/</td><td>https://api.time.com/wp-content/uploads/2023/09/teen-mom-mississippi-arrest.jpg?quality=85</td><td>2023-09-07T20:30:00Z</td><td>null</td></tr><tr><td>time</td><td>Time</td><td>GARY D. ROBERTSON / AP</td><td>NASCAR to Return $1 Million All-Star Race to North Wilkesboro Again in 2024</td><td>The NASCAR Cup Series All-Star Race will remain at North Wilkesboro Speedway in 2024 after this year's event — the first race for NASCAR there in 27 years — attracted a capacity crowd thrilled to return to stock car roots.</td><td>https://time.com/6318459/nascar-all-star-race-north-wilkesboro/</td><td>https://api.time.com/wp-content/uploads/2023/09/Nascar.jpg?quality=85</td><td>2023-09-28T17:26:11Z</td><td>null</td></tr><tr><td>time</td><td>Time</td><td>Alice Park</td><td>Nobel Prize Awarded to mRNA Pioneers Who Paved the Way for COVID-19 Vaccines</td><td>Katalin Kariko and Drew Weissman discovered a key step toward making mRNA vaccines, leading to the COVID-19 vaccine and the Nobel Prize.</td><td>https://time.com/6319654/nobel-prize-awarded-to-mrna-pioneers/</td><td>https://api.time.com/wp-content/uploads/2023/10/Katalin-Kariko-drew-weissman-nobel.jpg?quality=85</td><td>2023-10-02T18:19:12Z</td><td>null</td></tr><tr><td>null</td><td>Abril.com.br</td><td>Diogo Sponchiato</td><td>Nobel vai para descobertas que resultaram nas vacinas de RNA para Covid-19</td><td>Láurea em Medicina é concedida a dois pesquisadores pelos trabalhos que culminaram na nova geração de vacinas que ajudou a deter a pandemia</td><td>https://veja.abril.com.br/saude/nobel-de-medicina-2023-vacina-covid</td><td>https://veja.abril.com.br/wp-content/uploads/2023/10/490_envelhecer-vacina-gripe.png?w=680&h=453&crop=1</td><td>2023-10-02T09:59:49Z</td><td>null</td></tr><tr><td>null</td><td>Wired.jp</td><td>Daisuke Takimoto</td><td>ノーベル生理学・医学賞を受賞したカタリン・カリコらは、いかにmRNAワクチンで世界を救ったのか</td><td>2023年のノーベル生理学・医学賞に、遺伝情報を伝えるmRNA（メッセンジャーRNA）を用いたワクチンの基盤技術を開発した研究者のカタリン・カリコとドリュー・ワイスマンが選ばれた。新型コロナウイルスのワクチン開発を記録的なスピードで実現した画期的な技術を、いかにしてカリコらは生み出したのか。</td><td>https://wired.jp/article/the-nobel-prize-in-physiology-or-medicine-2023-mrna-vaccine-technology/</td><td>https://media.wired.jp/photos/651b4e920446e287fac30fbf/16:9/w_1280,c_limit/GettyImages-1701292263.jpg</td><td>2023-10-02T23:30:00Z</td><td>null</td></tr><tr><td>abc-news-au</td><td>ABC News (AU)</td><td>Hanan Dervisevic</td><td>Recovered RNA has put scientists one step closer to resurrecting the Tasmanian tiger</td><td>The Tasmanian tiger has become the first extinct animal from which scientists have recovered RNA, the molecule that brings a specie's genome to life.</td><td>https://www.abc.net.au/news/2023-09-28/rna-extracted-from-tasmanian-tiger-resurrected/102907796</td><td>https://live-production.wcms.abc-cdn.net.au/a7fd405e37fdcf0b8047fb0c2ae470f1?impolicy=wcms_crop_resize&cropH=2037&cropW=3620&xPos=252&yPos=395&width=862&height=485</td><td>2023-09-27T21:03:14Z</td><td>null</td></tr><tr><td>null</td><td>Asahi.com</td><td>朝日新聞デジタル</td><td>自然科学研究機構・初代機構長の志村令郎さん死去　RNA研究を牽引</td><td>志村　令郎さん（しむら・よしろう=元自然科学研究機構長、京都大名誉教授・分子生物学）9月27日、老衰のため死去、90歳。葬儀・告別式は近親者で行った。喪主は妻紗千子（さちこ）さん。　山梨県大月市出身…</td><td>https://www.asahi.com/articles/ASRB25DLDRB2ULBH00C.html</td><td>https://imgopt.asahi.com/ogp/AS20231002002656_comm.jpg</td><td>2023-10-02T08:30:00Z</td><td>null</td></tr><tr><td>bbc-news</td><td>BBC News</td><td>https://www.facebook.com/bbcnews</td><td>Google DeepMind AI speeds up search for disease genes</td><td>Google DeepMind has used its technology to identify parts of human DNA that might cause diseases.</td><td>https://www.bbc.co.uk/news/science-environment-66847977</td><td>https://ichef.bbci.co.uk/news/1024/branded_news/8D38/production/_131125163_f0342069-dna_illustration.jpg</td><td>2023-09-19T14:30:12Z</td><td>null</td></tr><tr><td>bbc-news</td><td>BBC News</td><td>https://www.facebook.com/bbcnews</td><td>Libya floods: The bodies left unrecognisable by disaster</td><td>Doctors are struggling to identify the remains which have been found as the death toll rises.</td><td>https://www.bbc.co.uk/news/world-africa-66838559</td><td>https://ichef.bbci.co.uk/news/1024/branded_news/CF95/production/_131114135_ab211b9a45e97df4241aa042fd2c364968b9885d.jpg</td><td>2023-09-17T20:40:41Z</td><td>null</td></tr><tr><td>bbc-news</td><td>BBC News</td><td>https://www.facebook.com/bbcnews</td><td>DNA exonerates man 47 years after rape conviction</td><td>It is believed to be the longest standing wrongful conviction to be overturned in the US.</td><td>https://www.bbc.co.uk/news/world-us-canada-66734064</td><td>https://ichef.bbci.co.uk/news/1024/branded_news/5A1D/production/_130996032_mack-jpg.jpg</td><td>2023-09-06T15:53:04Z</td><td>null</td></tr><tr><td>bbc-news</td><td>BBC News</td><td>null</td><td>Cameron rematch a 'must win' fight says Taylor</td><td>Katie Taylor says 'resurrection is her DNA' as she prepares to face Chantelle Cameron in their rematch in November.</td><td>https://www.bbc.co.uk/sport/boxing/66924778</td><td>https://ichef.bbci.co.uk/live-experience/cps/624/cpsprodpb/BC89/production/_131256284_face-off.jpg</td><td>2023-09-26T13:01:23Z</td><td>null</td></tr><tr><td>bbc-news</td><td>BBC News</td><td>null</td><td>Brighton & Hove Albion v AEK Athens: Roberto de Zerbi says Albion 'cannot lose DNA'</td><td>Brighton boss Roberto De Zerbi says his side \"cannot lose our DNA\" in their debut European season.</td><td>https://www.bbc.co.uk/sport/football/66869817</td><td>https://ichef.bbci.co.uk/live-experience/cps/624/cpsprodpb/621A/production/_131141152_a0fe90fedf62c79fe933e7fd142de58d2580ccca.jpg</td><td>2023-09-20T14:55:40Z</td><td>null</td></tr><tr><td>business-insider</td><td>Business Insider</td><td>Insider Inc.</td><td>iPhone 12 emits too much radiation, France says. It rules Apple must take it off the market.</td><td>French officials are demanding the iPhone 12 be taken off the market. If Apple doesn't comply, it risks being subjected to a nationwide recall.</td><td>https://www.businessinsider.com/iphone-12-excessive-radiation-apple-must-take-off-market-france-2023-9</td><td>https://i.insider.com/6502087d992da60019ebbc22?width=1200&format=jpeg</td><td>2023-09-13T20:09:56Z</td><td>null</td></tr><tr><td>business-insider</td><td>Business Insider</td><td>Brent D. Griffiths</td><td>Sen. Bob Menendez Googled 'how much is one kilo of gold worth' around the time his wife accepted alleged bribes, indictment says</td><td>The senator's most recent financial disclosure showed that his wife continued to own gold bars and at least $200,000 worth in 2022.</td><td>https://www.businessinsider.com/menendez-how-much-is-one-kilo-of-gold-worth-indictment-2023-9</td><td>https://i.insider.com/650db74c12dc4f001a17c899?width=1200&format=jpeg</td><td>2023-09-22T16:04:49Z</td><td>null</td></tr><tr><td>business-insider</td><td>Business Insider</td><td>Charles R. Davis</td><td>Did you have a severe case of COVID-19? Research suggests that Neanderthal genes could be to blame</td><td>Research by scientists in Italy indicates that people with gene variations attributable to Neanderthal ancestry were more likely to be hospitalized.</td><td>https://www.businessinsider.com/neanderthal-genes-linked-to-severe-cases-of-covid-19-coronavirus-2023-9</td><td>https://i.insider.com/5e4ea034a27fc556864c7ea4?width=1200&format=jpeg</td><td>2023-09-17T15:04:36Z</td><td>null</td></tr><tr><td>business-insider</td><td>Business Insider</td><td>Jenny McGrath</td><td>Ocean explorers found a golden orb on the Alaskan seafloor, and they have no idea what it is</td><td>Marine scientists found a golden orb on the Alaskan seafloor that is a complete mystery. It might be an egg casing or something stranger.</td><td>https://www.businessinsider.com/researchers-puzzled-by-golden-orb-on-alaska-seafloor-2023-9</td><td>https://i.insider.com/64fa39743d39230019764095?width=1200&format=jpeg</td><td>2023-09-07T22:12:38Z</td><td>null</td></tr><tr><td>buzzfeed</td><td>Buzzfeed</td><td>Ajani Bazile-Dutes</td><td>Fathers Who Discovered That Their Child Wasn't Biologically Theirs Are Sharing Their Stories, And It's A Lot To Process</td><td>\"I thought I was the father for five months. After that, I got a paternity test and found out it wasn't mine. The weird part is my parents still babysit and treat the kid like their grandkid, so she's at a lot of family functions and such.\"View Entire Post ›</td><td>https://www.buzzfeed.com/ajanibazile/men-discover-not-fathers</td><td>https://img.buzzfeed.com/buzzfeed-static/static/2023-09/26/20/enhanced/8a2c438b2dc7/original-1669-1695760188-3.jpg?crop=1200:628;0,0%26downsize=1250:*</td><td>2023-09-28T21:16:02Z</td><td>null</td></tr><tr><td>cbs-news</td><td>CBS News</td><td>null</td><td>Scientists take step toward \"being able to resurrect extinct species\"</td><td>\"People didn't think it could really be done,\" Marc Friedländer, an associate professor in molecular biology at Stockholm University, told CBS News.</td><td>https://www.cbsnews.com/news/rna-recovered-extinct-species-first-time-tasmanian-tiger/</td><td>https://assets2.cbsnewsstatic.com/hub/i/r/2023/09/26/a6981385-f1b2-4423-8f33-88c7297468b3/thumbnail/1200x630/269da7c99e54be8e62f8e238326e1fac/gettyimages-1690002792.jpg?v=f5251b37272e6b1bc4e5456ab4445a67</td><td>2023-09-26T15:52:21Z</td><td>null</td></tr><tr><td>cbs-news</td><td>CBS News</td><td>CBS News</td><td>Scientists recover RNA from extinct species for first time</td><td>For the first time, scientists in Sweden have analyzed an extinct animal's RNA. They're studying the Tasmanian tiger which has been extinct since the 1930s. Marc Friedländer, associate professor in molecular biology at Stockholm University, joins CBS News to …</td><td>https://www.cbsnews.com/video/scientists-recover-extinct-species-rna-first-time/</td><td>https://assets1.cbsnewsstatic.com/hub/i/r/2023/09/23/9595bf1a-6fd6-41ef-b292-db4d60cc7067/thumbnail/1200x630/9547cbd2404d7b77ed35d4501f7dd211/tiger.jpg?v=f5251b37272e6b1bc4e5456ab4445a67</td><td>2023-09-23T00:45:00Z</td><td>null</td></tr><tr><td>null</td><td>Digital Trends</td><td>Briley Kenney</td><td>You can start exploring your family tree on Ancestry for free right now</td><td>Curious about your genealogy and ancestry? Now is the perfect time to explore because you can get started on Ancestry for free, thanks to a 14-day free trial.</td><td>https://www.digitaltrends.com/cool-tech/ancestry-14-day-free-trial-deal-september-2023/</td><td>https://www.digitaltrends.com/wp-content/uploads/2023/09/Woman-researching-Ancestry-and-family-tree.jpg?fit=720%2C720&p=1</td><td>2023-09-28T15:00:54Z</td><td>null</td></tr><tr><td>null</td><td>EFF</td><td>Saira Hussain, Matthew Guariglia</td><td>The U.S. Government’s Database of Immigrant DNA Has Hit Scary, Astronomical Proportions</td><td>The FBI recently released its proposed budget for 2024, and its request for a massive increase in funding for its DNA database should concern us all. The FBI is asking for an additional $53 million in funding to aid in the collection, organization, and mainte…</td><td>https://www.eff.org/deeplinks/2023/09/us-governments-database-immigrant-dna-has-hit-scary-astronomical-proportions</td><td>https://www.eff.org/files/banner_library/border-dna-1.png</td><td>2023-09-25T16:27:22Z</td><td>null</td></tr><tr><td>engadget</td><td>Engadget</td><td>Andrew Tarantola</td><td>Hitting the Books: Meet Richard Akrwright, the world's first tech titan</td><td>You didn't actually believe all those founder's myths about tech billionaires like Bezos, Jobs and Musk pulling themselves up by their bootstraps from some suburban American garage, did you? In reality, our corporate kings have been running the same playbook …</td><td>https://www.engadget.com/hitting-the-books-blood-in-the-machine-brian-merchant-hachette-book-group-143056410.html</td><td>https://s.yimg.com/ny/api/res/1.2/WwPL1taNSYGCZAraCSsJGQ--/YXBwaWQ9aGlnaGxhbmRlcjt3PTEyMDA7aD03MDk-/https://s.yimg.com/os/creatr-uploaded-images/2023-09/3dcdd510-4c23-11ee-a75b-8899001c3252</td><td>2023-09-10T14:30:56Z</td><td>null</td></tr><tr><td>engadget</td><td>Engadget</td><td>Andrew Tarantola</td><td>Hitting the Books: Meet Richard Akrwright, the world's first tech titan</td><td>You didn't actually believe all those founder's myths about tech billionaires like Bezos, Jobs and Musk pulling themselves up by their bootstraps from some suburban American garage, did you? In reality, our corporate kings have been running the same playbook …</td><td>https://www.engadget.com/hitting-the-books-meet-richard-akrwright-the-worlds-first-tech-titan-205045895.html</td><td>https://s.yimg.com/ny/api/res/1.2/WwPL1taNSYGCZAraCSsJGQ--/YXBwaWQ9aGlnaGxhbmRlcjt3PTEyMDA7aD03MDk-/https://s.yimg.com/os/creatr-uploaded-images/2023-09/3dcdd510-4c23-11ee-a75b-8899001c3252</td><td>2023-09-11T20:50:45Z</td><td>null</td></tr><tr><td>engadget</td><td>Engadget</td><td>Will Shanklin</td><td>Letterboxd sells a majority stake after explosive pandemic-fueled growth</td><td>The film-focused social media site LetterBoxd has new ownership. Cofounder Matthew Buchanan announced on Friday that Tiny, a venture capital firm, has bought a 60 percent stake in the platform. The New York Times reported that the deal values Letterboxd at ov…</td><td>https://www.engadget.com/letterboxd-sells-a-majority-stake-after-explosive-pandemic-fueled-growth-201646444.html</td><td>https://s.yimg.com/ny/api/res/1.2/3_k.9qC1cspwvG2PJyL62A--/YXBwaWQ9aGlnaGxhbmRlcjt3PTEyMDA7aD03MjA-/https://s.yimg.com/os/creatr-uploaded-images/2023-09/99c74210-5f02-11ee-bbff-7df6bc90e637</td><td>2023-09-29T20:16:46Z</td><td>null</td></tr><tr><td>null</td><td>EurekAlert</td><td>null</td><td>Researchers find a cause of Parkinson’s disease, Mitochondrial DNA damage</td><td><p>A significant breakthrough sheds light on the underlying mechanisms of Parkinson&#39;s disease, offering the potential for innovative treatments in the future.</p></td><td>https://www.eurekalert.org/news-releases/1003348</td><td>https://www.eurekalert.org/images/EurekAlert-bluebg_Twitter_601X601.png</td><td>2023-10-02T15:16:04Z</td><td>null</td></tr><tr><td>focus</td><td>Focus</td><td>FOCUS online</td><td>Forschungsergebnis mit Folgen - Einsame Ameisen erleben mehr Stress und sterben früher</td><td>Forscher der Universität Lausanne haben gezeigt, dass Einsamkeit die Lebensspanne von Ameisen verkürzt. Die Studie bietet Ansätze für die Behandlung einsamer Menschen.</td><td>https://www.focus.de/wissen/forschungsergebnis-mit-folgen-einsame-ameisen-erleben-mehr-stress-und-sterben-frueher_id_213899576.html</td><td>https://p6.focus.de/img/fotos/id_213899048/imago0273273560h.jpg?im=Crop%3D%280%2C408%2C3265%2C1632%29%3BResize%3D%281200%2C627%29&impolicy=perceptual&quality=mediumHigh&hash=dd4741599bb73282f06cb246a7f7ee959e27ade017752e08f1babfa4d01d9ea1</td><td>2023-09-27T13:31:01Z</td><td>null</td></tr><tr><td>null</td><td>Futurity: Research News</td><td>Greg Williams-NYU</td><td>Blocking stem cell signal restores bone healing in aging mice</td><td>Blocking a signaling pathway called Notch in skeletal stem cells in mice restored bone-healing ability lost during aging.</td><td>https://www.futurity.org/bone-healing-stem-cells-aging-2979972-2/</td><td>https://www.futurity.org/wp/wp-content/uploads/2023/09/bone-loss-healing-aging-1600.jpg</td><td>2023-09-28T14:47:28Z</td><td>null</td></tr><tr><td>null</td><td>Futurity: Research News</td><td>Asher Jones-U. Pittsburgh</td><td>Why wounds don’t heal as well for people with diabetes</td><td>Defective exosomes can impair chronic wound healing for some people with diabetes. The findings may open the door to new therapies.</td><td>https://www.futurity.org/diabetes-wounds-exosomes-2972392/</td><td>https://www.futurity.org/wp/wp-content/uploads/2023/09/diabetic-wounds-healing-1600.jpg</td><td>2023-09-11T14:05:21Z</td><td>null</td></tr><tr><td>null</td><td>Futurity: Research News</td><td>LaTina Emerson-Georgia State</td><td>Drug blocks SARS-CoV-2 transmission in ferrets</td><td>When administered at a human effect size-equivalent dose, molnupiravir efficiently blocked transmission of SARS-CoV-2 in ferrets.</td><td>https://www.futurity.org/molnupiravir-sars-cov-2-ferrets-2973062/</td><td>https://www.futurity.org/wp/wp-content/uploads/2023/09/covid-sars-cov-2-molnupiravir-1600.jpg</td><td>2023-09-12T17:45:14Z</td><td>null</td></tr><tr><td>null</td><td>Geekpark.net</td><td>null</td><td>AI 公司燧原科技获 20 亿元融资，腾讯持股 20%；奔驰在美推自动驾驶，开车可玩游戏；Mini 推电动自行车，售价 2 万 7 千元</td><td>AI 算力独角兽燧原科技完成 20 亿元 D 轮融资，腾讯持股已接近两成 \n",
       "9 月 28 日，AI 云端算力公司燧原科技（Enflame AI）宣布完成 D 轮融资，总额为 20 亿元人民币，超过 15 家机构参与，是今年 AI 芯片领域最大规模的融资事件之一。\n",
       "据悉，燧原科技成立于 2018 年 3 月，是国内第一家同时拥有高性能云端训练和云端推理产品的创业公司，已完成首款 AI 芯片「邃思」的研发和量产，并面向数据中心推出云燧、「驭算」平台等多款 AI 算力加速产品。\n",
       "\n",
       "2023世界人工智能大会，燧原科技展台…</td><td>https://www.geekpark.net/news/325600</td><td>https://imgslim.geekpark.net/uploads/image/file/e5/81/e581b6ed45b27c3d403078f578e14b67.jpg</td><td>2023-09-29T00:35:12Z</td><td>null</td></tr><tr><td>null</td><td>Gizmodo.jp</td><td>岡本玄介</td><td>タッチパッドと音声で操作。SF感がたまらないBMWの未来コンセプトカー</td><td>BMWがコンセプトカー「Vision Neue Klasse」発表。第6世代のeDrive搭載で排気ガスを出さず、タッチパネルで操作可能。</td><td>https://www.gizmodo.jp/2023/09/bmw-vision-neue-klasse.html</td><td>https://media.loom-app.com/gizmodo/dist/images/2023/09/05/230906_bmw.jpg?w=1280&h=630&f=jpg</td><td>2023-09-05T22:00:00Z</td><td>null</td></tr><tr><td>null</td><td>Gizmodo.jp</td><td>Rina Fukazu</td><td>ガラパゴス諸島で発見されたゾウガメのフェルナンダ、じつは絶滅動物の生き残りだった説</td><td>一度は絶滅したと思われていたガラパゴス諸島のゾウガメ。2019年にその存在が確認されて、フェルナンダと名付けられました。それが最近のDNAテストの結果によると、なんと1世紀前に確認された生物と同一種であることが明らかになりました。</td><td>https://www.gizmodo.jp/2023/09/extinct-giant-tortoise-was-just-chilling-on-an-island-1.html</td><td>https://media.loom-app.com/gizmodo/dist/images/2022/06/14/220614ExtinctGiantTortoise.jpg?w=1280&h=630&f=jpg</td><td>2023-09-12T07:35:00Z</td><td>null</td></tr><tr><td>null</td><td>Gizmodo.jp</td><td>satomi</td><td>電波を理由にフランスがiPhone 12を販売停止。アップルは反論</td><td>Photo:goffkein.pro/Shutterstock.com/Gizmodo(Shutterstock)よりによってiPhone15発表の数時間前というタイミング。世界中がアップル発表会で盛り上がった12日（日本時間13日）、フランス政府がiPhone12の販売停止を命じました。理由は「欧州連合（EU）の法定基準値を超える電波が人体に吸収されるおそれがあるから」。職員をアップルストアに出</td><td>https://www.gizmodo.jp/2023/09/france-suspends-sales-of-iphone-12.html</td><td>https://media.loom-app.com/gizmodo/dist/images/2023/09/14/20230914iPhone12_radiation.png?w=1280&h=630&f=jpg</td><td>2023-09-18T04:00:00Z</td><td>null</td></tr><tr><td>null</td><td>Gizmodo.jp</td><td>岩田リョウコ</td><td>絶滅した動物をクローンで復活できる？標本からRNA抽出に成功</td><td>1936年に絶滅したタスマニアに生息していたフクロオオカミ（タスマニアンタイガー）ですが、現在蘇らせ作戦が行なわれていて、研究チームがRNA（リボ核酸）を抽出することに成功。すでに絶滅した種では初めての成功例となります。</td><td>https://www.gizmodo.jp/2023/10/rna-recovery-extinct-species-thylacine-tasmanian-tiger.html</td><td>https://media.loom-app.com/gizmodo/dist/images/2023/09/25/1076b8410aeb839fda2cbe1930aa99c7.jpg?w=1280&h=630&f=jpg</td><td>2023-10-01T12:00:00Z</td><td>null</td></tr><tr><td>null</td><td>heise online</td><td>Susanne Donner</td><td>heise+ | Gentechnik: Konkurrenz für CRISPR durch die Rekombinasen</td><td>Die Designer-Rekombinasen schneiden das Erbgut nicht nur äußerst präzise, sondern reparieren es auch gleich. Im Herbst soll eine erste klinische Studie starten.</td><td>https://www.heise.de/hintergrund/Gentechnik-Konkurrenz-fuer-CRISPR-durch-die-Rekombinasen-9237022.html?wt_mc=rss.red.ho.ho.atom.beitrag_plus.beitrag_plus</td><td>https://heise.cloudimg.io/bound/1200x1200/q85.png-lossy-85.webp-lossy-85.foil1/_www-heise-de_/imgs/18/4/2/8/2/3/1/7/TU_Dresden_S_Rose_Fotografie-c4ba094c79c54cf8.jpg</td><td>2023-09-06T15:00:00Z</td><td>null</td></tr><tr><td>null</td><td>heise online</td><td>Veronika Szentpetery-Kessler</td><td>Wie inverse Impfungen Autoimmunkrankheiten stoppen könnten</td><td>Eine dämpfend wirkende Vakzine hat die überreaktive Abwehr von Mäusen mit Multipler Sklerose umprogrammiert. Sie greift die Nervenummantelung nicht mehr an.​</td><td>https://www.heise.de/hintergrund/Wie-inverse-Impfungen-Autoimmunkrankheiten-stoppen-koennten-9319341.html?wt_mc=rss.red.ho.ho.atom.beitrag.beitrag</td><td>https://heise.cloudimg.io/bound/1200x1200/q85.png-lossy-85.webp-lossy-85.foil1/_www-heise-de_/imgs/18/4/3/1/0/3/3/2/shutterstock_1850877193-f182cc9e88db2c10.jpg</td><td>2023-09-29T05:00:00Z</td><td>null</td></tr><tr><td>null</td><td>heise online</td><td>Veronika Szentpetery-Kessler</td><td>Wie lässt sich Zahnschmelz regenerieren?​</td><td>Das härteste Material des Körpers kann sich nach Schäden nicht erneuern. Nun wurde die Schmelzbildung entschlüsselt, was lebende Füllungen ermöglichen könnte.​</td><td>https://www.heise.de/hintergrund/Wie-laesst-sich-Zahnschmelz-regenerieren-9298295.html?wt_mc=rss.red.ho.ho.atom.beitrag.beitrag</td><td>https://heise.cloudimg.io/bound/1200x1200/q85.png-lossy-85.webp-lossy-85.foil1/_www-heise-de_/imgs/18/4/2/9/9/0/6/1/shutterstock_1938573160-50dcebb35161410e.jpg</td><td>2023-09-08T09:00:00Z</td><td>null</td></tr><tr><td>null</td><td>Hillelwayne.com</td><td>null</td><td>Ten weird things you can buy online</td><td>It’s April Cools! It’s like April Fools, except instead of cringe comedy you make genuine content that’s different from your normal stuff.1 For example, last year I talked about owning a microscope. This year I debated doing another hobby but settled on a muc…</td><td>https://www.hillelwayne.com/post/weird-things-you-can-buy/</td><td>https://www.hillelwayne.com/post/weird-things-you-can-buy/feature.jpg</td><td>2023-09-29T12:56:48Z</td><td>null</td></tr><tr><td>null</td><td>HuffPost</td><td>Marco Margaritoff</td><td>Kevin Costner Slams Estranged Wife’s ‘Nonsensical’ Request For $885,000 In Legal Fees</td><td>“Although Kevin is the wealthier party with a higher cash flow than Christine, Christine is quite capable of contributing to her own attorney’s fees,” a court filing argued.</td><td>https://www.huffpost.com/entry/kevin-costner-legal-fees-christine-baumgartner_n_650188d0e4b05b07e76125a0</td><td>https://img.huffingtonpost.com/asset/6501924a2300005b00889fcc.jpeg?cache=nKrmnhtotG&ops=1200_630</td><td>2023-09-13T14:23:58Z</td><td>null</td></tr><tr><td>null</td><td>HuffPost</td><td>AP</td><td>Nobel Prize In Medicine Awarded To 2 Scientists For Enabling Development Of MRNA Vaccines</td><td>Katalin Karikó and Drew Weissman won the prize for discoveries that enabled the development of effective mRNA vaccines against COVID-19.</td><td>https://www.huffpost.com/entry/nobel-medicine_n_651a9254e4b00421f662c0c5</td><td>https://img.huffingtonpost.com/asset/651a94ee220000350006eef8.jpeg?cache=ngxVaA5uZW&ops=1200_630</td><td>2023-10-02T09:55:28Z</td><td>null</td></tr><tr><td>null</td><td>Ilfattoquotidiano.it</td><td>30science per Il Fatto</td><td>Il micro Rna contro i tumori ha fermato la crescita nei topi. Lo studio Usa pubblicato su Oncogene (Nature)</td><td>Un nuovo approccio micro Rna ha dato, in fase preclinica, risultati promettenti contro il cancro. Il trattamento, sviluppato dai ricercatori dell’Università di Purdue negli Stati Uniti e descritto sulla rivista Oncogene, ha richiesto uno studio di più di 15 a…</td><td>https://www.ilfattoquotidiano.it/2023/09/05/un-nuovo-approccio-micro-rna-contro-i-tumori-ha-fermato-la-crescita-nei-topi-lo-studio-usa-pubblicato-su-oncogene-nature/7281838/</td><td>https://st.ilfattoquotidiano.it/wp-content/uploads/2022/08/02/ricerca-scientifica.jpg</td><td>2023-09-05T15:33:29Z</td><td>null</td></tr><tr><td>null</td><td>Ilfattoquotidiano.it</td><td>F. Q.</td><td>Nobel per la medicina a Karikò e Weissman: le loro scoperte hanno reso possibile la creazione dei vaccini a mRna utilizzati contro il Covid</td><td>Va a Katalin Karikó e Drew Weissman il premio Nobel per la Medicina 2023, per le scoperte scientifiche che hanno reso possibile lo sviluppo dei vaccini contro il Covid-19 basati sull’mRna. A darne annuncio è come di consueto il Karolinska Institutet di Stocco…</td><td>https://www.ilfattoquotidiano.it/2023/10/02/nobel-medicina-kariko-weissman-scoperte-vaccini-mrna-covid/7310415/</td><td>https://st.ilfattoquotidiano.it/wp-content/uploads/2023/10/02/nobel_medicina.jpg</td><td>2023-10-02T10:05:43Z</td><td>null</td></tr><tr><td>il-sole-24-ore</td><td>Il Sole 24 Ore</td><td>di Francesca Cerati</td><td>Nobel per la medicina: chi sono Karikò e Weissman, premiati per i vaccini Covid</td><td>Si è scelto di assegnare il premio ai «genitor» della terapia a mRna, più di 15 anni dopo la loro visionaria collaborazione in laboratorio</td><td>https://www.ilsole24ore.com/art/nobel-la-medicina-chi-sono-kariko-e-weissman-premiati-i-vaccini-covid-AFzgeV4</td><td>https://i2.res.24o.it/images2010/2023/10/AFzgeV4/images/025bdec8-6113-11ee-8629-34560d498f24-fotohome0.jpg</td><td>2023-10-02T11:01:00Z</td><td>null</td></tr><tr><td>null</td><td>Insideprecisionmedicine.com</td><td>Malorye Branca</td><td>First Blood Test for Dozens of Hereditary Cancers Approved by FDA</td><td>The FDA has approved the first blood test that can help identify dozens of potentially cancer-associated hereditary variants. The Invitae Common Hereditary Cancers Panel detects 100s of DNA variants in 47 genes that elevate risk of developing certain types of…</td><td>https://www.insideprecisionmedicine.com/topics/oncology/first-blood-test-for-dozens-of-hereditary-cancers-approved-by-fda/</td><td>https://www.insideprecisionmedicine.com/wp-content/uploads/2021/12/Nov1_2021_GettyImages_1184921448-scaled.jpg</td><td>2023-10-02T21:02:22Z</td><td>null</td></tr><tr><td>null</td><td>Internazionale.it</td><td>Internazionale</td><td>Il Nobel per la medicina assegnato a Karikó e Weissman per i vaccini a rna messaggero</td><td>Il premio Nobel per la medicina è stato assegnato il 2 ottobre alla ricercatrice ungherese Katalin Karikó e al suo collega statunitense Drew Weissman per lo sviluppo dei vaccini a rna messaggero (mRna). Leggi</td><td>https://www.internazionale.it/ultime-notizie/2023/10/02/nobel-medicina-mrna</td><td>https://media.internazionale.it/images/2023/10/02/186455-sd.jpeg</td><td>2023-10-02T12:51:30Z</td><td>null</td></tr><tr><td>null</td><td>Los Angeles Times</td><td>Melissa Healy</td><td>Scientists whose work on mRNA paved the way for first COVID-19 vaccines win Nobel Prize</td><td>Nobel Prize winners Katalin Karikó and Drew Weissman harnessed messenger RNA, an advance that led to the Pfizer and Moderna COVID-19 vaccines.</td><td>https://www.latimes.com/science/story/2023-10-02/kariko-weissman-mrna-covid-vaccine-nobel-prize</td><td>https://ca-times.brightspotcdn.com/dims4/default/d5ecce7/2147483647/strip/true/crop/4980x2615+0+353/resize/1200x630!/quality/75/?url=https%3A%2F%2Fcalifornia-times-brightspot.s3.amazonaws.com%2Fb9%2Fd3%2F1e0510bb49e696b94405ba78145f%2Fjapan-prize-10800.jpg</td><td>2023-10-02T09:46:52Z</td><td>null</td></tr><tr><td>null</td><td>Live Science</td><td>Stephanie Pappas</td><td>RNA extracted from an extinct species for the 1st time</td><td>Researchers analyzed RNA from the 130-year-old tissue of a Tasmanian tiger, a carnivorous marsupial that went extinct nine decades ago.</td><td>https://www.livescience.com/animals/rna-extracted-from-an-extinct-species-for-the-1st-time</td><td>null</td><td>2023-09-19T18:00:00Z</td><td>null</td></tr><tr><td>null</td><td>Live Science</td><td>Carissa Wong</td><td>Infant's dark-brown eyes suddenly turn indigo blue after COVID-19 antiviral treatment. But why?</td><td>In a rare case, the brown eyes of a 6-month-old boy with COVID-19 turned blue after he was given the antiviral favipiravir.</td><td>https://www.livescience.com/health/medicine-drugs/infants-dark-brown-eyes-suddenly-turn-indigo-blue-after-covid-19-antiviral-treatment-but-why</td><td>https://cdn.mos.cms.futurecdn.net/iMoxH2aVUSKt9LcRLMqyBN-1200-80.jpg</td><td>2023-09-04T12:00:41Z</td><td>null</td></tr><tr><td>null</td><td>Live Science</td><td>Donavyn Coffey</td><td>Genetically engineered pink pineapples are flying off shelves: What gives them their distinctive color?</td><td>The food giant Del Monte has created a genetically engineered pink pineapple that owes its rosy hue to higher concentrations of a pigment called lycopene.</td><td>https://www.livescience.com/planet-earth/plants/pink-pineapples-are-in-high-demand</td><td>https://cdn.mos.cms.futurecdn.net/NtsJFb5H6FwwQRKK7MF2gi-1200-80.jpg</td><td>2023-09-04T13:00:43Z</td><td>null</td></tr><tr><td>null</td><td>menshealth.com</td><td>Darren Orf</td><td>The Tasmanian Tiger Has Been Extinct for 87 Years. It's About to Return From the Dead.</td><td>Scientists are making the animal from scratch using RNA sequenced from a 132-year-old specimen.</td><td>https://www.menshealth.com/trending-news/a45329231/tasmanian-tiger-extinct-rna-resurrection/</td><td>https://hips.hearstapps.com/hmg-prod/images/now-extinct-tasmanian-tiger-in-hobart-zoo-tasmania-news-photo-1695403637.jpg?crop=1.00xw:0.803xh;0,0.169xh&resize=1200:*</td><td>2023-09-26T20:41:00Z</td><td>null</td></tr><tr><td>null</td><td>Michaelchimenti.com</td><td>mchimen1</td><td>Perturbation analysis of spatial single cell RNA-seq (2021)</td><td>Spatial single cell RNA-seq data are essentially regular single-cell RNA-seq data that have spatial coordinates associated through localization on a special capture slide. I had previously used so-called “perturbation” analysis successfully with 10X single-ce…</td><td>https://www.michaelchimenti.com/2021/11/perturbation-analysis-of-spatial-single-cell-rna-seq-with-augur/</td><td>https://i0.wp.com/www.michaelchimenti.com/wp-content/uploads/2021/11/Screen-Shot-2021-11-09-at-12.37.06-PM.png?fit=1371%2C558&ssl=1</td><td>2023-09-11T20:22:06Z</td><td>null</td></tr><tr><td>null</td><td>National Institutes of Health</td><td>null</td><td>8k year ago, 17 women reproduced for every 1 man</td><td>It is commonly thought that human genetic diversity in non-African populations was shaped primarily by an out-of-Africa dispersal 50–100 thousand yr ago (kya). Here, we present a study of 456 geographically diverse high-coverage Y chromosome sequences, ...</td><td>https://www.ncbi.nlm.nih.gov/pmc/articles/PMC4381518/</td><td>https://www.ncbi.nlm.nih.gov/corehtml/pmc/pmcgifs/pmc-card-share.jpg?_=0</td><td>2023-09-26T16:24:12Z</td><td>null</td></tr><tr><td>new-scientist</td><td>New Scientist</td><td>Jason Arunn Murugesu</td><td>New type of brain cell discovered that acts like hybrid of two others</td><td>A type of brain cell that behaves like a hybrid of neurons and glia has been spotted, and it could explain how some neurodegenerative conditions, such as Parkinson’s, develop</td><td>https://www.newscientist.com/article/2390978-new-type-of-brain-cell-discovered-that-acts-like-hybrid-of-two-others/</td><td>https://images.newscientist.com/wp-content/uploads/2023/09/06154113/SEI_170397887.jpg</td><td>2023-09-06T16:00:01Z</td><td>null</td></tr><tr><td>new-scientist</td><td>New Scientist</td><td>Karmela Padavic-Callaghan</td><td>DNA-based computer can run 100 billion different programs</td><td>Mixing and matching various strands of DNA can create versatile biological computer circuits that can take the square roots of numbers or solve quadratic equations</td><td>https://www.newscientist.com/article/2391747-dna-based-computer-can-run-100-billion-different-programs/</td><td>https://images.newscientist.com/wp-content/uploads/2023/09/13152504/SEI_171437229.jpg</td><td>2023-09-13T16:00:18Z</td><td>null</td></tr><tr><td>new-scientist</td><td>New Scientist</td><td>Michael Le Page</td><td>Moderna's improved mRNA covid-19 vaccine is effective at lower doses</td><td>A streamlined version of Moderna’s vaccine that targets only key parts of the spike protein of the SARS-CoV-2 coronavirus is being trialled in humans</td><td>https://www.newscientist.com/article/2392035-modernas-improved-mrna-covid-19-vaccine-is-effective-at-lower-doses/</td><td>https://images.newscientist.com/wp-content/uploads/2023/09/13165912/SEI_171444081.jpg</td><td>2023-09-13T19:00:59Z</td><td>null</td></tr><tr><td>new-scientist</td><td>New Scientist</td><td>Jeanne Timmons</td><td>Extinct Tasmanian tiger yields RNA secrets that could aid resurrection</td><td>RNA, which regulates the activity of DNA, is a crucial part of building an organism - and now researchers have extracted some from an extinct animal for the first time</td><td>https://www.newscientist.com/article/2392879-extinct-tasmanian-tiger-yields-rna-secrets-that-could-aid-resurrection/</td><td>https://images.newscientist.com/wp-content/uploads/2023/09/19152722/SEI_172166154.jpg</td><td>2023-09-19T19:00:07Z</td><td>null</td></tr><tr><td>new-scientist</td><td>New Scientist</td><td>Michael Le Page</td><td>Covid-19 drug may be creating new variants with distinctive mutations</td><td>Covid-19 viruses with distinctive patterns of mutation are appearing in countries that use a drug called molnupiravir, however, none of these is a variant of concern</td><td>https://www.newscientist.com/article/2393799-covid-19-drug-may-be-creating-new-variants-with-distinctive-mutations/</td><td>https://images.newscientist.com/wp-content/uploads/2023/09/25135645/SEI_173244825.jpg</td><td>2023-09-25T16:00:29Z</td><td>null</td></tr><tr><td>new-scientist</td><td>New Scientist</td><td>Karmela Padavic-Callaghan</td><td>Hollow nanoparticles linked by DNA make unusually strong materials</td><td>Particles that are too small to be assembled into materials with conventional methods can be bound together with DNA molecules – the result is clumps of unusually strong and stiff material</td><td>https://www.newscientist.com/article/2395007-hollow-nanoparticles-linked-by-dna-make-unusually-strong-materials/</td><td>https://images.newscientist.com/wp-content/uploads/2023/09/29175604/SEI_173870975.jpg</td><td>2023-09-29T19:00:07Z</td><td>null</td></tr><tr><td>null</td><td>Nobelprize.org</td><td></td><td>Nobel Price in Medicine goes to development of mRNA vaccines</td><td>The Nobel Prize in Physiology or Medicine 2023 was awarded jointly to Katalin Karikó and Drew Weissman \"for their discoveries concerning nucleoside base modifications that enabled the development of effective mRNA vaccines against COVID-19\"</td><td>https://www.nobelprize.org/prizes/medicine/2023/press-release/</td><td>https://www.nobelprize.org/uploads/2023/10/2023_MED_CARRIER_1200x800-1024x683.jpg</td><td>2023-10-02T09:50:54Z</td><td>null</td></tr><tr><td>null</td><td>NPR</td><td>The Associated Press</td><td>DNA tests lower the death toll in Maui fire to 97</td><td>Officials previously said at least 115 people had died in the fire, but further testing showed they had multiple DNA samples from some of the victims. The number of those who are missing fell to 31.</td><td>https://www.npr.org/2023/09/16/1199966830/maui-hawaii-fire-death-toll-lowered</td><td>https://media.npr.org/assets/img/2023/09/16/ap23258104959716_wide-948e57997655c4dc0f7401e3098a7396cc60f3b1-s1400-c100.jpg</td><td>2023-09-16T12:53:05Z</td><td>null</td></tr><tr><td>la-repubblica</td><td>La Repubblica</td><td>repubblicawww@repubblica.it (Redazione Repubblica.it)</td><td>Afroamericano scagionato dopo 48 anni dall’accusa di stupro: il più antico errore giudiziario negli Stati Uniti</td><td>L’uomo era stato condannato senza alcuna prova, scagionato con la prova del Dna che ha permesso di identificare anche il vero colpevole</td><td>https://www.repubblica.it/esteri/2023/09/06/news/afroamericano_innocente_48_anni_stupro-413452217/</td><td>https://www.repstatic.it/content/nazionale/img/2023/09/06/031949941-a0101c8f-11e7-46f8-bfc1-8f79d20251f2.jpg</td><td>2023-09-06T01:19:54Z</td><td>null</td></tr><tr><td>la-repubblica</td><td>La Repubblica</td><td>repubblicawww@repubblica.it (Redazione Repubblica.it)</td><td>Al Pacino di nuovo single tre mesi dopo la nascita del figlio Roman. E la ex lo porta in tribunale</td><td>Noor Alfallah ha presentato domanda per la custodia del bambino nato a giugno. L’attore aveva chiesto il test del Dna, non potendo concepire per problemi di salute</td><td>https://www.repubblica.it/spettacoli/people/2023/09/07/news/al_pacino_di_nuovo_single_tre_mesi_dopo_la_nascita_del_figlio_roman_e_la_ex_lo_porta_in_tribunale-413602361/</td><td>https://www.repstatic.it/content/nazionale/img/2023/09/07/105559871-2dd333e2-0ebc-4e62-a364-914d025b389f.jpg</td><td>2023-09-07T08:56:02Z</td><td>null</td></tr><tr><td>null</td><td>Sacramento Bee</td><td>Daniella Segura</td><td>She’s been at CA aquarium since before WWII. Now she’s world’s oldest aquarium fish</td><td>More than her advanced age, though, the museum said she has garnered fame “for her charming personality and penchant for belly rubs.”</td><td>https://www.sacbee.com/news/california/article279481699.html</td><td>https://media.zenfs.com/en/sacramento_bee_mcclatchy_569/b39259d449b1b0f2cb76f24185a7b30e</td><td>2023-09-18T20:07:13Z</td><td>null</td></tr><tr><td>null</td><td>Science Daily</td><td>null</td><td>First-in-class targeted microRNA therapy slows cancer tumor growth</td><td>A new cancer therapy attacks tumors by tricking cancer cells into absorbing a snippet of RNA that naturally blocks cell division.</td><td>https://www.sciencedaily.com/releases/2023/09/230904104617.htm</td><td>https://www.sciencedaily.com/images/scidaily-icon.png</td><td>2023-09-04T14:46:17Z</td><td>null</td></tr><tr><td>null</td><td>Science Daily</td><td>null</td><td>New ribozyme can make RNA molecules accessible for click chemistry in living cells</td><td>Important progress for RNA research: A team has discovered a new ribozyme that can label RNA molecules in living cells.</td><td>https://www.sciencedaily.com/releases/2023/09/230905125007.htm</td><td>https://www.sciencedaily.com/images/scidaily-icon.png</td><td>2023-09-05T16:50:07Z</td><td>null</td></tr><tr><td>null</td><td>Science Daily</td><td>null</td><td>Genetic study of blood glucose levels calls for stratified treatment with GLP-1R agonists in type 2 diabetes</td><td>Researchers reveal for the first time that high blood sugar levels in type 2 diabetes can play a causal role in lung disorders.</td><td>https://www.sciencedaily.com/releases/2023/09/230907130323.htm</td><td>https://www.sciencedaily.com/images/scidaily-icon.png</td><td>2023-09-07T17:03:23Z</td><td>null</td></tr><tr><td>null</td><td>Science Daily</td><td>null</td><td>Engineers design more powerful RNA vaccines</td><td>By adding synergistic self-adjuvanting properties to Covid-19 RNA vaccines, researchers showed they could significantly boost the immune response generated in mice.</td><td>https://www.sciencedaily.com/releases/2023/09/230907130332.htm</td><td>https://www.sciencedaily.com/images/scidaily-icon.png</td><td>2023-09-07T17:03:32Z</td><td>null</td></tr><tr><td>null</td><td>Science Daily</td><td>null</td><td>St Helena's 'liberated' Africans came from West Central Africa between northern Angola and Gabon</td><td>Between 1840 and 1867, thousands of enslaved Africans who had been 'liberated' from slave ships intercepted by the British Royal Navy were taken to the South Atlantic island of St Helena. But little is written in history books or otherwise known about the liv…</td><td>https://www.sciencedaily.com/releases/2023/09/230907130348.htm</td><td>https://www.sciencedaily.com/images/scidaily-icon.png</td><td>2023-09-07T17:03:48Z</td><td>null</td></tr><tr><td>null</td><td>Science Daily</td><td>null</td><td>Dog diversity unveiled by international DNA database</td><td>An international consortium of scientists is using an unprecedentedly large database of canine DNA to take an unbiased look at how our furry friends evolved into the various breeds we know and love.</td><td>https://www.sciencedaily.com/releases/2023/09/230907130404.htm</td><td>https://www.sciencedaily.com/images/scidaily-icon.png</td><td>2023-09-07T17:04:04Z</td><td>null</td></tr><tr><td>null</td><td>Science Daily</td><td>null</td><td>CAR-T-cell therapy without side effects? Researchers show results in preclinical models</td><td>Some patients have experienced incredible recoveries after CAR-T-cell therapy. But they've also endured incredibly strong and scary side effects, in part because of the lymphodepleting chemotherapy that is performed before the CAR-T-cells are reinfused. What …</td><td>https://www.sciencedaily.com/releases/2023/09/230907162605.htm</td><td>https://www.sciencedaily.com/images/scidaily-icon.png</td><td>2023-09-07T20:26:05Z</td><td>null</td></tr><tr><td>null</td><td>Science Daily</td><td>null</td><td>Study links epigenetic changes to historic trauma in Alaska Native communities</td><td>Researchers investigated the relationship between historical traumatic events experienced by Alaska Native communities and epigenetic markers on genes that previous studies have linked to trauma. The new study found a similar pattern among Alaska Native parti…</td><td>https://www.sciencedaily.com/releases/2023/09/230907205950.htm</td><td>https://www.sciencedaily.com/images/scidaily-icon.png</td><td>2023-09-08T00:59:50Z</td><td>null</td></tr><tr><td>null</td><td>Science Daily</td><td>null</td><td>Nutrients drive cellular reprogramming in the intestine</td><td>Researchers have unveiled an intriguing phenomenon of cellular reprogramming in mature adult organs, shedding light on a novel mechanism of adaptive growth. The study, which was conducted on fruit flies (Drosophila), provides further insights into dedifferent…</td><td>https://www.sciencedaily.com/releases/2023/09/230911140801.htm</td><td>https://www.sciencedaily.com/images/scidaily-icon.png</td><td>2023-09-11T18:08:01Z</td><td>null</td></tr><tr><td>null</td><td>Science Daily</td><td>null</td><td>'Dormant' HIV produces RNA and proteins during anti-retroviral therapy</td><td>HIV anti-retroviral therapy is considered a treatment and not a cure because patients usually carry a reservoir of HIV-infected cells that can re-emerge if treatment stops. These reservoirs have long been thought to be dormant, but two independent groups of r…</td><td>https://www.sciencedaily.com/releases/2023/09/230913122631.htm</td><td>https://www.sciencedaily.com/images/scidaily-icon.png</td><td>2023-09-13T16:26:31Z</td><td>null</td></tr><tr><td>null</td><td>Science Daily</td><td>null</td><td>Groundbreaking research unveils genetic characteristics and improved prognosis of triple negative apocrine carcinoma</td><td>A research team has led a groundbreaking study that delves into the exploration of triple-negative apocrine carcinoma.</td><td>https://www.sciencedaily.com/releases/2023/09/230913122656.htm</td><td>https://www.sciencedaily.com/images/scidaily-icon.png</td><td>2023-09-13T16:26:56Z</td><td>null</td></tr><tr><td>null</td><td>Science Daily</td><td>null</td><td>Study explains why certain immunotherapies don't always work as predicted</td><td>A study reveals a possible explanation for why checkpoint blockade inhibitors don't work well for some patients whose tumors have a high mutational burden.</td><td>https://www.sciencedaily.com/releases/2023/09/230914175112.htm</td><td>https://www.sciencedaily.com/images/scidaily-icon.png</td><td>2023-09-14T21:51:12Z</td><td>null</td></tr><tr><td>null</td><td>Science Daily</td><td>null</td><td>Genetically modified bacteria break down plastics in saltwater</td><td>Researchers have genetically engineered a marine microorganism to break down plastic in salt water. Specifically, the modified organism can break down polyethylene terephthalate (PET), a plastic used in everything from water bottles to clothing that is a sign…</td><td>https://www.sciencedaily.com/releases/2023/09/230914175115.htm</td><td>https://www.sciencedaily.com/images/scidaily-icon.png</td><td>2023-09-14T21:51:15Z</td><td>null</td></tr><tr><td>null</td><td>Science Daily</td><td>null</td><td>RNA for the first time recovered from an extinct species</td><td>A new study shows the isolation and sequencing of more than a century-old RNA molecules from a Tasmanian tiger specimen preserved at room temperature in a museum collection. This resulted in the reconstruction of skin and skeletal muscle transcriptomes from a…</td><td>https://www.sciencedaily.com/releases/2023/09/230919153758.htm</td><td>https://www.sciencedaily.com/images/scidaily-icon.png</td><td>2023-09-19T19:37:58Z</td><td>null</td></tr><tr><td>null</td><td>Science Daily</td><td>null</td><td>New insight into crosstalk between cancer cells and their environment</td><td>Most solid tumors become stiff as the cancer progresses. Although researchers recognize that the environment around the cancer cells influences their behavior, it is unclear how it does so. In a new article researchers have collected gene expression data in r…</td><td>https://www.sciencedaily.com/releases/2023/09/230919154846.htm</td><td>https://www.sciencedaily.com/images/scidaily-icon.png</td><td>2023-09-19T19:48:46Z</td><td>null</td></tr><tr><td>null</td><td>Science Daily</td><td>null</td><td>Unzipping mRNA rallies plant cells to fight infection</td><td>Living things from plants to humans must constantly adjust the chemical soup of proteins -- the workhorse molecules of life -- inside their cells to adapt to stress or changing conditions. Now, researchers have identified a previously unknown molecular mechan…</td><td>https://www.sciencedaily.com/releases/2023/09/230921105759.htm</td><td>https://www.sciencedaily.com/images/scidaily-icon.png</td><td>2023-09-21T14:57:59Z</td><td>null</td></tr><tr><td>null</td><td>Science Daily</td><td>null</td><td>Nanopore sequencing and DNA barcoding method gives hope of personalized medicine</td><td>With the ability to map dozens of biomarkers at once, a new method could transform testing for conditions including heart disease and cancer.</td><td>https://www.sciencedaily.com/releases/2023/09/230925124742.htm</td><td>https://www.sciencedaily.com/images/scidaily-icon.png</td><td>2023-09-25T16:47:42Z</td><td>null</td></tr><tr><td>null</td><td>Science Daily</td><td>null</td><td>How a small strand of RNA is key to fighting cancer</td><td>A team of researchers has shown that a single, small strand of microRNA, or miRNA, known as let-7, governs the ability of T-cells to recognize and remember tumor cells. This cellular memory is the basis for how vaccines work. Boosting cellular memory to recog…</td><td>https://www.sciencedaily.com/releases/2023/09/230925153805.htm</td><td>https://www.sciencedaily.com/images/scidaily-icon.png</td><td>2023-09-25T19:38:05Z</td><td>null</td></tr><tr><td>null</td><td>Science Daily</td><td>null</td><td>Caribbean parrots thought to be endemic are actually relicts of millennial-scale extinction</td><td>For the first time, researchers have extracted ancient DNA from Caribbean parrot fossils and archaeological specimens, showing that species thought to be endemic to particular islands were historically more widespread and diverse.</td><td>https://www.sciencedaily.com/releases/2023/09/230925153825.htm</td><td>https://www.sciencedaily.com/images/scidaily-icon.png</td><td>2023-09-25T19:38:25Z</td><td>null</td></tr><tr><td>null</td><td>Science Daily</td><td>null</td><td>Strength is in this glass's DNA</td><td>Scientists were able to fabricate a pure form of glass and coat specialized pieces of DNA with it to create a material that was not only stronger than steel, but incredibly lightweight.</td><td>https://www.sciencedaily.com/releases/2023/09/230927155027.htm</td><td>https://www.sciencedaily.com/images/scidaily-icon.png</td><td>2023-09-27T19:50:27Z</td><td>null</td></tr><tr><td>null</td><td>Science Daily</td><td>null</td><td>Tiny CRISPR tool could help shred viruses</td><td>Scientists mapped out the three-dimensional structure of one of the smallest known CRISPR-Cas13 systems then used that knowledge to modify its structure and improve its accuracy.</td><td>https://www.sciencedaily.com/releases/2023/09/230927155337.htm</td><td>https://www.sciencedaily.com/images/scidaily-icon.png</td><td>2023-09-27T19:53:37Z</td><td>null</td></tr><tr><td>null</td><td>Science Daily</td><td>null</td><td>A lethal parasite's secret weapon: Infecting non-immune cells</td><td>The organisms that cause visceral leishmaniasis, a potentially deadly version of the parasitic disease that most often affects the skin to cause disfiguring disease, appear to have a secret weapon, new research suggests: They can infect non-immune cells and p…</td><td>https://www.sciencedaily.com/releases/2023/09/230929131004.htm</td><td>https://www.sciencedaily.com/images/scidaily-icon.png</td><td>2023-09-29T17:10:04Z</td><td>null</td></tr><tr><td>null</td><td>Science Daily</td><td>null</td><td>Timing plant evolution with a fast-ticking epigenetic clock</td><td>Recent discoveries in the field of epigenetics, the study of inheritance of traits that occur without changing the DNA sequence, have shown that chronological age in mammals correlates with epigenetic changes that accumulate during the lifetime of an individu…</td><td>https://www.sciencedaily.com/releases/2023/09/230929131649.htm</td><td>https://www.sciencedaily.com/images/scidaily-icon.png</td><td>2023-09-29T17:16:49Z</td><td>null</td></tr><tr><td>null</td><td>Science Daily</td><td>null</td><td>A surprising way to disrupt sleep</td><td>A new study has identified a structure in the circadian mRNA Period2 that affects the sleep-wake cycle. The results indicate how translation and post-transcriptional processes influence the body's internal clock and its impact on sleep patterns.</td><td>https://www.sciencedaily.com/releases/2023/10/231002124410.htm</td><td>https://www.sciencedaily.com/images/scidaily-icon.png</td><td>2023-10-02T16:44:10Z</td><td>null</td></tr><tr><td>null</td><td>Scientific American</td><td>Leo DeLuca</td><td>Ancient Honey-and-Vinegar Combo Could Actually Treat Infected Wounds</td><td>An age-old remedy that was prescribed by Hippocrates may be a cheap alternative to antibiotics for those with chronic wounds</td><td>https://www.scientificamerican.com/article/ancient-honey-and-vinegar-combo-could-actually-treat-infected-wounds/</td><td>https://static.scientificamerican.com/sciam/cache/file/53B0F75C-EBB5-4D0C-98BAAB05D24F266D.jpg</td><td>2023-10-01T13:00:00Z</td><td>null</td></tr><tr><td>null</td><td>Scientific American</td><td>Lauren J. Young</td><td>mRNA COVID Vaccine Technology Wins 2023 Nobel Prize in Physiology or Medicine</td><td>Katalin Karik&oacute; and Drew Weissman win this year&rsquo;s Nobel Prize in Medicine for their mRNA vaccine discoveries that made the COVID vaccines possible</td><td>https://www.scientificamerican.com/article/nobel-prize-medicine-2023-mrna-vaccine-tech/</td><td>https://static.scientificamerican.com/sciam/cache/file/520E9815-3A2F-43FA-BB8AB866B23DF71E.jpg</td><td>2023-10-02T10:52:00Z</td><td>null</td></tr><tr><td>null</td><td>Scientific American</td><td>Naomi Oreskes</td><td>Rosalind Franklin Deserves a Posthumous Nobel Prize for Co-discovering DNA Structure</td><td>Awarding Rosalind Franklin a Nobel Prize posthumously for her role in DNA discovery is the honorable&mdash;and scientific&mdash;thing to do</td><td>https://www.scientificamerican.com/article/rosalind-franklin-deserves-a-posthumous-nobel-prize-for-co-discovering-dna-structure/</td><td>https://static.scientificamerican.com/sciam/cache/file/8A0EB633-E9BB-4F5A-BD912F9B31DC8DD3.jpg</td><td>2023-09-24T13:00:00Z</td><td>null</td></tr><tr><td>techradar</td><td>TechRadar</td><td>desire.athow@futurenet.com (Desire Athow)</td><td>Obscure startup plans 10,000TB data cartridges with popular material used in restrooms</td><td>Ceramic may displace holographic, DNA and silica as the next big thing in exotic storage</td><td>https://www.techradar.com/pro/obscure-startup-plans-10000tb-data-cartridges-with-popular-material-used-in-restrooms</td><td>https://cdn.mos.cms.futurecdn.net/nz7KSLbpQxoxTpJzLtoLjk-1200-80.jpg</td><td>2023-09-04T17:35:31Z</td><td>null</td></tr><tr><td>null</td><td>The-sun.com</td><td>Israel Salas-Rodriguez</td><td>NASA publishes long-awaited UFO report...</td><td>NASA publishes long-awaited UFO report...\r\n",
       "\n",
       " \n",
       " \n",
       " \n",
       " (Third column, 7th story, link)\r\n",
       "\n",
       " \r\n",
       "\n",
       " \r\n",
       "\n",
       " \n",
       " Related stories:Scientists unveil 'mummified alien' corpses to Mexico Congress...\r\n",
       "Three-fingered hands, unknown DNA, eggs inside...\r\n",
       "Found in Peru mines...</td><td>https://www.the-sun.com/tech/9080616/nasa-ufo-study-report-findings-conference/</td><td>https://www.the-sun.com/wp-content/uploads/sites/6/2023/09/SC-UFO-Breaker-OP-copy.jpg?strip=all&quality=100&w=1920&h=1080&crop=1</td><td>2023-09-14T14:10:39Z</td><td>null</td></tr><tr><td>null</td><td>The Atlantic</td><td>Isabel Fattal</td><td>How Siblings Shape Who We Are</td><td>For many of us, these relationships are the longest of our life.</td><td>https://www.theatlantic.com/newsletters/archive/2023/09/siblings-longest-relationships/675349/?utm_source=feed</td><td>null</td><td>2023-09-16T12:00:00Z</td><td>null</td></tr><tr><td>the-verge</td><td>The Verge</td><td>Jennifer Pattison Tuohy</td><td>The Echo Hub is Amazon’s first true smart home controller</td><td>The Echo Hub is a $180 smart home controller that is an Echo Show smart speaker, a Thread border router, a Matter controller, and a Zigbee hub for your smart home</td><td>https://www.theverge.com/2023/9/20/23880766/amazon-alexa-echo-hub-smart-displays-price-matter</td><td>https://cdn.vox-cdn.com/thumbor/uhiovuACNtjdXbZdJ-1tdmcMA2M=/0x0:2448x1378/1200x628/filters:focal(1487x600:1488x601)/cdn.vox-cdn.com/uploads/chorus_asset/file/24936035/Echo_Hub_Image_1.png</td><td>2023-09-20T16:15:08Z</td><td>null</td></tr><tr><td>null</td><td>TMZ</td><td>TMZ Staff</td><td>Two New 9/11 Victims Identified with Advanced DNA Testing</td><td>Two new 9/11 victims have been identified years later through DNA -- a testament to modern science ... but also, to the fact over 1,000 lost souls remain nameless, even today. NYC officials made the announcement Friday -- a few days before the 22nd…</td><td>https://www.tmz.com/2023/09/11/two-new-9-11-victims-identified-dna-testing/</td><td>https://imagez.tmz.com/image/64/16by9/2023/09/11/642eb77acaf143518cd885ac007a97bd_xl.jpg</td><td>2023-09-11T14:45:35Z</td><td>null</td></tr><tr><td>null</td><td>TMZ</td><td>TMZ Staff</td><td>Suspected Gilgo Beach Serial Killer's DNA Matches Key Pizza Evidence</td><td>The suspected Gilgo Beach serial killer is almost certainly the one authorities have been seeking for years -- this according to prosecutors, who now say the proof is in the pizza. Rex Heuermann appeared in court Wednesday for a status hearing ...…</td><td>https://www.tmz.com/2023/09/27/suspected-gilgo-beach-serial-killer-dna-match-pizza-evidence/</td><td>https://imagez.tmz.com/image/88/16by9/2023/09/27/889427faa35f429898562b5bbbf06ae9_xl.jpg</td><td>2023-09-27T18:50:36Z</td><td>null</td></tr><tr><td>null</td><td>Universe Today</td><td>Evan Gough</td><td>Even Tiny Amounts of DNA on Mars Will Be Detectable</td><td>The Search for Life is focused on the search for biosignatures. Planetary life leaves a chemical fingerprint on a planet’s atmosphere, and scientists are trying to work out which chemicals in what combinations and amounts are a surefire indicator of life. Mar…</td><td>https://www.universetoday.com/163376/even-tiny-amounts-of-dna-on-mars-will-be-detectable/</td><td>https://www.universetoday.com/wp-content/uploads/2023/01/27262_PIA25681-web.jpg</td><td>2023-09-27T15:42:42Z</td><td>null</td></tr><tr><td>null</td><td>DIE WELT</td><td>Edda Grabar</td><td>„Ich schrieb Anträge, Anträge, Anträge“</td><td>Der diesjährige Nobelpreis geht an die beiden Wissenschaftler, die die Grundlagen für die mRNA-Impfstoffe gelegt haben: die Ungarin Katalin Karikó und den US-Forscher Drew Weissmann. Die deutschen mRNA-Forscher Özlem Türeci, Ugur Sahin und Ingmar Hörr wurden …</td><td>https://www.welt.de/wissenschaft/article247783826/Medizin-Nobelpreis-2023-fuer-Katalin-Kariko-und-Drew-Weissman.html</td><td>https://img.welt.de/img/wissenschaft/mobile247783822/1171352217-ci16x9-w1200/FILES-Japan-Prize-2022-Laureates.jpg</td><td>2023-10-02T15:58:28Z</td><td>null</td></tr><tr><td>wired</td><td>Wired</td><td>Amit Katwala</td><td>DeepMind’s New AI Can Predict Genetic Diseases</td><td>AlphaMissense, a new model from Google’s artificial intelligence team, analyzes the effects of DNA mutations and will accelerate research into rare diseases.</td><td>https://www.wired.com/story/deepmind-ai-alphamissense-genetics-rare-diseases/</td><td>https://media.wired.com/photos/6509abd0d7ea654c08913301/191:100/w_1280,c_limit/digitized-dna-helix-science-GettyImages-85757934.jpg</td><td>2023-09-19T14:35:23Z</td><td>null</td></tr><tr><td>wired</td><td>Wired</td><td>Megan Farokhmanesh</td><td>Can 'Monster Hunter Now' Pull Niantic Out of Its Slump?</td><td>The company landed an unprecedented hit with the mobile game \"Pokémon Go.\" Seven years later, it’s still struggling to recapture that success.</td><td>https://www.wired.com/story/monster-hunter-now-interview-kawai-osumi-niantic/</td><td>https://media.wired.com/photos/65022c8d139c7729ea586425/191:100/w_1280,c_limit/Niantic-Wants-to-Make-Monster-Hunter-Now-the-New-Pok%C3%A9mon-Go-Games.jpg</td><td>2023-09-14T01:00:00Z</td><td>null</td></tr><tr><td>wired</td><td>Wired</td><td>Ramin Skibba</td><td>NASA Didn’t Find Aliens—but if You See Any UFOs, Holler</td><td>The agency assembled a panel of experts to figure out how to handle future sightings, in case the truth is out there.</td><td>https://www.wired.com/story/nasa-ufos-aliens-report-2023/</td><td>https://media.wired.com/photos/64c2a41432101aa6f13ca191/191:100/w_1280,c_limit/UFO_science_GettyImages-462275115.jpg</td><td>2023-09-14T15:08:39Z</td><td>null</td></tr><tr><td>null</td><td>Xataka.com</td><td>Javier Jiménez</td><td>A Katalin Karikó le dijeron hace 30 años que su carrera está acabada. Hoy es premio Nobel tras salvar al mundo</td><td>En 1995, Katalin Karikó tuvo la peor reunión de su carrera. Es más, probablemente tuvo la peor reunión de su vida. Tras cinco años persiguiendo una idea que nadie se tomaba en serio, recién recuperada de un cáncer y con su marido atrapado en Hungría por un pr…</td><td>https://www.xataka.com/medicina-y-salud/a-katalin-kariko-le-dijeron-hace-30-anos-que-su-carrera-esta-acabada-hoy-premio-nobel-salvar-al-mundo</td><td>https://i.blogs.es/e36967/weissman-kariko-1-/840_560.jpeg</td><td>2023-10-02T10:46:00Z</td><td>null</td></tr><tr><td>die-zeit</td><td>Die Zeit</td><td>ZEIT ONLINE: News -</td><td>Schwedt: Bürgermeisterin: «Der Wandel liegt in der DNA der Stadt»</td><td></td><td>https://www.zeit.de/zustimmung?url=https%3A%2F%2Fwww.zeit.de%2Fnews%2F2023-09%2F07%2Fbuergermeisterin-der-wandel-liegt-in-der-dna-der-stadt</td><td>null</td><td>2023-09-07T04:34:20Z</td><td>null</td></tr><tr><td>die-zeit</td><td>Die Zeit</td><td>ZEIT ONLINE: News -</td><td>Eishockey: Söderholm über Jackson: «DNA von Red Bull München gepusht»</td><td></td><td>https://www.zeit.de/zustimmung?url=https%3A%2F%2Fwww.zeit.de%2Fnews%2F2023-09%2F12%2Fsoederholm-ueber-jackson-dna-von-red-bull-muenchen-gepusht</td><td>null</td><td>2023-09-12T11:46:45Z</td><td>null</td></tr><tr><td>die-zeit</td><td>Die Zeit</td><td>ZEIT ONLINE: News -</td><td>Südwestpfalz: DNA-Test bestätigt Wolfriss in der Südwestpfalz</td><td></td><td>https://www.zeit.de/zustimmung?url=https%3A%2F%2Fwww.zeit.de%2Fnews%2F2023-09%2F18%2Fdna-test-bestaetigt-wolfriss-in-der-suedwestpfalz</td><td>null</td><td>2023-09-18T15:08:33Z</td><td>null</td></tr><tr><td>null</td><td>Zoomit.ir</td><td>مریم صفدری</td><td>دانشمندان برای اولین‌بار RNA را از حیوانی منقرض‌شده بازیابی کردند</td><td>یکی از مراحل احیای گونه‌های منقرض‌شده‌ای همچون گرگ تاسمانی توالی‌یابی RNA  است که دانشمندان موفق به انجام آن شده‌اند.</td><td>https://www.zoomit.ir/fundamental-science/409481-rna-recovered-from-extinct-tasmanian-tiger/</td><td>https://api2.zoomit.ir/media/tasmanian-tiger-65100839ae10e645b292e11d</td><td>2023-09-24T11:55:00Z</td><td>null</td></tr></tbody></table></div>"
      ]
     },
     "metadata": {
      "application/vnd.databricks.v1+output": {
       "addedWidgets": {},
       "aggData": [],
       "aggError": "",
       "aggOverflow": false,
       "aggSchema": [],
       "aggSeriesLimitReached": false,
       "aggType": "",
       "arguments": {},
       "columnCustomDisplayInfos": {},
       "data": [
        [
         null,
         null,
         null,
         null,
         null,
         null,
         null,
         null,
         null
        ],
        [
         null,
         "The Intercept",
         "Liliana Segura",
         "DNA Evidence Sent Anthony Sanchez to Death Row. But Did It Actually Solve the Crime?",
         "A college ballerina was raped and murdered in Oklahoma. DNA put Anthony Sanchez at the scene. But it did not tell the whole story.\nThe post DNA Evidence Sent Anthony Sanchez to Death Row. But Did It Actually Solve the Crime? appeared first on The Intercept.",
         "http://theintercept.com/2023/09/18/oklahoma-execution-dna-anthony-sanchez/",
         "https://theintercept.com/wp-content/uploads/2023/09/anthonysanchez_lead_final_the-intercept.jpg?fit=2160%2C1080&w=1200&h=800",
         "2023-09-18T11:00:00Z",
         null
        ],
        [
         "abc-news",
         "ABC News",
         "GERALD IMRAY Associated Press",
         "South Africa announces official inquiry into deadly Johannesburg building fire",
         "The South African government says a retired judge will lead an official inquiry into last week's deadly fire at a derelict building in downtown Johannesburg",
         "https://abcnews.go.com/International/wireStory/south-african-government-announces-official-inquiry-deadly-johannesburg-102924141",
         "https://s.abcnews.com/images/International/wirestory_8f16805b89fccaa1291454e86db2f670_16x9_992.jpg",
         "2023-09-05T12:33:02Z",
         null
        ],
        [
         "abc-news",
         "ABC News",
         "SEAN MURPHY Associated Press",
         "Man executed for the 1996 killing of a University of Oklahoma dance student",
         "A man convicted of the 1996 killing of a University of Oklahoma dance student has been executed",
         "https://abcnews.go.com/US/wireStory/man-set-executed-1996-slaying-university-oklahoma-dance-103369263",
         "https://s.abcnews.com/images/US/abc_news_default_2000x2000_update_16x9_992.jpg",
         "2023-09-21T16:21:55Z",
         null
        ],
        [
         "abc-news",
         "ABC News",
         "ANDREW SELSKY Associated Press",
         "Oregon man who was sentenced to death is free 2 years after murder conviction was reversed",
         "A man sentenced to death for a 1998 murder is now free, two years after the Oregon Court of Appeals reversed the conviction",
         "https://abcnews.go.com/US/wireStory/oregon-man-sentenced-death-free-2-years-after-102982452",
         "https://i.abcnewsfe.com/a/3f18ab0e-36b3-4251-ae5c-965228ce27b2/wirestory_e2b065ae1d19b8ca3698a86a9a9f61e5_16x9.jpg?w=992",
         "2023-09-07T01:33:37Z",
         null
        ],
        [
         "abc-news",
         "ABC News",
         "The Associated Press",
         "Remains identified of airman who died in crash following WWII bombing raid on Japan",
         "Military scientists have identified the remains of a U.S. Army airman from Michigan who died along with 10 other crew members when a bomber crashed in India following a World War II bombing raid on Japan",
         "https://abcnews.go.com/US/wireStory/remains-identified-michigan-airman-died-crash-wwii-bombing-103031035",
         "https://s.abcnews.com/images/US/abc_news_default_2000x2000_update_16x9_992.jpg",
         "2023-09-08T18:04:34Z",
         null
        ],
        [
         "abc-news",
         "ABC News",
         "The Associated Press",
         "Woman charged with abandoning newborn girl in New Jersey park nearly 40 years ago",
         "The mother of a newborn girl whose body was found in a New Jersey park on Christmas Eve nearly 40 years ago has been identified and is now charged in the death",
         "https://abcnews.go.com/US/wireStory/woman-charged-abandoning-newborn-girl-new-jersey-park-103011000",
         "https://s.abcnews.com/images/US/abc_news_default_2000x2000_update_16x9_992.jpg",
         "2023-09-07T21:17:43Z",
         null
        ],
        [
         null,
         "Abduzeedo.com",
         "abduzeedo",
         "Los Kalakos Tequila Blanco: Minimalist Packaging Design",
         "Los Kalakos Tequila Blanco: Minimalist Packaging Design\n \n\n abduzeedo0913—23\n Los Kalakos' Tequila Blanco 2023 isn’t just another beverage in the spirits aisle – it's a masterclass in brandjng and packaging design presented on a bottle. Commissioned by the il…",
         "https://abduzeedo.com/node/88049",
         null,
         "2023-09-13T21:09:25Z",
         null
        ],
        [
         "ars-technica",
         "Ars Technica",
         "Beth Mole",
         "After being demoted and forced to retire, mRNA researcher wins Nobel",
         "Katalin Karikó and Drew Weissman awarded Nobel Prize in Physiology or Medicine.",
         "https://arstechnica.com/health/2023/10/after-being-demoted-and-forced-to-retire-mrna-researcher-wins-nobel/",
         "https://cdn.arstechnica.net/wp-content/uploads/2023/10/GettyImages-1701994937-760x380.jpeg",
         "2023-10-02T19:06:09Z",
         null
        ],
        [
         "ars-technica",
         "Ars Technica",
         "Elizabeth Rayne",
         "Genomes could help enigmatic, endangered nocturnal parrot make a comeback",
         "Variations linked to fertility, survival still present in a small population.",
         "https://arstechnica.com/science/2023/09/genomes-could-help-enigmatic-endangered-nocturnal-parrot-make-a-comeback/",
         "https://cdn.arstechnica.net/wp-content/uploads/2023/09/GettyImages-1287134021-760x380.jpg",
         "2023-09-12T16:57:48Z",
         null
        ],
        [
         null,
         "BGR",
         "Joshua Hawkins",
         "Google DeepMind could speed up the search for disease-causing genes",
         "Google’s AI firm DeepMind says that it could help speed up the search for disease-causing genes by using AI. DeepMind is essentially Google’s AI division, …\nThe post Google DeepMind could speed up the search for disease-causing genes appeared first on BGR.",
         "https://bgr.com/tech/google-deepmind-could-speed-up-the-search-for-disease-causing-genes/",
         "https://bgr.com/wp-content/uploads/2020/09/bgrpic-copy-16.jpg?quality=82&strip=all",
         "2023-09-19T23:43:00Z",
         null
        ],
        [
         null,
         "Bioengineer.org",
         "Bioengineer",
         "Microbe Computers (2013)",
         "Bacteroides thetaiotaomicron is one of the good guys. Known simply as Bt, it is an abundant member of the estimated 500 to 1,000 species of bacteria that live in the human intestine and one of the",
         "https://bioengineer.org/microbe-computers/",
         "https://i0.wp.com/bioengineer.org/wp-content/uploads/2013/11/microbe-computers-standford.jpg?fit=500%2C300&ssl=1",
         "2023-09-14T10:20:13Z",
         null
        ],
        [
         null,
         "Biztoc.com",
         "prnewswire.com",
         "Ginkgo Bioworks Announces Multi-Target RNA Discovery Collaboration with Pfizer",
         "BOSTON, Sept. 27, 2023 /PRNewswire/ -- Ginkgo Bioworks (NYSE: DNA) today announced a collaboration with Pfizer (NYSE: PFE) focused on the discovery of RNA-based drug candidates. In the collaboration, Pfizer will leverage to advance the discovery and developme…",
         "https://biztoc.com/x/3b755878ca1d515a",
         "https://c.biztoc.com/p/3b755878ca1d515a/og.webp",
         "2023-09-27T20:26:11Z",
         null
        ],
        [
         null,
         "Boing Boing",
         "David Pescovitz",
         "Bizarre golden egg found at the bottom of the ocean confounds scientists",
         "An NOAA Ocean Exploration team found this strange golden orb two miles down on the seafloor off southern Alaska. In further freakiness, the remote vehicle's camera revealed that the mysterious orb had a hole in it. \"Something tried to get in … or to get out,\"…",
         "https://boingboing.net/2023/09/07/bizarre-golden-egg-found-at-the-bottom-of-the-ocean-confounds-scientists.html",
         "https://i0.wp.com/boingboing.net/wp-content/uploads/2023/09/aa8f8ac81edb4fb7e6bfe2b24321fa51.webp?fit=1140%2C642&ssl=1",
         "2023-09-07T19:57:09Z",
         null
        ],
        [
         null,
         "Boing Boing",
         "David Pescovitz",
         "Mutant worms engineered with spider genes spin silk six times tougher than bulletproof Kevlar",
         "Researchers at China's Donghua University inserted spider genes into the DNA of silkworms resulting in worms that can spin fibers six times tougher than the bulletproof material Kevlar. They used the gene editing technology CRISPR to replace the silkworm gene…",
         "https://boingboing.net/2023/09/21/mutant-worms-engineered-with-spider-genes-spin-silk-six-times-tougher-than-bulletproof-kevlar.html",
         "https://i0.wp.com/boingboing.net/wp-content/uploads/2023/09/shutterstock_1991337023-scaled.jpg?fit=1200%2C835&ssl=1",
         "2023-09-21T20:12:18Z",
         null
        ],
        [
         null,
         "Wikipedia.org",
         "Contributors to Wikimedia projects",
         "The man who did not have a conversation in over 50 years",
         "Comments",
         "https://en.wikipedia.org/wiki/Andr%C3%A1s_Toma",
         "https://upload.wikimedia.org/wikipedia/en/e/e1/Andr%C3%A1s_Toma.gif",
         "2023-09-30T20:51:53Z",
         null
        ],
        [
         null,
         "Gizmodo.com",
         "Isaac Schultz",
         "Scientists Recover RNA From an Extinct Species for the First Time",
         "El último tilacino conocido, el carnívoro marsupial más grande de los últimos tiempos, murió en el zoológico Beaumaris de Tasmania en 1936. Pero el animal ha sido recientemente el objetivo de los esfuerzos de desextinción, y ahora, un equipo de investigadores…",
         "https://es.gizmodo.com/rna-recovery-extinct-species-thylacine-tasmanian-tiger-1850853810",
         "https://i.kinja-img.com/gawker-media/image/upload/c_fill,f_auto,fl_progressive,g_center,h_675,pg_1,q_80,w_1200/80a38dd0ce60d4e1e2fa07ab5333149a.png",
         "2023-09-19T18:48:23Z",
         null
        ],
        [
         null,
         "Yahoo Entertainment",
         "Robert Langreth",
         "Moderna Poised to Seek Flu Shot Approval After Trial Results",
         "(Bloomberg) -- Moderna Inc. said a reformulated version of its messenger-RNA based flu shot met its primary goals in a final-stage trial — a result that...",
         "https://finance.yahoo.com/news/moderna-poised-seek-flu-shot-103000778.html",
         "https://s.yimg.com/ny/api/res/1.2/KN7WU0AljPNb_0Pz1c507w--/YXBwaWQ9aGlnaGxhbmRlcjt3PTEyMDA7aD04MDA-/https://media.zenfs.com/en/bloomberg_markets_842/8837dfec3df576bab19e772fa026d2ab",
         "2023-09-13T11:41:02Z",
         null
        ],
        [
         null,
         "Gendai.media",
         null,
         "物質から生命へ、その間に何が起きたのか？分子進化の謎から「生命の起源」へ",
         "小惑星「リュウグウ」は、炭素や窒素に富んでいて、多種多様な有機物に満ちていた。その中から、アミノ酸をはじめ、RNAのもととなるウラシルなど、生命をつくる原材料が見つかりました！　この大発見をとおし、宇宙で「生命の素」ができていることがわかりました。この記事では、高野淑識さんの専門分野となる「有機宇宙化学」という研究をとおして、宇宙での分子進化、そして「生命の起源」について紹介していきます。",
         "https://gendai.media/articles/-/116206",
         "https://gendai-m.ismcdn.jp/mwimgs/6/c/1200m/img_6cfe749d0d838468a32b80bf680990fb170090.jpg",
         "2023-09-25T21:02:00Z",
         null
        ],
        [
         null,
         "Gizmodo.com",
         "Justin Carter",
         "The Walking Dead: Daryl Dixon Hopes to Recapture the Original's Zombie Magic",
         "AMC’s The Walking Dead was on the air for 11 years, which may be too long, depending on your point of view. While the franchise isn’t aiming to slow down any time soon, one of its big spinoffs is focused on Norman Reedus’ Daryl Dixon. With the fan-favorite ar…",
         "https://gizmodo.com/daryl-dixon-greg-nicotero-original-walking-dead-1850800745",
         "https://i.kinja-img.com/gawker-media/image/upload/c_fill,f_auto,fl_progressive,g_center,h_675,pg_1,q_80,w_1200/0280482257303a74e157e8e55f03217d.jpg",
         "2023-09-03T19:15:00Z",
         null
        ],
        [
         null,
         "Gizmodo.com",
         "Cheryl Eddy",
         "Masters of the Universe: Revolution Announces 2024 Return With Scare Glow's Help",
         "He-Man returns to Netflix next year for more of Kevin Smith’s epic animated series—this time titled Masters of the Universe: Revolution. A new clip featuring terrifying, fiendishly taunting adversary Scare Glow is here to get you pumped for battle.Read more...",
         "https://gizmodo.com/masters-of-universe-revolution-netflix-clip-kevin-smith-1850875574",
         "https://i.kinja-img.com/gawker-media/image/upload/c_fill,f_auto,fl_progressive,g_center,h_675,pg_1,q_80,w_1200/9fb36abb38b0f3c67ea5adc73edea393.jpg",
         "2023-09-27T17:05:00Z",
         null
        ],
        [
         null,
         "Gizmodo.com",
         "Isaac Schultz",
         "Scientists Recover RNA From an Extinct Species for the First Time",
         "The last known thylacine—the largest marsupial carnivore in recent times—died in Tasmania’s Beaumaris Zoo in 1936. But the animal has recently been the target of de-extinction efforts, and now, a team of researchers has managed to recover RNA from the creatur…",
         "https://gizmodo.com/rna-recovery-extinct-species-thylacine-tasmanian-tiger-1850853441",
         "https://i.kinja-img.com/gawker-media/image/upload/c_fill,f_auto,fl_progressive,g_center,h_675,pg_1,q_80,w_1200/80a38dd0ce60d4e1e2fa07ab5333149a.png",
         "2023-09-19T18:48:23Z",
         null
        ],
        [
         null,
         "Basqu.es",
         null,
         "You have thousands of ancestors from the 1600s",
         "Comments",
         "https://kayce.basqu.es/blog/ancestors/",
         null,
         "2023-09-05T02:56:33Z",
         null
        ],
        [
         null,
         "VOA News",
         "VOA Learning English",
         "Scientists Win Nobel Medicine Prize for COVID-19 Vaccine Research",
         "Two scientists have won the Nobel Prize in Medicine for discoveries that led to COVID-19 vaccines. The Nobel organization praised the winners for assisting during an “unprecedented rate of vaccine development” during the COVID-19 pandemic.",
         "https://learningenglish.voanews.com/a/scientists-win-nobel-medicine-prize-for-covid-19-vaccine-research/7293634.html",
         "https://gdb.voanews.com/01000000-0aff-0242-a37a-08dbc377b7f1_cx0_cy2_cw0_w1200_r1.jpg",
         "2023-10-02T21:58:00Z",
         null
        ],
        [
         null,
         "Marginalrevolution.com",
         "Tyler Cowen",
         "Emergent Ventures winners, 29th cohort",
         "Dan Rivera, South Carolina, FavorPiedmont, addiction recovery and treatment. Lukas Bogacz, Utrecht/South Africa, to start a company based on fine-tuning LLMs. Brian Wang, MIT, Panoplia Laboratories, for DNA-based pan-virus vaccine research. Gabriel Abrams, Wa…",
         "https://marginalrevolution.com/marginalrevolution/2023/09/emergent-ventures-winners-29th-cohort.html",
         "https://marginalrevolution.com/wp-content/uploads/2016/10/MR-logo-thumbnail.png",
         "2023-09-27T04:21:23Z",
         null
        ],
        [
         null,
         "MedCity News",
         "FRANK VINLUAN - MEDCITY NEWS",
         "FDA Approves Updated COVID-19 Vaccines To Address Now Circulating Variants",
         "The FDA said the updated messenger RNA vaccines from Pfizer/BioNTech and Moderna will protect against the omicron subvariants now prevalent in circulation. Left out of the FDA decision is Novavax, whose protein-based vaccine is still under regulatory review.\n…",
         "https://medcitynews.com/2023/09/fda-approves-updated-covid-19-vaccines-to-address-now-circulating-variants/",
         "https://medcitynews.com/uploads/2020/08/GettyImages-1208953647-1-e1597428363884.jpg",
         "2023-09-12T14:02:20Z",
         null
        ],
        [
         null,
         "Mindmatters.ai",
         null,
         "Artificial Consciousness Remains Impossible (Part 2)",
         "Read part one of this article series here. The following segments are responses to specific categories of counterarguments against my thesis, which you can read in part one of this article HERE.",
         "https://mindmatters.ai/2023/09/artificial-consciousness-remains-impossible-part-2/",
         "https://mindmatters.ai/wp-content/uploads/sites/2/2023/08/visualizatipon-of-human-consciousness-in-artificial-intelligence-process-of-thinking-robot-humanoid-android-on-dark-background-with-neurals-connection-created-with-generative-ai-stockpack-adobe-stock-scaled.jpg",
         "2023-09-06T22:55:52Z",
         null
        ],
        [
         null,
         "New Atlas",
         "Paul McClure",
         "“Jumping genes” pathway provides a potential way to slow aging",
         "Researchers have provided experimental proof of a pathway that controls aging, finding that quieting some mobile DNA sequences in roundworms led to a longer life. Not only does the discovery provide a greater understanding of how we age, but it also opens the…",
         "https://newatlas.com/biology/jumping-genes-pathway-a-potential-way-to-slow-aging/",
         "https://assets.newatlas.com/dims4/default/32a927a/2147483647/strip/true/crop/1999x1049+0+141/resize/1200x630!/quality/90/?url=http%3A%2F%2Fnewatlas-brightspot.s3.amazonaws.com%2Ff4%2Fdd%2Fa30a367a49eb8117e3d6d2643d01%2Fdepositphotos-41225949-l.jpg&na.image_optimisation=0",
         "2023-09-26T06:53:54Z",
         null
        ],
        [
         null,
         "New Atlas",
         "Michael Irving",
         "First RNA extracted from extinct species may help thylacine resurrection",
         "Scientists have successfully extracted RNA molecules from an extinct species for the first time. The milestone was achieved in the thylacine, a species of carnivorous marsupial that roamed Australia until about a century ago – and may again one day, if curren…",
         "https://newatlas.com/biology/thylacine-rna-extracted-extinct-species/",
         "https://assets.newatlas.com/dims4/default/29ad3c3/2147483647/strip/true/crop/1119x587+0+30/resize/1200x630!/quality/90/?url=http%3A%2F%2Fnewatlas-brightspot.s3.amazonaws.com%2F7f%2F0a%2Fe49bb08547268769a9185ca5c7f8%2Fthylacine-color.png&na.image_optimisation=0",
         "2023-09-25T06:01:52Z",
         null
        ],
        [
         null,
         "New Atlas",
         "Paul McClure",
         "COVID’s – and other viruses’ – Achilles' heel identified",
         "Researchers have identified how the SARS-CoV-2 virus that causes COVID-19 takes advantage of our cellular machinery to replicate and spread in the body, and, importantly, a way to stop it. The finding could lead to the development of a new class of antiviral …",
         "https://newatlas.com/medical/achilles-heel-identified-for-covid-and-other-viruses/",
         "https://assets.newatlas.com/dims4/default/8977111/2147483647/strip/true/crop/1879x986+0+133/resize/1200x630!/quality/90/?url=http%3A%2F%2Fnewatlas-brightspot.s3.amazonaws.com%2F4f%2Fc9%2F0175f6c84671ab575a630e4fb9bf%2Fdepositphotos-496378584-l.jpg&na.image_optimisation=0",
         "2023-09-15T02:37:46Z",
         null
        ],
        [
         null,
         "New Atlas",
         "Paul McClure",
         "Mysterious circular RNA linked to Alzheimer’s & Parkinson’s disease",
         "Researchers have gained new insights into largely overlooked circular RNAs in brain cells and the crucial role they play in diseases like Alzheimer’s and Parkinson’s. In addition to providing valuable information about the molecular mechanisms underlying thes…",
         "https://newatlas.com/medical/mysterious-circular-rna-linked-to-alzheimers-parkinsons-disease/",
         "https://assets.newatlas.com/dims4/default/6978e46/2147483647/strip/true/crop/2000x1050+0+142/resize/1200x630!/quality/90/?url=http%3A%2F%2Fnewatlas-brightspot.s3.amazonaws.com%2F5c%2Fc4%2F284e63044f03be85b705f4703a3e%2Fdepositphotos-58856987-l.jpg&na.image_optimisation=0",
         "2023-09-21T06:56:01Z",
         null
        ],
        [
         null,
         "New Atlas",
         "Michael Irving",
         "Nobel prize awarded to scientists who set stage for mRNA COVID vaccines",
         "The 2023 Nobel Prize in Physiology or Medicine has been awarded to biochemist Katalin Karikó and immunologist Drew Weissman for discoveries that enabled the development of mRNA vaccines against COVID-19.Continue ReadingCategory: Medical, ScienceTags: Nobel pr…",
         "https://newatlas.com/medical/nobel-prize-physiology-medicine-2023-mrna-covid-vaccines/",
         "https://assets.newatlas.com/dims4/default/acf1ddb/2147483647/strip/true/crop/2000x1050+0+225/resize/1200x630!/quality/90/?url=http%3A%2F%2Fnewatlas-brightspot.s3.amazonaws.com%2F78%2Fc1%2F05d0affe43fc90ef0171962be1aa%2Fvaccines.jpg&na.image_optimisation=0",
         "2023-10-03T01:17:56Z",
         null
        ],
        [
         null,
         "New Atlas",
         "Ben Coxworth",
         "Plant virus recruited to save crops from root-eating nematodes",
         "Plant parasitic nematodes are microscopic soil-dwelling creatures that damage crops by feeding on their roots. Scientists have now developed a greener and more efficient means of eradicating them, using a modified plant virus.Continue ReadingCategory: Science…",
         "https://newatlas.com/science/plant-virus-nonoparticles-nematodes/",
         "https://assets.newatlas.com/dims4/default/83f46a1/2147483647/strip/true/crop/2000x1050+0+142/resize/1200x630!/quality/90/?url=http%3A%2F%2Fnewatlas-brightspot.s3.amazonaws.com%2Fad%2F1d%2F7b4a48344dfc89402ca62ef68949%2Fdepositphotos-643016864-l.jpg&na.image_optimisation=0",
         "2023-09-22T17:17:51Z",
         null
        ],
        [
         null,
         "Northwestern.edu",
         null,
         "Covid patients breathe out large amounts of virus early on",
         "Northwestern investigators collect samples over the entire course of infection to determine when a person is most infectious",
         "https://news.northwestern.edu/stories/2023/09/covid-patients-exhale-up-to-1000-copies-of-virus-per-minute-during-first-eight-days-of-symptoms/",
         "https://news.northwestern.edu/assets/Stories/2023/09/COVID-on-breath-Cision__FocusFillWzk3MCw1MDksInkiLDcxXQ.jpg",
         "2023-09-12T17:01:20Z",
         null
        ],
        [
         null,
         "Slashdot.org",
         "msmash",
         "Researcher Shows Bodies of Purported 'Non-Human' Beings To Mexican Congress at UFO Hearing",
         "A journalist and researcher on unidentified anomalous phenomena (UAP), or UFOs as they're better known, presented the remains of purported \"non-human\" beings to lawmakers in Mexico on Tuesday during the country's first public congressional hearing on the topi…",
         "https://news.slashdot.org/story/23/09/13/1714242/researcher-shows-bodies-of-purported-non-human-beings-to-mexican-congress-at-ufo-hearing",
         "https://a.fsdn.com/sd/topics/news_64.png",
         "2023-09-13T17:20:00Z",
         null
        ],
        [
         null,
         "Yahoo Entertainment",
         "Will Dunham",
         "In a first, RNA is recovered from extinct Tasmanian tiger",
         "The Tasmanian tiger, a dog-sized striped carnivorous marsupial also called the thylacine, once roamed the Australian continent and adjacent islands, an apex ...",
         "https://news.yahoo.com/first-rna-recovered-extinct-tasmanian-180457917.html",
         "https://media.zenfs.com/en/reuters.com/150c85712ec930252bae5abb02e2f944",
         "2023-09-19T18:04:57Z",
         null
        ],
        [
         null,
         "Yahoo Entertainment",
         "STEVE LeBLANC",
         "Man accused of walking into FBI office, confessing to killing Boston woman in 1979",
         "A 68-year-old man walked into an FBI field office in Oregon and confessed to bludgeoning a woman to death more than four decades ago in Boston's Back Bay...",
         "https://news.yahoo.com/man-accused-walking-fbi-office-193005802.html",
         "https://s.yimg.com/cv/apiv2/social/images/yahoo_default_logo-1200x1200.png",
         "2023-09-11T19:30:05Z",
         null
        ],
        [
         null,
         "Yahoo Entertainment",
         "Melissa Healy",
         "Scientists whose work on mRNA paved the way for first COVID-19 vaccines win Nobel Prize",
         "Nobel Prize winners Katalin Karikó and Drew Weissman harnessed messenger RNA, an advance that led to the Pfizer and Moderna COVID-19 vaccines.",
         "https://news.yahoo.com/scientists-whose-mrna-paved-way-094652617.html",
         "https://media.zenfs.com/en/la_times_articles_853/8028e0ac614d01814fd675d6068015fa",
         "2023-10-02T09:46:52Z",
         null
        ],
        [
         null,
         "Olhardigital.com.br",
         "Alessandro Di Lorenzo",
         "IA vai descobrir a cura do câncer, diz CEO da Moderna",
         "Segundo Stéphane Bancel, a cura do câncer será descoberta através de vacinas de RNA mensageiro, e a IA já pode ter auxiliado nesse processo\nO post IA vai descobrir a cura do câncer, diz CEO da Moderna apareceu primeiro em Olhar Digital.",
         "https://olhardigital.com.br/2023/09/15/medicina-e-saude/ia-vai-descobrir-a-cura-do-cancer-diz-ceo-da-moderna/",
         "https://img.olhardigital.com.br/wp-content/uploads/2023/08/Cancer.jpg",
         "2023-09-15T15:08:06Z",
         null
        ],
        [
         null,
         "Olhardigital.com.br",
         "Pedro Borges Spadoni",
         "Dupla de cientistas ganha Nobel de Medicina por vacina contra Covid-19",
         "A bioquímica Katalin Karikó e o médico Drew Weissman ganharam o prêmio por descobertas que levaram ao desenvolvimento das vacinas\nO post Dupla de cientistas ganha Nobel de Medicina por vacina contra Covid-19 apareceu primeiro em Olhar Digital.",
         "https://olhardigital.com.br/2023/10/02/medicina-e-saude/dupla-de-cientistas-ganha-nobel-de-medicina-por-vacina-contra-covid-19/",
         "https://proxy.olhardigital.com.br/wp-content/uploads/2023/10/Destaque-Nobel-Medicina.jpg",
         "2023-10-02T13:48:08Z",
         null
        ],
        [
         null,
         "Pansci.asia",
         "鳥苷三磷酸 (PanSci Promo)",
         "腸病毒不可輕忽！孩童是重症高危險群，該如何保護家中孩童？疫苗真的有用嗎？",
         "2023 年，截至 7 月 8 日，感染腸病毒併發重症病例已經累計 6 例，而且都是 5 歲以下幼童。這個天氣開始變熱，也就是腸病毒肆虐的好發季節。今天我們就來談談什麼是「腸病毒」？ 以及 7 月上路的「腸病毒疫苗」是否有效？而目前的研究現況是什麼？",
         "https://pansci.asia/archives/367837",
         "https://pansci.asia/wp-content/uploads/2023/07/peple-gettig-vaccine-for-covid-19-virus-vaccinati-2021-09-03-19-42-53-utc-942x628.jpg",
         "2023-09-13T11:14:22Z",
         null
        ],
        [
         null,
         "Pansci.asia",
         "PanSci",
         "對腫瘤最終兵器！癌症療法新選擇，基改溶瘤病毒為何備受期待？",
         "為您介紹抗癌的最新武器——以毒攻毒！用溶瘤病毒感染癌細胞！\n而溶瘤病毒要怎麼在傷害癌細胞的同時，又不影響健康細胞生存呢？",
         "https://pansci.asia/archives/368691",
         "https://pansci.asia/wp-content/uploads/2023/08/dfv-1020x573.jpg",
         "2023-09-04T08:23:48Z",
         null
        ],
        [
         null,
         "Pansci.asia",
         "PanSci",
         "阿斯巴甜真的致癌嗎？代糖為何能超甜又零熱量？它是如何騙過舌頭產生甜味的？",
         "代糖為什麼可以沒熱量又這麼甜？它是怎麼被發現的？\n近年代糖出現致癌爭議，它會對我們的健康造成影響嗎？",
         "https://pansci.asia/archives/369138",
         "https://pansci.asia/wp-content/uploads/2023/08/image-44-942x628.png",
         "2023-09-05T07:00:00Z",
         null
        ],
        [
         null,
         "Pansci.asia",
         "研之有物│中央研究院",
         "研究自閉症成因的新思路：環狀 RNA——專訪中研院基因體研究中心莊樹諄研究員",
         "自閉症是一種病因成謎的複雜疾病，但我們在環狀 RNA 上看見一些可能性。",
         "https://pansci.asia/archives/369534",
         "https://pansci.asia/wp-content/uploads/2023/09/chuang-trees-juen-07-scaled-1-942x628.jpg",
         "2023-09-22T08:00:00Z",
         null
        ],
        [
         null,
         "Pansci.asia",
         "雅文兒童聽語文教基金會",
         "「拜託」最好和右耳說：解密聽覺「右耳優勢」現象",
         "「拜託」還要選邊站！\n怎麼樣溝通更容易成功？答案是在對方的右耳邊說話！",
         "https://pansci.asia/archives/369622",
         "https://pansci.asia/wp-content/uploads/2023/09/giphy-7.gif",
         "2023-09-20T02:00:00Z",
         null
        ],
        [
         null,
         "Pansci.asia",
         "臉譜出版",
         "人類是少數能看見斑馬條紋的物種！人類的視力到底有多好？——《五感之外的世界》",
         "人類的五感和其他物種比起來多半稱不上敏銳，唯獨視力鶴立雞群……？",
         "https://pansci.asia/archives/369647",
         "https://pansci.asia/wp-content/uploads/2023/09/magnifying-4340698_1280-942x628.jpg",
         "2023-09-18T08:00:00Z",
         null
        ],
        [
         null,
         "Pansci.asia",
         "careonline",
         "皮膚出現點狀出血、大片瘀斑！——免疫性血小板減少症警訊與治療",
         "免疫性血小板減少症 ITP（Immune thrombocytopenia）是一種自體免疫疾病，患者的免疫系統產生自體抗體攻擊自己的血小板，使血小板數量減少。",
         "https://pansci.asia/archives/369814",
         "https://pansci.asia/wp-content/uploads/2023/09/immune-thrombocytopenia-1.jpg",
         "2023-09-20T05:18:27Z",
         null
        ],
        [
         null,
         "Phys.Org",
         "Science X",
         "Chromosomal instability in cancer cells causes DNA damage and promotes invasiveness: Study",
         "Chromosomal instability is a phenomenon characterized by rapid changes in the number and structure of chromosomes during cell division. It is very common in solid tumors and it is linked to the aggressive spread of cancer, that is to say, metastasis. Given th…",
         "https://phys.org/news/2023-09-chromosomal-instability-cancer-cells-dna.html",
         "https://scx2.b-cdn.net/gfx/news/2023/chromosomal-instabilit.jpg",
         "2023-09-26T13:06:12Z",
         null
        ],
        [
         null,
         "Phys.Org",
         "Krisy Gashler",
         "Environmental DNA breakthrough detects genetic diversity of invasive fish",
         "Ecologists have demonstrated that the genetic material that species shed into their environments can reveal not only the presence of the species but also a broad range of information about the genetics of whole populations.",
         "https://phys.org/news/2023-09-environmental-dna-breakthrough-genetic-diversity.html",
         "https://scx2.b-cdn.net/gfx/news/hires/2023/environmental-dna-brea.jpg",
         "2023-09-11T16:15:02Z",
         null
        ],
        [
         null,
         "Phys.Org",
         "Science X",
         "Freshwater connectivity can transport environmental DNA through the landscape",
         "A new paper published in the journal Proceedings of the Royal Society B used environmental DNA (eDNA) metabarcoding to analyze fish and zooplankton communities.",
         "https://phys.org/news/2023-09-freshwater-environmental-dna-landscape.html",
         "https://scx2.b-cdn.net/gfx/news/hires/2023/freshwater-connectivit-1.jpg",
         "2023-09-13T00:00:01Z",
         null
        ],
        [
         null,
         "Phys.Org",
         "Science X",
         "Mature sperm lack intact mitochondrial DNA, study finds",
         "New research provides insight about the bedrock scientific principle that mitochondrial DNA—the distinct genetic code embedded in the organelle that serves as the powerplant of every cell in the body—is exclusively passed down by the mother.",
         "https://phys.org/news/2023-09-mature-sperm-lack-intact-mitochondrial.html",
         "https://scx2.b-cdn.net/gfx/news/hires/2021/sperm.jpg",
         "2023-09-18T15:00:01Z",
         null
        ],
        [
         null,
         "Phys.Org",
         "Science X",
         "Mechanism of methyltransferase METTL8-mediated mitochondrial RNA m3C modification and its relaxed substrate specificity",
         "A study published in the journal Science Bulletin was led by Profs. Xiao-Long Zhou and En-Duo Wang (CAS Center for Excellence in Molecular Cell Science, Shanghai Institute of Biochemistry and Cell Biology, Chinese Academy of Sciences).",
         "https://phys.org/news/2023-09-mechanism-methyltransferase-mettl8-mediated-mitochondrial-rna.html",
         "https://scx2.b-cdn.net/gfx/news/2023/mechanism-of-methyltra.jpg",
         "2023-09-27T18:27:02Z",
         null
        ],
        [
         null,
         "Phys.Org",
         "Science X",
         "Nanopore sequencing and DNA barcoding method gives hope of personalized medicine",
         "With the ability to map dozens of biomarkers at once, a new method could transform testing for conditions including heart disease and cancer.",
         "https://phys.org/news/2023-09-nanopore-sequencing-dna-barcoding-method.html",
         "https://scx2.b-cdn.net/gfx/news/hires/2023/nanopore-sequencing-an.jpg",
         "2023-09-25T15:00:01Z",
         null
        ],
        [
         null,
         "Phys.Org",
         "Science X",
         "New nanopore tech for quicker, more thorough mRNA quality checks",
         "Researchers at The University of Queensland are harnessing the latest sequencing technology developed by UK-based biotech Oxford Nanopore Technologies to analyze mRNA vaccines and therapies.",
         "https://phys.org/news/2023-09-nanopore-tech-quicker-mrna-quality.html",
         "https://scx2.b-cdn.net/gfx/news/hires/2023/new-nanopore-tech-for.jpg",
         "2023-09-21T15:06:42Z",
         null
        ],
        [
         null,
         "Phys.Org",
         "Science X",
         "A NICER approach to genome editing",
         "The gene editing technique CRISPR/Cas9 has allowed researchers to make precise and impactful changes to an organism's DNA to fix mutations that cause genetic disease. However, the CRISPR/Cas9 method can also result in unintended DNA mutations that may have ne…",
         "https://phys.org/news/2023-09-nicer-approach-genome.html",
         "https://scx2.b-cdn.net/gfx/news/2023/a-nicer-approach-to-ge.jpg",
         "2023-09-15T09:00:01Z",
         null
        ],
        [
         null,
         "Phys.Org",
         "Science X",
         "Facilitating a new nucleic acid detection platform",
         "DNA phosphorothioate (PT)-modification, with a non-bridging oxygen in the phosphodiester backbone substituted by sulfur, is an epigenetic marker in prokaryotes and is involved in the bacterial defense system, anti-oxidative stress, and gene regulation. PT-mod…",
         "https://phys.org/news/2023-09-nucleic-acid-platform.html",
         "https://scx2.b-cdn.net/gfx/news/hires/2023/characterization-and-e.jpg",
         "2023-09-29T08:01:36Z",
         null
        ],
        [
         null,
         "Phys.Org",
         "Kim Krieger",
         "Researchers publish first full DNA map of the endangered butternut",
         "Butternuts are soft and oily, with a light walnut flavor that lingers on the tongue. But few Americans have tasted this endangered native. Now, UConn undergraduates have published the first full map of the unusual tree's DNA in G3 . It has been accepted for p…",
         "https://phys.org/news/2023-09-publish-full-dna-endangered-butternut.html",
         "https://scx2.b-cdn.net/gfx/news/hires/2023/researchers-publish-fi-1.jpg",
         "2023-09-13T17:50:21Z",
         null
        ],
        [
         null,
         "Phys.Org",
         "Science X",
         "Q&A: Xiaohan Yang on transforming plants for a cleaner future",
         "Scientist Xiaohan Yang's research at the Department of Energy's Oak Ridge National Laboratory focuses on transforming plants to make them better sources of renewable energy and carbon storage.",
         "https://phys.org/news/2023-09-qa-xiaohan-yang-cleaner-future.html",
         "https://scx2.b-cdn.net/gfx/news/hires/2020/plant.jpg",
         "2023-09-27T16:10:01Z",
         null
        ],
        [
         null,
         "Phys.Org",
         "Heidi Opdyke",
         "Researchers develop a new reagent and method to create DNA and RNA polymer biohybrids",
         "Researchers in Carnegie Mellon University's Department of Chemistry have developed a reagent that opens new possibilities for creating DNA and RNA-based materials that could be used in ultra-stable and smart sensors for biomedical applications. The work was p…",
         "https://phys.org/news/2023-09-reagent-method-dna-rna-polymer.html",
         "https://scx2.b-cdn.net/gfx/news/2023/researchers-develop-a-11.jpg",
         "2023-09-04T13:27:04Z",
         null
        ],
        [
         null,
         "Phys.Org",
         "Science X",
         "New ribozyme can make RNA molecules accessible for click chemistry in living cells",
         "RNA molecules are real all-rounders. They transfer the genetic information from the DNA in the cell. They regulate the activity of genes. And some of them have a catalytic effect: just like enzymes, they enable biochemical reactions that would be difficult or…",
         "https://phys.org/news/2023-09-ribozyme-rna-molecules-accessible-click.html",
         "https://scx2.b-cdn.net/gfx/news/2023/new-ribozyme-can-make.jpg",
         "2023-09-04T16:24:11Z",
         null
        ],
        [
         null,
         "Phys.Org",
         "Sam Sholtis",
         "Could RNA folding play a role in the origin of life?",
         "To investigate potential early steps taken by the first life to develop on Earth, researchers have been studying a model of pre-life protocells comprising membraneless compartments. Now, a team of Penn State scientists have found that RNA molecules within the…",
         "https://phys.org/news/2023-09-rna-play-role-life.html",
         "https://scx2.b-cdn.net/gfx/news/hires/2023/could-rna-folding-play.jpg",
         "2023-09-27T14:22:51Z",
         null
        ],
        [
         null,
         "Phys.Org",
         "Science X",
         "Scientists discover biomimetic macrophage technology to combat antibiotic resistance",
         "A research team led by Shuilin Wu at Tianjin University, China, has made a discovery in the field of intelligent catalysis. Their research article titled \"Biomimetic Macrophage–Fe3O4@PLGA Particle-Triggered Intelligent Catalysis for Killing Multidrug-Resistan…",
         "https://phys.org/news/2023-09-scientists-biomimetic-macrophage-technology-combat.html",
         "https://scx2.b-cdn.net/gfx/news/hires/2023/chinese-scientists-dis-1.jpg",
         "2023-09-28T21:04:03Z",
         null
        ],
        [
         null,
         "Phys.Org",
         "Science X",
         "Scientists discover a new way to test for life on Mars",
         "Space scientists have discovered a new process to test for life on Mars and on Earth, using cutting-edge technology to sequence DNA using the tiniest possible sample of DNA mass.",
         "https://phys.org/news/2023-09-scientists-life-mars.html",
         "https://scx2.b-cdn.net/gfx/news/hires/2023/a-new-way-to-test-for.jpg",
         "2023-09-25T15:45:39Z",
         null
        ],
        [
         null,
         "Phys.Org",
         "Caitlin Sedwick",
         "Singling out a bacterium from the crowd",
         "Bacteria are nearly ubiquitous and have tremendous impacts on human and ecological health. And yet, they remain largely mysterious to us. Princeton MOL faculty Zemer Gitai, Britt Adamson and Ned Wingreen launched a joint effort to develop new tools to help us…",
         "https://phys.org/news/2023-09-singling-bacterium-crowd.html",
         "https://scx2.b-cdn.net/gfx/news/2023/singling-out-a-bacteri.jpg",
         "2023-09-14T14:58:29Z",
         null
        ],
        [
         null,
         "Phys.Org",
         "Zhang Nannan",
         "'Sociability' of locusts: Social interactions promote aggregation",
         "In a study published in the Proceedings of the National Academy of Sciences on Sept. 5, researchers led by Prof. Kang Le from the Beijing Institutes of Life Science of the Chinese Academy of Sciences have provided a deep understanding of the \"sociability\" of …",
         "https://phys.org/news/2023-09-sociability-locusts-social-interactions-aggregation.html",
         "https://scx2.b-cdn.net/gfx/news/hires/2023/sociability-of-locusts.jpg",
         "2023-09-12T14:38:03Z",
         null
        ],
        [
         null,
         "Phys.Org",
         "Bob Yirka",
         "Team develops technique for building DNA-based programmable gate arrays",
         "A team of chemists and chemical engineers at Shanghai Jiao Tong University, working with a colleague from the Chinese Academy of Sciences, both in China, has built a DNA-based programmable gate array for use in general-purpose DNA computing. In their study, r…",
         "https://phys.org/news/2023-09-team-technique-dna-based-programmable-gate.html",
         "https://scx2.b-cdn.net/gfx/news/hires/2023/team-develops-techniqu.jpg",
         "2023-09-14T14:40:02Z",
         null
        ],
        [
         null,
         "Phys.Org",
         "Silvia Cernea Clark",
         "Tiny CRISPR tool could help shred viruses",
         "Small and precise: These are the ideal characteristics for CRISPR systems, the Nobel-prize winning technology used to edit nucleic acids like RNA and DNA.",
         "https://phys.org/news/2023-09-tiny-crispr-tool-shred-viruses.html",
         "https://scx2.b-cdn.net/gfx/news/hires/2023/tiny-crispr-tool-could.jpg",
         "2023-09-27T14:13:04Z",
         null
        ],
        [
         null,
         "Phys.Org",
         "Liu Jia",
         "Researchers uncover novel physiological functions of CRISPR-Cas guard RNA",
         "How the expression of Cas proteins in bacterial CRISPR-Cas immune system adapts to the constantly changing CRISPR structures and crRNA expression levels has been a long-standing unresolved question.",
         "https://phys.org/news/2023-09-uncover-physiological-functions-crispr-cas-rna.html",
         "https://scx2.b-cdn.net/gfx/news/2023/researchers-uncover-no-2.jpg",
         "2023-09-08T13:46:14Z",
         null
        ],
        [
         null,
         "Phys.Org",
         "Peter Rüegg",
         "Cell biologists identify new organelle present in mammalian cells made of rings of DNA",
         "Researchers at ETH Zurich recently identified a previously unknown compartment in mammalian cells. They have named it the exclusome. It is made up of DNA rings known as plasmids. The researchers have published details of their discovery in the journal Molecul…",
         "https://phys.org/news/2023-10-cell-biologists-organelle-mammalian-cells.html",
         "https://scx2.b-cdn.net/gfx/news/2023/a-hygiene-program-for.jpg",
         "2023-10-02T13:56:20Z",
         null
        ],
        [
         null,
         "Phys.Org",
         "Michelle Klampe",
         "DNA from discarded whale bones suggests loss of genetic diversity due to commercial whaling",
         "Commercial whaling in the 20th century decimated populations of large whales but also appears to have had a lasting impact on the genetic diversity of today's surviving whales, new research from Oregon State University shows.",
         "https://phys.org/news/2023-10-dna-discarded-whale-bones-loss.html",
         "https://scx2.b-cdn.net/gfx/news/2023/dna-from-discarded-wha.jpg",
         "2023-10-02T20:36:04Z",
         null
        ],
        [
         null,
         "Phys.Org",
         "Science X",
         "Kariko, Weissman win Nobel for mRNA COVID vaccines",
         "Katalin Kariko of Hungary and Drew Weissman of the United States won the Nobel Medicine Prize on Monday for work on messenger RNA (mRNA) technology that paved the way for COVID-19 vaccines.",
         "https://phys.org/news/2023-10-kariko-weissman-nobel-mrna-covid.html",
         "https://scx2.b-cdn.net/gfx/news/hires/2023/katalin-karik-and-drew-1.jpg",
         "2023-10-02T10:01:47Z",
         null
        ],
        [
         null,
         "Phys.Org",
         "Science X",
         "Wheat's long non-coding RNAs unveiled: A leap in understanding grain development",
         "Wheat is a global staple food and plays a pivotal role in the livelihoods of billions of people. Although long non-coding RNAs (lncRNAs) have been recognized as crucial regulators of numerous biological processes, our knowledge of lncRNAs associated with whea…",
         "https://phys.org/news/2023-10-wheat-non-coding-rnas-unveiled-grain.html",
         "https://scx2.b-cdn.net/gfx/news/2023/wheats-long-non-coding.jpg",
         "2023-10-02T13:24:04Z",
         null
        ],
        [
         null,
         "Royal Society of Chemistry",
         "Odelia Tepper, Hongchao Zheng, Daniel H. Appella, Eylon Yavin",
         "Correction: Cyclopentane FIT-PNAs: bright RNA sensors",
         "Chem. Commun., 2023, Advance ArticleDOI: 10.1039/D3CC90303F, Correction Open Access &nbsp This article is licensed under a Creative Commons Attribution 3.0 Unported Licence.Odelia Tepper, Hongchao Zheng, Daniel H. Appella, Eylon YavinTo cite this article befo…",
         "https://pubs.rsc.org/en/content/articlelanding/2023/cc/d3cc90303f",
         null,
         "2023-09-14T23:00:00Z",
         null
        ],
        [
         null,
         "[Removed]",
         null,
         "[Removed]",
         "[Removed]",
         "https://removed.com",
         null,
         "1970-01-01T00:00:00Z",
         null
        ],
        [
         null,
         "Slashdot.org",
         "EditorDavid",
         "China's Quest for Human Genetic Data Spurs Fears of a DNA Arms Race",
         "In 2020 Serbian scientists were gifted China's \"Fire-Eye\" labs, remembers the Washington Post. The sophisticated portable labs \"excelled not only at cracking the genetic code for viruses, but also for humans, with machines that can decipher genetic instructio…",
         "https://science.slashdot.org/story/23/09/23/055211/chinas-quest-for-human-genetic-data-spurs-fears-of-a-dna-arms-race",
         "https://a.fsdn.com/sd/topics/china_64.png",
         "2023-09-23T14:34:00Z",
         null
        ],
        [
         null,
         "Slashdot.org",
         "msmash",
         "Nobel Prize Awarded To Covid Vaccine Pioneers",
         "Katalin Kariko and Drew Weissman, who together identified a chemical tweak to messenger RNA, were awarded the Nobel Prize in Physiology or Medicine on Monday. Their work enabled potent Covid vaccines to be made in less than a year, averting tens of millions o…",
         "https://science.slashdot.org/story/23/10/02/184259/nobel-prize-awarded-to-covid-vaccine-pioneers",
         "https://a.fsdn.com/sd/topics/medicine_64.png?refresh=now",
         "2023-10-02T18:04:00Z",
         null
        ],
        [
         null,
         "Sciencebasedmedicine.org",
         "Steven Novella",
         "Self-Amplifying RNA Vaccines",
         "Self-Amplifying RNA vaccines are coming. Here's a primer to get you ready.\nThe post Self-Amplifying RNA Vaccines first appeared on Science-Based Medicine.",
         "https://sciencebasedmedicine.org/self-amplifying-rna-vaccines/",
         "https://sciencebasedmedicine.org/wp-content/uploads/2023/09/saRNA-vaccines.jpg",
         "2023-09-06T11:58:54Z",
         null
        ],
        [
         null,
         "Slate Magazine",
         "Jenée Desmond-Harris",
         "Help! My Brother Refuses to Tell His Daughter the Truth About How She Was Conceived.",
         "She should know.",
         "https://slate.com/human-interest/2023/09/brother-niece-pregnancy-dear-prudence-advice.html",
         "https://compote.slate.com/images/49578860-c365-459c-ad8e-5ba13028986a.jpeg?crop=1560%2C1040%2Cx0%2Cy0&width=1560",
         "2023-09-05T15:32:18Z",
         null
        ],
        [
         null,
         "Spidersweb.pl",
         "Rafał Dadura",
         "Jak powstało życie na Ziemi? Odpowiedź może dać… attochemia",
         "Małe kałuże wody wystawione na intensywne promieniowanie mogły stać się laboratoriami gdzie powstały materiały budulcowe życia, czyli DNA i RNA.",
         "https://spidersweb.pl/2023/09/zycie-na-ziemi-chemia-reakcje-chemiczne-mocznik.html",
         "https://ocs-pl.oktawave.com/v1/AUTH_2887234e-384a-4873-8bc5-405211db13a2/spidersweb/2022/04/dna-min.jpg",
         "2023-09-16T10:20:00Z",
         null
        ],
        [
         null,
         "Sputnikglobe.com",
         "Chimauchem  Nwosu",
         "Scientists Extract RNA of Extinct Tasmanian Tiger",
         "Scientists have achieved a monumental breakthrough in genetic research, successfully extracting RNA from a preserved Tasmanian tiger specimen. This unprecedented feat opens new doors to understanding extinct species and also offers insights into past pandemic…",
         "https://sputnikglobe.com/20230920/scientists-extract-rna-of-extinct-tasmanian-tiger-1113529894.html",
         "https://cdn1.img.sputnikglobe.com/images/sharing/article/eng/1113529894.jpg?10519663781695218642",
         "2023-09-20T14:04:02Z",
         null
        ],
        [
         null,
         "taz.de",
         "Ann-Kathrin Leclere",
         "Forschung zu Messenger-RNA: Impfgegner hassen ihren Trick",
         "Katalin Karikó hat die Grundlage für Corona-Impfstoffe geschaffen. Dabei hat lange niemand an die mRNA geglaubt, trotzdem hat sie weitergemacht.",
         "https://taz.de/Forschung-zu-Messenger-RNA/!5959278/",
         "https://taz.de/picture/6534319/948/Katlin-Kariko-1.jpeg",
         "2023-09-22T16:38:00Z",
         null
        ],
        [
         null,
         "Technews.tw",
         "黃 嬿",
         "北歐科學家成功取得袋狼 RNA，稱復活滅絕物種可平衡生態",
         "袋狼曾經是澳洲大陸和鄰近島嶼塔斯馬尼亞森林中的頂級掠食者，但 130 年前滅亡，最後一隻已知的袋狼於 1936 年在塔斯馬尼亞動物園去世。最近北歐科學家從博物館收藏的袋狼標本中成功回收 RNA，是全球首例。由於塔斯馬尼亞森林至今未受破壞，科學家相信物種復活可以重新平衡當地生態。 袋狼有標誌性的條紋，...",
         "https://technews.tw/2023/09/22/recovered-from-extinct-animals-from-rna/",
         "https://img.technews.tw/wp-content/uploads/2023/09/22132230/47661336791_cb15afa9ec_c.jpg",
         "2023-09-22T05:36:49Z",
         null
        ],
        [
         null,
         "Thebridge.jp",
         "VentureBeat",
         "ジェネレーティブAIブーム立役者の一人、今度はバイオの世界に身を投じワクチンを再発明へ",
         "元 Google AI 研究者の Jakob Uszkoreit 氏は、ChatGPT や他のほとんどの大規模言語モデル（LLM）を支えることになった Transformers アーキテクチャを紹介した2017年の代表的論文「Attention is All You Need」の共著者8人のうちの1人だ。最近、Nvidia やAndreessen Horowitz などの投資家から1億米ドルを調達...\nThe post ジェネレーティブAIブーム立役者の一人、今度はバイオの世界に身を投じワクチンを再発明へ fi…",
         "https://thebridge.jp/2023/09/this-ex-googler-helped-launch-the-gen-ai-boom-now-he-wants-to-reinvent-vaccines",
         "https://thebridge.jp/wp-content/uploads/2023/09/Jakob-Uszkoreit.jpg",
         "2023-09-28T22:15:43Z",
         null
        ],
        [
         "the-next-web",
         "The Next Web",
         "Ioanna Lykiardopoulou",
         "DeepMind’s new AI tool can predict genetic diseases",
         "Google DeepMind has unveiled its novel AI tool that can predict whether DNA mutations are likely to cause genetic diseases. The ambition is that it will  facilitate faster diagnosis and development of life-saving treatments. The new AI model, called AlphaMiss…",
         "https://thenextweb.com/news/deepminds-ai-tool-predicts-genetic-diseases",
         "https://img-cdn.tnwcdn.com/image/tnw-blurple?filter_last=1&fit=1280%2C640&url=https%3A%2F%2Fcdn0.tnwcdn.com%2Fwp-content%2Fblogs.dir%2F1%2Ffiles%2F2023%2F09%2FUntitled-design-14-10.jpg&signature=d5b222e3ee9bcffe5f162236598b4ad2",
         "2023-09-20T11:44:36Z",
         null
        ],
        [
         "time",
         "Time",
         "Charlotte Alter",
         "Police Arrest Suspect for Rape of 13-Year-Old Who Was Unable to Get an Abortion",
         "Police in Clarksdale, Miss., have arrested a suspect in the alleged rape.",
         "https://time.com/6311507/13-year-old-mom-police-arrest-rape-suspect/",
         "https://api.time.com/wp-content/uploads/2023/09/teen-mom-mississippi-arrest.jpg?quality=85",
         "2023-09-07T20:30:00Z",
         null
        ],
        [
         "time",
         "Time",
         "GARY D. ROBERTSON / AP",
         "NASCAR to Return $1 Million All-Star Race to North Wilkesboro Again in 2024",
         "The NASCAR Cup Series All-Star Race will remain at North Wilkesboro Speedway in 2024 after this year's event — the first race for NASCAR there in 27 years — attracted a capacity crowd thrilled to return to stock car roots.",
         "https://time.com/6318459/nascar-all-star-race-north-wilkesboro/",
         "https://api.time.com/wp-content/uploads/2023/09/Nascar.jpg?quality=85",
         "2023-09-28T17:26:11Z",
         null
        ],
        [
         "time",
         "Time",
         "Alice Park",
         "Nobel Prize Awarded to mRNA Pioneers Who Paved the Way for COVID-19 Vaccines",
         "Katalin Kariko and Drew Weissman discovered a key step toward making mRNA vaccines, leading to the COVID-19 vaccine and the Nobel Prize.",
         "https://time.com/6319654/nobel-prize-awarded-to-mrna-pioneers/",
         "https://api.time.com/wp-content/uploads/2023/10/Katalin-Kariko-drew-weissman-nobel.jpg?quality=85",
         "2023-10-02T18:19:12Z",
         null
        ],
        [
         null,
         "Abril.com.br",
         "Diogo Sponchiato",
         "Nobel vai para descobertas que resultaram nas vacinas de RNA para Covid-19",
         "Láurea em Medicina é concedida a dois pesquisadores pelos trabalhos que culminaram na nova geração de vacinas que ajudou a deter a pandemia",
         "https://veja.abril.com.br/saude/nobel-de-medicina-2023-vacina-covid",
         "https://veja.abril.com.br/wp-content/uploads/2023/10/490_envelhecer-vacina-gripe.png?w=680&h=453&crop=1",
         "2023-10-02T09:59:49Z",
         null
        ],
        [
         null,
         "Wired.jp",
         "Daisuke Takimoto",
         "ノーベル生理学・医学賞を受賞したカタリン・カリコらは、いかにmRNAワクチンで世界を救ったのか",
         "2023年のノーベル生理学・医学賞に、遺伝情報を伝えるmRNA（メッセンジャーRNA）を用いたワクチンの基盤技術を開発した研究者のカタリン・カリコとドリュー・ワイスマンが選ばれた。新型コロナウイルスのワクチン開発を記録的なスピードで実現した画期的な技術を、いかにしてカリコらは生み出したのか。",
         "https://wired.jp/article/the-nobel-prize-in-physiology-or-medicine-2023-mrna-vaccine-technology/",
         "https://media.wired.jp/photos/651b4e920446e287fac30fbf/16:9/w_1280,c_limit/GettyImages-1701292263.jpg",
         "2023-10-02T23:30:00Z",
         null
        ],
        [
         "abc-news-au",
         "ABC News (AU)",
         "Hanan Dervisevic",
         "Recovered RNA has put scientists one step closer to resurrecting the Tasmanian tiger",
         "The Tasmanian tiger has become the first extinct animal from which scientists have recovered RNA, the molecule that brings a specie's genome to life.",
         "https://www.abc.net.au/news/2023-09-28/rna-extracted-from-tasmanian-tiger-resurrected/102907796",
         "https://live-production.wcms.abc-cdn.net.au/a7fd405e37fdcf0b8047fb0c2ae470f1?impolicy=wcms_crop_resize&cropH=2037&cropW=3620&xPos=252&yPos=395&width=862&height=485",
         "2023-09-27T21:03:14Z",
         null
        ],
        [
         null,
         "Asahi.com",
         "朝日新聞デジタル",
         "自然科学研究機構・初代機構長の志村令郎さん死去　RNA研究を牽引",
         "志村　令郎さん（しむら・よしろう=元自然科学研究機構長、京都大名誉教授・分子生物学）9月27日、老衰のため死去、90歳。葬儀・告別式は近親者で行った。喪主は妻紗千子（さちこ）さん。　山梨県大月市出身…",
         "https://www.asahi.com/articles/ASRB25DLDRB2ULBH00C.html",
         "https://imgopt.asahi.com/ogp/AS20231002002656_comm.jpg",
         "2023-10-02T08:30:00Z",
         null
        ],
        [
         "bbc-news",
         "BBC News",
         "https://www.facebook.com/bbcnews",
         "Google DeepMind AI speeds up search for disease genes",
         "Google DeepMind has used its technology to identify parts of human DNA that might cause diseases.",
         "https://www.bbc.co.uk/news/science-environment-66847977",
         "https://ichef.bbci.co.uk/news/1024/branded_news/8D38/production/_131125163_f0342069-dna_illustration.jpg",
         "2023-09-19T14:30:12Z",
         null
        ],
        [
         "bbc-news",
         "BBC News",
         "https://www.facebook.com/bbcnews",
         "Libya floods: The bodies left unrecognisable by disaster",
         "Doctors are struggling to identify the remains which have been found as the death toll rises.",
         "https://www.bbc.co.uk/news/world-africa-66838559",
         "https://ichef.bbci.co.uk/news/1024/branded_news/CF95/production/_131114135_ab211b9a45e97df4241aa042fd2c364968b9885d.jpg",
         "2023-09-17T20:40:41Z",
         null
        ],
        [
         "bbc-news",
         "BBC News",
         "https://www.facebook.com/bbcnews",
         "DNA exonerates man 47 years after rape conviction",
         "It is believed to be the longest standing wrongful conviction to be overturned in the US.",
         "https://www.bbc.co.uk/news/world-us-canada-66734064",
         "https://ichef.bbci.co.uk/news/1024/branded_news/5A1D/production/_130996032_mack-jpg.jpg",
         "2023-09-06T15:53:04Z",
         null
        ],
        [
         "bbc-news",
         "BBC News",
         null,
         "Cameron rematch a 'must win' fight says Taylor",
         "Katie Taylor says 'resurrection is her DNA' as she prepares to face Chantelle Cameron in their rematch in November.",
         "https://www.bbc.co.uk/sport/boxing/66924778",
         "https://ichef.bbci.co.uk/live-experience/cps/624/cpsprodpb/BC89/production/_131256284_face-off.jpg",
         "2023-09-26T13:01:23Z",
         null
        ],
        [
         "bbc-news",
         "BBC News",
         null,
         "Brighton & Hove Albion v AEK Athens: Roberto de Zerbi says Albion 'cannot lose DNA'",
         "Brighton boss Roberto De Zerbi says his side \"cannot lose our DNA\" in their debut European season.",
         "https://www.bbc.co.uk/sport/football/66869817",
         "https://ichef.bbci.co.uk/live-experience/cps/624/cpsprodpb/621A/production/_131141152_a0fe90fedf62c79fe933e7fd142de58d2580ccca.jpg",
         "2023-09-20T14:55:40Z",
         null
        ],
        [
         "business-insider",
         "Business Insider",
         "Insider Inc.",
         "iPhone 12 emits too much radiation, France says. It rules Apple must take it off the market.",
         "French officials are demanding the iPhone 12 be taken off the market. If Apple doesn't comply, it risks being subjected to a nationwide recall.",
         "https://www.businessinsider.com/iphone-12-excessive-radiation-apple-must-take-off-market-france-2023-9",
         "https://i.insider.com/6502087d992da60019ebbc22?width=1200&format=jpeg",
         "2023-09-13T20:09:56Z",
         null
        ],
        [
         "business-insider",
         "Business Insider",
         "Brent D. Griffiths",
         "Sen. Bob Menendez Googled 'how much is one kilo of gold worth' around the time his wife accepted alleged bribes, indictment says",
         "The senator's most recent financial disclosure showed that his wife continued to own gold bars and at least $200,000 worth in 2022.",
         "https://www.businessinsider.com/menendez-how-much-is-one-kilo-of-gold-worth-indictment-2023-9",
         "https://i.insider.com/650db74c12dc4f001a17c899?width=1200&format=jpeg",
         "2023-09-22T16:04:49Z",
         null
        ],
        [
         "business-insider",
         "Business Insider",
         "Charles R. Davis",
         "Did you have a severe case of COVID-19? Research suggests that Neanderthal genes could be to blame",
         "Research by scientists in Italy indicates that people with gene variations attributable to Neanderthal ancestry were more likely to be hospitalized.",
         "https://www.businessinsider.com/neanderthal-genes-linked-to-severe-cases-of-covid-19-coronavirus-2023-9",
         "https://i.insider.com/5e4ea034a27fc556864c7ea4?width=1200&format=jpeg",
         "2023-09-17T15:04:36Z",
         null
        ],
        [
         "business-insider",
         "Business Insider",
         "Jenny McGrath",
         "Ocean explorers found a golden orb on the Alaskan seafloor, and they have no idea what it is",
         "Marine scientists found a golden orb on the Alaskan seafloor that is a complete mystery. It might be an egg casing or something stranger.",
         "https://www.businessinsider.com/researchers-puzzled-by-golden-orb-on-alaska-seafloor-2023-9",
         "https://i.insider.com/64fa39743d39230019764095?width=1200&format=jpeg",
         "2023-09-07T22:12:38Z",
         null
        ],
        [
         "buzzfeed",
         "Buzzfeed",
         "Ajani Bazile-Dutes",
         "Fathers Who Discovered That Their Child Wasn't Biologically Theirs Are Sharing Their Stories, And It's A Lot To Process",
         "\"I thought I was the father for five months. After that, I got a paternity test and found out it wasn't mine. The weird part is my parents still babysit and treat the kid like their grandkid, so she's at a lot of family functions and such.\"View Entire Post ›",
         "https://www.buzzfeed.com/ajanibazile/men-discover-not-fathers",
         "https://img.buzzfeed.com/buzzfeed-static/static/2023-09/26/20/enhanced/8a2c438b2dc7/original-1669-1695760188-3.jpg?crop=1200:628;0,0%26downsize=1250:*",
         "2023-09-28T21:16:02Z",
         null
        ],
        [
         "cbs-news",
         "CBS News",
         null,
         "Scientists take step toward \"being able to resurrect extinct species\"",
         "\"People didn't think it could really be done,\" Marc Friedländer, an associate professor in molecular biology at Stockholm University, told CBS News.",
         "https://www.cbsnews.com/news/rna-recovered-extinct-species-first-time-tasmanian-tiger/",
         "https://assets2.cbsnewsstatic.com/hub/i/r/2023/09/26/a6981385-f1b2-4423-8f33-88c7297468b3/thumbnail/1200x630/269da7c99e54be8e62f8e238326e1fac/gettyimages-1690002792.jpg?v=f5251b37272e6b1bc4e5456ab4445a67",
         "2023-09-26T15:52:21Z",
         null
        ],
        [
         "cbs-news",
         "CBS News",
         "CBS News",
         "Scientists recover RNA from extinct species for first time",
         "For the first time, scientists in Sweden have analyzed an extinct animal's RNA. They're studying the Tasmanian tiger which has been extinct since the 1930s. Marc Friedländer, associate professor in molecular biology at Stockholm University, joins CBS News to …",
         "https://www.cbsnews.com/video/scientists-recover-extinct-species-rna-first-time/",
         "https://assets1.cbsnewsstatic.com/hub/i/r/2023/09/23/9595bf1a-6fd6-41ef-b292-db4d60cc7067/thumbnail/1200x630/9547cbd2404d7b77ed35d4501f7dd211/tiger.jpg?v=f5251b37272e6b1bc4e5456ab4445a67",
         "2023-09-23T00:45:00Z",
         null
        ],
        [
         null,
         "Digital Trends",
         "Briley Kenney",
         "You can start exploring your family tree on Ancestry for free right now",
         "Curious about your genealogy and ancestry? Now is the perfect time to explore because you can get started on Ancestry for free, thanks to a 14-day free trial.",
         "https://www.digitaltrends.com/cool-tech/ancestry-14-day-free-trial-deal-september-2023/",
         "https://www.digitaltrends.com/wp-content/uploads/2023/09/Woman-researching-Ancestry-and-family-tree.jpg?fit=720%2C720&p=1",
         "2023-09-28T15:00:54Z",
         null
        ],
        [
         null,
         "EFF",
         "Saira Hussain, Matthew Guariglia",
         "The U.S. Government’s Database of Immigrant DNA Has Hit Scary, Astronomical Proportions",
         "The FBI recently released its proposed budget for 2024, and its request for a massive increase in funding for its DNA database should concern us all. The FBI is asking for an additional $53 million in funding to aid in the collection, organization, and mainte…",
         "https://www.eff.org/deeplinks/2023/09/us-governments-database-immigrant-dna-has-hit-scary-astronomical-proportions",
         "https://www.eff.org/files/banner_library/border-dna-1.png",
         "2023-09-25T16:27:22Z",
         null
        ],
        [
         "engadget",
         "Engadget",
         "Andrew Tarantola",
         "Hitting the Books: Meet Richard Akrwright, the world's first tech titan",
         "You didn't actually believe all those founder's myths about tech billionaires like Bezos, Jobs and Musk pulling themselves up by their bootstraps from some suburban American garage, did you? In reality, our corporate kings have been running the same playbook …",
         "https://www.engadget.com/hitting-the-books-blood-in-the-machine-brian-merchant-hachette-book-group-143056410.html",
         "https://s.yimg.com/ny/api/res/1.2/WwPL1taNSYGCZAraCSsJGQ--/YXBwaWQ9aGlnaGxhbmRlcjt3PTEyMDA7aD03MDk-/https://s.yimg.com/os/creatr-uploaded-images/2023-09/3dcdd510-4c23-11ee-a75b-8899001c3252",
         "2023-09-10T14:30:56Z",
         null
        ],
        [
         "engadget",
         "Engadget",
         "Andrew Tarantola",
         "Hitting the Books: Meet Richard Akrwright, the world's first tech titan",
         "You didn't actually believe all those founder's myths about tech billionaires like Bezos, Jobs and Musk pulling themselves up by their bootstraps from some suburban American garage, did you? In reality, our corporate kings have been running the same playbook …",
         "https://www.engadget.com/hitting-the-books-meet-richard-akrwright-the-worlds-first-tech-titan-205045895.html",
         "https://s.yimg.com/ny/api/res/1.2/WwPL1taNSYGCZAraCSsJGQ--/YXBwaWQ9aGlnaGxhbmRlcjt3PTEyMDA7aD03MDk-/https://s.yimg.com/os/creatr-uploaded-images/2023-09/3dcdd510-4c23-11ee-a75b-8899001c3252",
         "2023-09-11T20:50:45Z",
         null
        ],
        [
         "engadget",
         "Engadget",
         "Will Shanklin",
         "Letterboxd sells a majority stake after explosive pandemic-fueled growth",
         "The film-focused social media site LetterBoxd has new ownership. Cofounder Matthew Buchanan announced on Friday that Tiny, a venture capital firm, has bought a 60 percent stake in the platform. The New York Times reported that the deal values Letterboxd at ov…",
         "https://www.engadget.com/letterboxd-sells-a-majority-stake-after-explosive-pandemic-fueled-growth-201646444.html",
         "https://s.yimg.com/ny/api/res/1.2/3_k.9qC1cspwvG2PJyL62A--/YXBwaWQ9aGlnaGxhbmRlcjt3PTEyMDA7aD03MjA-/https://s.yimg.com/os/creatr-uploaded-images/2023-09/99c74210-5f02-11ee-bbff-7df6bc90e637",
         "2023-09-29T20:16:46Z",
         null
        ],
        [
         null,
         "EurekAlert",
         null,
         "Researchers find a cause of Parkinson’s disease, Mitochondrial DNA damage",
         "<p>A significant breakthrough sheds light on the underlying mechanisms of Parkinson&#39;s disease, offering the potential for innovative treatments in the future.</p>",
         "https://www.eurekalert.org/news-releases/1003348",
         "https://www.eurekalert.org/images/EurekAlert-bluebg_Twitter_601X601.png",
         "2023-10-02T15:16:04Z",
         null
        ],
        [
         "focus",
         "Focus",
         "FOCUS online",
         "Forschungsergebnis mit Folgen - Einsame Ameisen erleben mehr Stress und sterben früher",
         "Forscher der Universität Lausanne haben gezeigt, dass Einsamkeit die Lebensspanne von Ameisen verkürzt. Die Studie bietet Ansätze für die Behandlung einsamer Menschen.",
         "https://www.focus.de/wissen/forschungsergebnis-mit-folgen-einsame-ameisen-erleben-mehr-stress-und-sterben-frueher_id_213899576.html",
         "https://p6.focus.de/img/fotos/id_213899048/imago0273273560h.jpg?im=Crop%3D%280%2C408%2C3265%2C1632%29%3BResize%3D%281200%2C627%29&impolicy=perceptual&quality=mediumHigh&hash=dd4741599bb73282f06cb246a7f7ee959e27ade017752e08f1babfa4d01d9ea1",
         "2023-09-27T13:31:01Z",
         null
        ],
        [
         null,
         "Futurity: Research News",
         "Greg Williams-NYU",
         "Blocking stem cell signal restores bone healing in aging mice",
         "Blocking a signaling pathway called Notch in skeletal stem cells in mice restored bone-healing ability lost during aging.",
         "https://www.futurity.org/bone-healing-stem-cells-aging-2979972-2/",
         "https://www.futurity.org/wp/wp-content/uploads/2023/09/bone-loss-healing-aging-1600.jpg",
         "2023-09-28T14:47:28Z",
         null
        ],
        [
         null,
         "Futurity: Research News",
         "Asher Jones-U. Pittsburgh",
         "Why wounds don’t heal as well for people with diabetes",
         "Defective exosomes can impair chronic wound healing for some people with diabetes. The findings may open the door to new therapies.",
         "https://www.futurity.org/diabetes-wounds-exosomes-2972392/",
         "https://www.futurity.org/wp/wp-content/uploads/2023/09/diabetic-wounds-healing-1600.jpg",
         "2023-09-11T14:05:21Z",
         null
        ],
        [
         null,
         "Futurity: Research News",
         "LaTina Emerson-Georgia State",
         "Drug blocks SARS-CoV-2 transmission in ferrets",
         "When administered at a human effect size-equivalent dose, molnupiravir efficiently blocked transmission of SARS-CoV-2 in ferrets.",
         "https://www.futurity.org/molnupiravir-sars-cov-2-ferrets-2973062/",
         "https://www.futurity.org/wp/wp-content/uploads/2023/09/covid-sars-cov-2-molnupiravir-1600.jpg",
         "2023-09-12T17:45:14Z",
         null
        ],
        [
         null,
         "Geekpark.net",
         null,
         "AI 公司燧原科技获 20 亿元融资，腾讯持股 20%；奔驰在美推自动驾驶，开车可玩游戏；Mini 推电动自行车，售价 2 万 7 千元",
         "AI 算力独角兽燧原科技完成 20 亿元 D 轮融资，腾讯持股已接近两成 \n9 月 28 日，AI 云端算力公司燧原科技（Enflame AI）宣布完成 D 轮融资，总额为 20 亿元人民币，超过 15 家机构参与，是今年 AI 芯片领域最大规模的融资事件之一。\n据悉，燧原科技成立于 2018 年 3 月，是国内第一家同时拥有高性能云端训练和云端推理产品的创业公司，已完成首款 AI 芯片「邃思」的研发和量产，并面向数据中心推出云燧、「驭算」平台等多款 AI 算力加速产品。\n\n2023世界人工智能大会，燧原科技展台…",
         "https://www.geekpark.net/news/325600",
         "https://imgslim.geekpark.net/uploads/image/file/e5/81/e581b6ed45b27c3d403078f578e14b67.jpg",
         "2023-09-29T00:35:12Z",
         null
        ],
        [
         null,
         "Gizmodo.jp",
         "岡本玄介",
         "タッチパッドと音声で操作。SF感がたまらないBMWの未来コンセプトカー",
         "BMWがコンセプトカー「Vision Neue Klasse」発表。第6世代のeDrive搭載で排気ガスを出さず、タッチパネルで操作可能。",
         "https://www.gizmodo.jp/2023/09/bmw-vision-neue-klasse.html",
         "https://media.loom-app.com/gizmodo/dist/images/2023/09/05/230906_bmw.jpg?w=1280&h=630&f=jpg",
         "2023-09-05T22:00:00Z",
         null
        ],
        [
         null,
         "Gizmodo.jp",
         "Rina Fukazu",
         "ガラパゴス諸島で発見されたゾウガメのフェルナンダ、じつは絶滅動物の生き残りだった説",
         "一度は絶滅したと思われていたガラパゴス諸島のゾウガメ。2019年にその存在が確認されて、フェルナンダと名付けられました。それが最近のDNAテストの結果によると、なんと1世紀前に確認された生物と同一種であることが明らかになりました。",
         "https://www.gizmodo.jp/2023/09/extinct-giant-tortoise-was-just-chilling-on-an-island-1.html",
         "https://media.loom-app.com/gizmodo/dist/images/2022/06/14/220614ExtinctGiantTortoise.jpg?w=1280&h=630&f=jpg",
         "2023-09-12T07:35:00Z",
         null
        ],
        [
         null,
         "Gizmodo.jp",
         "satomi",
         "電波を理由にフランスがiPhone 12を販売停止。アップルは反論",
         "Photo:goffkein.pro/Shutterstock.com/Gizmodo(Shutterstock)よりによってiPhone15発表の数時間前というタイミング。世界中がアップル発表会で盛り上がった12日（日本時間13日）、フランス政府がiPhone12の販売停止を命じました。理由は「欧州連合（EU）の法定基準値を超える電波が人体に吸収されるおそれがあるから」。職員をアップルストアに出",
         "https://www.gizmodo.jp/2023/09/france-suspends-sales-of-iphone-12.html",
         "https://media.loom-app.com/gizmodo/dist/images/2023/09/14/20230914iPhone12_radiation.png?w=1280&h=630&f=jpg",
         "2023-09-18T04:00:00Z",
         null
        ],
        [
         null,
         "Gizmodo.jp",
         "岩田リョウコ",
         "絶滅した動物をクローンで復活できる？標本からRNA抽出に成功",
         "1936年に絶滅したタスマニアに生息していたフクロオオカミ（タスマニアンタイガー）ですが、現在蘇らせ作戦が行なわれていて、研究チームがRNA（リボ核酸）を抽出することに成功。すでに絶滅した種では初めての成功例となります。",
         "https://www.gizmodo.jp/2023/10/rna-recovery-extinct-species-thylacine-tasmanian-tiger.html",
         "https://media.loom-app.com/gizmodo/dist/images/2023/09/25/1076b8410aeb839fda2cbe1930aa99c7.jpg?w=1280&h=630&f=jpg",
         "2023-10-01T12:00:00Z",
         null
        ],
        [
         null,
         "heise online",
         "Susanne Donner",
         "heise+ | Gentechnik: Konkurrenz für CRISPR durch die Rekombinasen",
         "Die Designer-Rekombinasen schneiden das Erbgut nicht nur äußerst präzise, sondern reparieren es auch gleich. Im Herbst soll eine erste klinische Studie starten.",
         "https://www.heise.de/hintergrund/Gentechnik-Konkurrenz-fuer-CRISPR-durch-die-Rekombinasen-9237022.html?wt_mc=rss.red.ho.ho.atom.beitrag_plus.beitrag_plus",
         "https://heise.cloudimg.io/bound/1200x1200/q85.png-lossy-85.webp-lossy-85.foil1/_www-heise-de_/imgs/18/4/2/8/2/3/1/7/TU_Dresden_S_Rose_Fotografie-c4ba094c79c54cf8.jpg",
         "2023-09-06T15:00:00Z",
         null
        ],
        [
         null,
         "heise online",
         "Veronika Szentpetery-Kessler",
         "Wie inverse Impfungen Autoimmunkrankheiten stoppen könnten",
         "Eine dämpfend wirkende Vakzine hat die überreaktive Abwehr von Mäusen mit Multipler Sklerose umprogrammiert. Sie greift die Nervenummantelung nicht mehr an.​",
         "https://www.heise.de/hintergrund/Wie-inverse-Impfungen-Autoimmunkrankheiten-stoppen-koennten-9319341.html?wt_mc=rss.red.ho.ho.atom.beitrag.beitrag",
         "https://heise.cloudimg.io/bound/1200x1200/q85.png-lossy-85.webp-lossy-85.foil1/_www-heise-de_/imgs/18/4/3/1/0/3/3/2/shutterstock_1850877193-f182cc9e88db2c10.jpg",
         "2023-09-29T05:00:00Z",
         null
        ],
        [
         null,
         "heise online",
         "Veronika Szentpetery-Kessler",
         "Wie lässt sich Zahnschmelz regenerieren?​",
         "Das härteste Material des Körpers kann sich nach Schäden nicht erneuern. Nun wurde die Schmelzbildung entschlüsselt, was lebende Füllungen ermöglichen könnte.​",
         "https://www.heise.de/hintergrund/Wie-laesst-sich-Zahnschmelz-regenerieren-9298295.html?wt_mc=rss.red.ho.ho.atom.beitrag.beitrag",
         "https://heise.cloudimg.io/bound/1200x1200/q85.png-lossy-85.webp-lossy-85.foil1/_www-heise-de_/imgs/18/4/2/9/9/0/6/1/shutterstock_1938573160-50dcebb35161410e.jpg",
         "2023-09-08T09:00:00Z",
         null
        ],
        [
         null,
         "Hillelwayne.com",
         null,
         "Ten weird things you can buy online",
         "It’s April Cools! It’s like April Fools, except instead of cringe comedy you make genuine content that’s different from your normal stuff.1 For example, last year I talked about owning a microscope. This year I debated doing another hobby but settled on a muc…",
         "https://www.hillelwayne.com/post/weird-things-you-can-buy/",
         "https://www.hillelwayne.com/post/weird-things-you-can-buy/feature.jpg",
         "2023-09-29T12:56:48Z",
         null
        ],
        [
         null,
         "HuffPost",
         "Marco Margaritoff",
         "Kevin Costner Slams Estranged Wife’s ‘Nonsensical’ Request For $885,000 In Legal Fees",
         "“Although Kevin is the wealthier party with a higher cash flow than Christine, Christine is quite capable of contributing to her own attorney’s fees,” a court filing argued.",
         "https://www.huffpost.com/entry/kevin-costner-legal-fees-christine-baumgartner_n_650188d0e4b05b07e76125a0",
         "https://img.huffingtonpost.com/asset/6501924a2300005b00889fcc.jpeg?cache=nKrmnhtotG&ops=1200_630",
         "2023-09-13T14:23:58Z",
         null
        ],
        [
         null,
         "HuffPost",
         "AP",
         "Nobel Prize In Medicine Awarded To 2 Scientists For Enabling Development Of MRNA Vaccines",
         "Katalin Karikó and Drew Weissman won the prize for discoveries that enabled the development of effective mRNA vaccines against COVID-19.",
         "https://www.huffpost.com/entry/nobel-medicine_n_651a9254e4b00421f662c0c5",
         "https://img.huffingtonpost.com/asset/651a94ee220000350006eef8.jpeg?cache=ngxVaA5uZW&ops=1200_630",
         "2023-10-02T09:55:28Z",
         null
        ],
        [
         null,
         "Ilfattoquotidiano.it",
         "30science per Il Fatto",
         "Il micro Rna contro i tumori ha fermato la crescita nei topi. Lo studio Usa pubblicato su Oncogene (Nature)",
         "Un nuovo approccio micro Rna ha dato, in fase preclinica, risultati promettenti contro il cancro. Il trattamento, sviluppato dai ricercatori dell’Università di Purdue negli Stati Uniti e descritto sulla rivista Oncogene, ha richiesto uno studio di più di 15 a…",
         "https://www.ilfattoquotidiano.it/2023/09/05/un-nuovo-approccio-micro-rna-contro-i-tumori-ha-fermato-la-crescita-nei-topi-lo-studio-usa-pubblicato-su-oncogene-nature/7281838/",
         "https://st.ilfattoquotidiano.it/wp-content/uploads/2022/08/02/ricerca-scientifica.jpg",
         "2023-09-05T15:33:29Z",
         null
        ],
        [
         null,
         "Ilfattoquotidiano.it",
         "F. Q.",
         "Nobel per la medicina a Karikò e Weissman: le loro scoperte hanno reso possibile la creazione dei vaccini a mRna utilizzati contro il Covid",
         "Va a Katalin Karikó e Drew Weissman il premio Nobel per la Medicina 2023, per le scoperte scientifiche che hanno reso possibile lo sviluppo dei vaccini contro il Covid-19 basati sull’mRna. A darne annuncio è come di consueto il Karolinska Institutet di Stocco…",
         "https://www.ilfattoquotidiano.it/2023/10/02/nobel-medicina-kariko-weissman-scoperte-vaccini-mrna-covid/7310415/",
         "https://st.ilfattoquotidiano.it/wp-content/uploads/2023/10/02/nobel_medicina.jpg",
         "2023-10-02T10:05:43Z",
         null
        ],
        [
         "il-sole-24-ore",
         "Il Sole 24 Ore",
         "di Francesca Cerati",
         "Nobel per la medicina: chi sono Karikò e Weissman, premiati per i vaccini Covid",
         "Si è scelto di assegnare il premio ai «genitor» della terapia a mRna, più di 15 anni dopo la loro visionaria collaborazione in laboratorio",
         "https://www.ilsole24ore.com/art/nobel-la-medicina-chi-sono-kariko-e-weissman-premiati-i-vaccini-covid-AFzgeV4",
         "https://i2.res.24o.it/images2010/2023/10/AFzgeV4/images/025bdec8-6113-11ee-8629-34560d498f24-fotohome0.jpg",
         "2023-10-02T11:01:00Z",
         null
        ],
        [
         null,
         "Insideprecisionmedicine.com",
         "Malorye Branca",
         "First Blood Test for Dozens of Hereditary Cancers Approved by FDA",
         "The FDA has approved the first blood test that can help identify dozens of potentially cancer-associated hereditary variants. The Invitae Common Hereditary Cancers Panel detects 100s of DNA variants in 47 genes that elevate risk of developing certain types of…",
         "https://www.insideprecisionmedicine.com/topics/oncology/first-blood-test-for-dozens-of-hereditary-cancers-approved-by-fda/",
         "https://www.insideprecisionmedicine.com/wp-content/uploads/2021/12/Nov1_2021_GettyImages_1184921448-scaled.jpg",
         "2023-10-02T21:02:22Z",
         null
        ],
        [
         null,
         "Internazionale.it",
         "Internazionale",
         "Il Nobel per la medicina assegnato a Karikó e Weissman per i vaccini a rna messaggero",
         "Il premio Nobel per la medicina è stato assegnato il 2 ottobre alla ricercatrice ungherese Katalin Karikó e al suo collega statunitense Drew Weissman per lo sviluppo dei vaccini a rna messaggero (mRna). Leggi",
         "https://www.internazionale.it/ultime-notizie/2023/10/02/nobel-medicina-mrna",
         "https://media.internazionale.it/images/2023/10/02/186455-sd.jpeg",
         "2023-10-02T12:51:30Z",
         null
        ],
        [
         null,
         "Los Angeles Times",
         "Melissa Healy",
         "Scientists whose work on mRNA paved the way for first COVID-19 vaccines win Nobel Prize",
         "Nobel Prize winners Katalin Karikó and Drew Weissman harnessed messenger RNA, an advance that led to the Pfizer and Moderna COVID-19 vaccines.",
         "https://www.latimes.com/science/story/2023-10-02/kariko-weissman-mrna-covid-vaccine-nobel-prize",
         "https://ca-times.brightspotcdn.com/dims4/default/d5ecce7/2147483647/strip/true/crop/4980x2615+0+353/resize/1200x630!/quality/75/?url=https%3A%2F%2Fcalifornia-times-brightspot.s3.amazonaws.com%2Fb9%2Fd3%2F1e0510bb49e696b94405ba78145f%2Fjapan-prize-10800.jpg",
         "2023-10-02T09:46:52Z",
         null
        ],
        [
         null,
         "Live Science",
         "Stephanie Pappas",
         "RNA extracted from an extinct species for the 1st time",
         "Researchers analyzed RNA from the 130-year-old tissue of a Tasmanian tiger, a carnivorous marsupial that went extinct nine decades ago.",
         "https://www.livescience.com/animals/rna-extracted-from-an-extinct-species-for-the-1st-time",
         null,
         "2023-09-19T18:00:00Z",
         null
        ],
        [
         null,
         "Live Science",
         "Carissa Wong",
         "Infant's dark-brown eyes suddenly turn indigo blue after COVID-19 antiviral treatment. But why?",
         "In a rare case, the brown eyes of a 6-month-old boy with COVID-19 turned blue after he was given the antiviral favipiravir.",
         "https://www.livescience.com/health/medicine-drugs/infants-dark-brown-eyes-suddenly-turn-indigo-blue-after-covid-19-antiviral-treatment-but-why",
         "https://cdn.mos.cms.futurecdn.net/iMoxH2aVUSKt9LcRLMqyBN-1200-80.jpg",
         "2023-09-04T12:00:41Z",
         null
        ],
        [
         null,
         "Live Science",
         "Donavyn Coffey",
         "Genetically engineered pink pineapples are flying off shelves: What gives them their distinctive color?",
         "The food giant Del Monte has created a genetically engineered pink pineapple that owes its rosy hue to higher concentrations of a pigment called lycopene.",
         "https://www.livescience.com/planet-earth/plants/pink-pineapples-are-in-high-demand",
         "https://cdn.mos.cms.futurecdn.net/NtsJFb5H6FwwQRKK7MF2gi-1200-80.jpg",
         "2023-09-04T13:00:43Z",
         null
        ],
        [
         null,
         "menshealth.com",
         "Darren Orf",
         "The Tasmanian Tiger Has Been Extinct for 87 Years. It's About to Return From the Dead.",
         "Scientists are making the animal from scratch using RNA sequenced from a 132-year-old specimen.",
         "https://www.menshealth.com/trending-news/a45329231/tasmanian-tiger-extinct-rna-resurrection/",
         "https://hips.hearstapps.com/hmg-prod/images/now-extinct-tasmanian-tiger-in-hobart-zoo-tasmania-news-photo-1695403637.jpg?crop=1.00xw:0.803xh;0,0.169xh&resize=1200:*",
         "2023-09-26T20:41:00Z",
         null
        ],
        [
         null,
         "Michaelchimenti.com",
         "mchimen1",
         "Perturbation analysis of spatial single cell RNA-seq (2021)",
         "Spatial single cell RNA-seq data are essentially regular single-cell RNA-seq data that have spatial coordinates associated through localization on a special capture slide. I had previously used so-called “perturbation” analysis successfully with 10X single-ce…",
         "https://www.michaelchimenti.com/2021/11/perturbation-analysis-of-spatial-single-cell-rna-seq-with-augur/",
         "https://i0.wp.com/www.michaelchimenti.com/wp-content/uploads/2021/11/Screen-Shot-2021-11-09-at-12.37.06-PM.png?fit=1371%2C558&ssl=1",
         "2023-09-11T20:22:06Z",
         null
        ],
        [
         null,
         "National Institutes of Health",
         null,
         "8k year ago, 17 women reproduced for every 1 man",
         "It is commonly thought that human genetic diversity in non-African populations was shaped primarily by an out-of-Africa dispersal 50–100 thousand yr ago (kya). Here, we present a study of 456 geographically diverse high-coverage Y chromosome sequences, ...",
         "https://www.ncbi.nlm.nih.gov/pmc/articles/PMC4381518/",
         "https://www.ncbi.nlm.nih.gov/corehtml/pmc/pmcgifs/pmc-card-share.jpg?_=0",
         "2023-09-26T16:24:12Z",
         null
        ],
        [
         "new-scientist",
         "New Scientist",
         "Jason Arunn Murugesu",
         "New type of brain cell discovered that acts like hybrid of two others",
         "A type of brain cell that behaves like a hybrid of neurons and glia has been spotted, and it could explain how some neurodegenerative conditions, such as Parkinson’s, develop",
         "https://www.newscientist.com/article/2390978-new-type-of-brain-cell-discovered-that-acts-like-hybrid-of-two-others/",
         "https://images.newscientist.com/wp-content/uploads/2023/09/06154113/SEI_170397887.jpg",
         "2023-09-06T16:00:01Z",
         null
        ],
        [
         "new-scientist",
         "New Scientist",
         "Karmela Padavic-Callaghan",
         "DNA-based computer can run 100 billion different programs",
         "Mixing and matching various strands of DNA can create versatile biological computer circuits that can take the square roots of numbers or solve quadratic equations",
         "https://www.newscientist.com/article/2391747-dna-based-computer-can-run-100-billion-different-programs/",
         "https://images.newscientist.com/wp-content/uploads/2023/09/13152504/SEI_171437229.jpg",
         "2023-09-13T16:00:18Z",
         null
        ],
        [
         "new-scientist",
         "New Scientist",
         "Michael Le Page",
         "Moderna's improved mRNA covid-19 vaccine is effective at lower doses",
         "A streamlined version of Moderna’s vaccine that targets only key parts of the spike protein of the SARS-CoV-2 coronavirus is being trialled in humans",
         "https://www.newscientist.com/article/2392035-modernas-improved-mrna-covid-19-vaccine-is-effective-at-lower-doses/",
         "https://images.newscientist.com/wp-content/uploads/2023/09/13165912/SEI_171444081.jpg",
         "2023-09-13T19:00:59Z",
         null
        ],
        [
         "new-scientist",
         "New Scientist",
         "Jeanne Timmons",
         "Extinct Tasmanian tiger yields RNA secrets that could aid resurrection",
         "RNA, which regulates the activity of DNA, is a crucial part of building an organism - and now researchers have extracted some from an extinct animal for the first time",
         "https://www.newscientist.com/article/2392879-extinct-tasmanian-tiger-yields-rna-secrets-that-could-aid-resurrection/",
         "https://images.newscientist.com/wp-content/uploads/2023/09/19152722/SEI_172166154.jpg",
         "2023-09-19T19:00:07Z",
         null
        ],
        [
         "new-scientist",
         "New Scientist",
         "Michael Le Page",
         "Covid-19 drug may be creating new variants with distinctive mutations",
         "Covid-19 viruses with distinctive patterns of mutation are appearing in countries that use a drug called molnupiravir, however, none of these is a variant of concern",
         "https://www.newscientist.com/article/2393799-covid-19-drug-may-be-creating-new-variants-with-distinctive-mutations/",
         "https://images.newscientist.com/wp-content/uploads/2023/09/25135645/SEI_173244825.jpg",
         "2023-09-25T16:00:29Z",
         null
        ],
        [
         "new-scientist",
         "New Scientist",
         "Karmela Padavic-Callaghan",
         "Hollow nanoparticles linked by DNA make unusually strong materials",
         "Particles that are too small to be assembled into materials with conventional methods can be bound together with DNA molecules – the result is clumps of unusually strong and stiff material",
         "https://www.newscientist.com/article/2395007-hollow-nanoparticles-linked-by-dna-make-unusually-strong-materials/",
         "https://images.newscientist.com/wp-content/uploads/2023/09/29175604/SEI_173870975.jpg",
         "2023-09-29T19:00:07Z",
         null
        ],
        [
         null,
         "Nobelprize.org",
         "",
         "Nobel Price in Medicine goes to development of mRNA vaccines",
         "The Nobel Prize in Physiology or Medicine 2023 was awarded jointly to Katalin Karikó and Drew Weissman \"for their discoveries concerning nucleoside base modifications that enabled the development of effective mRNA vaccines against COVID-19\"",
         "https://www.nobelprize.org/prizes/medicine/2023/press-release/",
         "https://www.nobelprize.org/uploads/2023/10/2023_MED_CARRIER_1200x800-1024x683.jpg",
         "2023-10-02T09:50:54Z",
         null
        ],
        [
         null,
         "NPR",
         "The Associated Press",
         "DNA tests lower the death toll in Maui fire to 97",
         "Officials previously said at least 115 people had died in the fire, but further testing showed they had multiple DNA samples from some of the victims. The number of those who are missing fell to 31.",
         "https://www.npr.org/2023/09/16/1199966830/maui-hawaii-fire-death-toll-lowered",
         "https://media.npr.org/assets/img/2023/09/16/ap23258104959716_wide-948e57997655c4dc0f7401e3098a7396cc60f3b1-s1400-c100.jpg",
         "2023-09-16T12:53:05Z",
         null
        ],
        [
         "la-repubblica",
         "La Repubblica",
         "repubblicawww@repubblica.it (Redazione Repubblica.it)",
         "Afroamericano scagionato dopo 48 anni dall’accusa di stupro: il più antico errore giudiziario negli Stati Uniti",
         "L’uomo era stato condannato senza alcuna prova, scagionato con la prova del Dna che ha permesso di identificare anche il vero colpevole",
         "https://www.repubblica.it/esteri/2023/09/06/news/afroamericano_innocente_48_anni_stupro-413452217/",
         "https://www.repstatic.it/content/nazionale/img/2023/09/06/031949941-a0101c8f-11e7-46f8-bfc1-8f79d20251f2.jpg",
         "2023-09-06T01:19:54Z",
         null
        ],
        [
         "la-repubblica",
         "La Repubblica",
         "repubblicawww@repubblica.it (Redazione Repubblica.it)",
         "Al Pacino di nuovo single tre mesi dopo la nascita del figlio Roman. E la ex lo porta in tribunale",
         "Noor Alfallah ha presentato domanda per la custodia del bambino nato a giugno. L’attore aveva chiesto il test del Dna, non potendo concepire per problemi di salute",
         "https://www.repubblica.it/spettacoli/people/2023/09/07/news/al_pacino_di_nuovo_single_tre_mesi_dopo_la_nascita_del_figlio_roman_e_la_ex_lo_porta_in_tribunale-413602361/",
         "https://www.repstatic.it/content/nazionale/img/2023/09/07/105559871-2dd333e2-0ebc-4e62-a364-914d025b389f.jpg",
         "2023-09-07T08:56:02Z",
         null
        ],
        [
         null,
         "Sacramento Bee",
         "Daniella Segura",
         "She’s been at CA aquarium since before WWII. Now she’s world’s oldest aquarium fish",
         "More than her advanced age, though, the museum said she has garnered fame “for her charming personality and penchant for belly rubs.”",
         "https://www.sacbee.com/news/california/article279481699.html",
         "https://media.zenfs.com/en/sacramento_bee_mcclatchy_569/b39259d449b1b0f2cb76f24185a7b30e",
         "2023-09-18T20:07:13Z",
         null
        ],
        [
         null,
         "Science Daily",
         null,
         "First-in-class targeted microRNA therapy slows cancer tumor growth",
         "A new cancer therapy attacks tumors by tricking cancer cells into absorbing a snippet of RNA that naturally blocks cell division.",
         "https://www.sciencedaily.com/releases/2023/09/230904104617.htm",
         "https://www.sciencedaily.com/images/scidaily-icon.png",
         "2023-09-04T14:46:17Z",
         null
        ],
        [
         null,
         "Science Daily",
         null,
         "New ribozyme can make RNA molecules accessible for click chemistry in living cells",
         "Important progress for RNA research: A team has discovered a new ribozyme that can label RNA molecules in living cells.",
         "https://www.sciencedaily.com/releases/2023/09/230905125007.htm",
         "https://www.sciencedaily.com/images/scidaily-icon.png",
         "2023-09-05T16:50:07Z",
         null
        ],
        [
         null,
         "Science Daily",
         null,
         "Genetic study of blood glucose levels calls for stratified treatment with GLP-1R agonists in type 2 diabetes",
         "Researchers reveal for the first time that high blood sugar levels in type 2 diabetes can play a causal role in lung disorders.",
         "https://www.sciencedaily.com/releases/2023/09/230907130323.htm",
         "https://www.sciencedaily.com/images/scidaily-icon.png",
         "2023-09-07T17:03:23Z",
         null
        ],
        [
         null,
         "Science Daily",
         null,
         "Engineers design more powerful RNA vaccines",
         "By adding synergistic self-adjuvanting properties to Covid-19 RNA vaccines, researchers showed they could significantly boost the immune response generated in mice.",
         "https://www.sciencedaily.com/releases/2023/09/230907130332.htm",
         "https://www.sciencedaily.com/images/scidaily-icon.png",
         "2023-09-07T17:03:32Z",
         null
        ],
        [
         null,
         "Science Daily",
         null,
         "St Helena's 'liberated' Africans came from West Central Africa between northern Angola and Gabon",
         "Between 1840 and 1867, thousands of enslaved Africans who had been 'liberated' from slave ships intercepted by the British Royal Navy were taken to the South Atlantic island of St Helena. But little is written in history books or otherwise known about the liv…",
         "https://www.sciencedaily.com/releases/2023/09/230907130348.htm",
         "https://www.sciencedaily.com/images/scidaily-icon.png",
         "2023-09-07T17:03:48Z",
         null
        ],
        [
         null,
         "Science Daily",
         null,
         "Dog diversity unveiled by international DNA database",
         "An international consortium of scientists is using an unprecedentedly large database of canine DNA to take an unbiased look at how our furry friends evolved into the various breeds we know and love.",
         "https://www.sciencedaily.com/releases/2023/09/230907130404.htm",
         "https://www.sciencedaily.com/images/scidaily-icon.png",
         "2023-09-07T17:04:04Z",
         null
        ],
        [
         null,
         "Science Daily",
         null,
         "CAR-T-cell therapy without side effects? Researchers show results in preclinical models",
         "Some patients have experienced incredible recoveries after CAR-T-cell therapy. But they've also endured incredibly strong and scary side effects, in part because of the lymphodepleting chemotherapy that is performed before the CAR-T-cells are reinfused. What …",
         "https://www.sciencedaily.com/releases/2023/09/230907162605.htm",
         "https://www.sciencedaily.com/images/scidaily-icon.png",
         "2023-09-07T20:26:05Z",
         null
        ],
        [
         null,
         "Science Daily",
         null,
         "Study links epigenetic changes to historic trauma in Alaska Native communities",
         "Researchers investigated the relationship between historical traumatic events experienced by Alaska Native communities and epigenetic markers on genes that previous studies have linked to trauma. The new study found a similar pattern among Alaska Native parti…",
         "https://www.sciencedaily.com/releases/2023/09/230907205950.htm",
         "https://www.sciencedaily.com/images/scidaily-icon.png",
         "2023-09-08T00:59:50Z",
         null
        ],
        [
         null,
         "Science Daily",
         null,
         "Nutrients drive cellular reprogramming in the intestine",
         "Researchers have unveiled an intriguing phenomenon of cellular reprogramming in mature adult organs, shedding light on a novel mechanism of adaptive growth. The study, which was conducted on fruit flies (Drosophila), provides further insights into dedifferent…",
         "https://www.sciencedaily.com/releases/2023/09/230911140801.htm",
         "https://www.sciencedaily.com/images/scidaily-icon.png",
         "2023-09-11T18:08:01Z",
         null
        ],
        [
         null,
         "Science Daily",
         null,
         "'Dormant' HIV produces RNA and proteins during anti-retroviral therapy",
         "HIV anti-retroviral therapy is considered a treatment and not a cure because patients usually carry a reservoir of HIV-infected cells that can re-emerge if treatment stops. These reservoirs have long been thought to be dormant, but two independent groups of r…",
         "https://www.sciencedaily.com/releases/2023/09/230913122631.htm",
         "https://www.sciencedaily.com/images/scidaily-icon.png",
         "2023-09-13T16:26:31Z",
         null
        ],
        [
         null,
         "Science Daily",
         null,
         "Groundbreaking research unveils genetic characteristics and improved prognosis of triple negative apocrine carcinoma",
         "A research team has led a groundbreaking study that delves into the exploration of triple-negative apocrine carcinoma.",
         "https://www.sciencedaily.com/releases/2023/09/230913122656.htm",
         "https://www.sciencedaily.com/images/scidaily-icon.png",
         "2023-09-13T16:26:56Z",
         null
        ],
        [
         null,
         "Science Daily",
         null,
         "Study explains why certain immunotherapies don't always work as predicted",
         "A study reveals a possible explanation for why checkpoint blockade inhibitors don't work well for some patients whose tumors have a high mutational burden.",
         "https://www.sciencedaily.com/releases/2023/09/230914175112.htm",
         "https://www.sciencedaily.com/images/scidaily-icon.png",
         "2023-09-14T21:51:12Z",
         null
        ],
        [
         null,
         "Science Daily",
         null,
         "Genetically modified bacteria break down plastics in saltwater",
         "Researchers have genetically engineered a marine microorganism to break down plastic in salt water. Specifically, the modified organism can break down polyethylene terephthalate (PET), a plastic used in everything from water bottles to clothing that is a sign…",
         "https://www.sciencedaily.com/releases/2023/09/230914175115.htm",
         "https://www.sciencedaily.com/images/scidaily-icon.png",
         "2023-09-14T21:51:15Z",
         null
        ],
        [
         null,
         "Science Daily",
         null,
         "RNA for the first time recovered from an extinct species",
         "A new study shows the isolation and sequencing of more than a century-old RNA molecules from a Tasmanian tiger specimen preserved at room temperature in a museum collection. This resulted in the reconstruction of skin and skeletal muscle transcriptomes from a…",
         "https://www.sciencedaily.com/releases/2023/09/230919153758.htm",
         "https://www.sciencedaily.com/images/scidaily-icon.png",
         "2023-09-19T19:37:58Z",
         null
        ],
        [
         null,
         "Science Daily",
         null,
         "New insight into crosstalk between cancer cells and their environment",
         "Most solid tumors become stiff as the cancer progresses. Although researchers recognize that the environment around the cancer cells influences their behavior, it is unclear how it does so. In a new article researchers have collected gene expression data in r…",
         "https://www.sciencedaily.com/releases/2023/09/230919154846.htm",
         "https://www.sciencedaily.com/images/scidaily-icon.png",
         "2023-09-19T19:48:46Z",
         null
        ],
        [
         null,
         "Science Daily",
         null,
         "Unzipping mRNA rallies plant cells to fight infection",
         "Living things from plants to humans must constantly adjust the chemical soup of proteins -- the workhorse molecules of life -- inside their cells to adapt to stress or changing conditions. Now, researchers have identified a previously unknown molecular mechan…",
         "https://www.sciencedaily.com/releases/2023/09/230921105759.htm",
         "https://www.sciencedaily.com/images/scidaily-icon.png",
         "2023-09-21T14:57:59Z",
         null
        ],
        [
         null,
         "Science Daily",
         null,
         "Nanopore sequencing and DNA barcoding method gives hope of personalized medicine",
         "With the ability to map dozens of biomarkers at once, a new method could transform testing for conditions including heart disease and cancer.",
         "https://www.sciencedaily.com/releases/2023/09/230925124742.htm",
         "https://www.sciencedaily.com/images/scidaily-icon.png",
         "2023-09-25T16:47:42Z",
         null
        ],
        [
         null,
         "Science Daily",
         null,
         "How a small strand of RNA is key to fighting cancer",
         "A team of researchers has shown that a single, small strand of microRNA, or miRNA, known as let-7, governs the ability of T-cells to recognize and remember tumor cells. This cellular memory is the basis for how vaccines work. Boosting cellular memory to recog…",
         "https://www.sciencedaily.com/releases/2023/09/230925153805.htm",
         "https://www.sciencedaily.com/images/scidaily-icon.png",
         "2023-09-25T19:38:05Z",
         null
        ],
        [
         null,
         "Science Daily",
         null,
         "Caribbean parrots thought to be endemic are actually relicts of millennial-scale extinction",
         "For the first time, researchers have extracted ancient DNA from Caribbean parrot fossils and archaeological specimens, showing that species thought to be endemic to particular islands were historically more widespread and diverse.",
         "https://www.sciencedaily.com/releases/2023/09/230925153825.htm",
         "https://www.sciencedaily.com/images/scidaily-icon.png",
         "2023-09-25T19:38:25Z",
         null
        ],
        [
         null,
         "Science Daily",
         null,
         "Strength is in this glass's DNA",
         "Scientists were able to fabricate a pure form of glass and coat specialized pieces of DNA with it to create a material that was not only stronger than steel, but incredibly lightweight.",
         "https://www.sciencedaily.com/releases/2023/09/230927155027.htm",
         "https://www.sciencedaily.com/images/scidaily-icon.png",
         "2023-09-27T19:50:27Z",
         null
        ],
        [
         null,
         "Science Daily",
         null,
         "Tiny CRISPR tool could help shred viruses",
         "Scientists mapped out the three-dimensional structure of one of the smallest known CRISPR-Cas13 systems then used that knowledge to modify its structure and improve its accuracy.",
         "https://www.sciencedaily.com/releases/2023/09/230927155337.htm",
         "https://www.sciencedaily.com/images/scidaily-icon.png",
         "2023-09-27T19:53:37Z",
         null
        ],
        [
         null,
         "Science Daily",
         null,
         "A lethal parasite's secret weapon: Infecting non-immune cells",
         "The organisms that cause visceral leishmaniasis, a potentially deadly version of the parasitic disease that most often affects the skin to cause disfiguring disease, appear to have a secret weapon, new research suggests: They can infect non-immune cells and p…",
         "https://www.sciencedaily.com/releases/2023/09/230929131004.htm",
         "https://www.sciencedaily.com/images/scidaily-icon.png",
         "2023-09-29T17:10:04Z",
         null
        ],
        [
         null,
         "Science Daily",
         null,
         "Timing plant evolution with a fast-ticking epigenetic clock",
         "Recent discoveries in the field of epigenetics, the study of inheritance of traits that occur without changing the DNA sequence, have shown that chronological age in mammals correlates with epigenetic changes that accumulate during the lifetime of an individu…",
         "https://www.sciencedaily.com/releases/2023/09/230929131649.htm",
         "https://www.sciencedaily.com/images/scidaily-icon.png",
         "2023-09-29T17:16:49Z",
         null
        ],
        [
         null,
         "Science Daily",
         null,
         "A surprising way to disrupt sleep",
         "A new study has identified a structure in the circadian mRNA Period2 that affects the sleep-wake cycle. The results indicate how translation and post-transcriptional processes influence the body's internal clock and its impact on sleep patterns.",
         "https://www.sciencedaily.com/releases/2023/10/231002124410.htm",
         "https://www.sciencedaily.com/images/scidaily-icon.png",
         "2023-10-02T16:44:10Z",
         null
        ],
        [
         null,
         "Scientific American",
         "Leo DeLuca",
         "Ancient Honey-and-Vinegar Combo Could Actually Treat Infected Wounds",
         "An age-old remedy that was prescribed by Hippocrates may be a cheap alternative to antibiotics for those with chronic wounds",
         "https://www.scientificamerican.com/article/ancient-honey-and-vinegar-combo-could-actually-treat-infected-wounds/",
         "https://static.scientificamerican.com/sciam/cache/file/53B0F75C-EBB5-4D0C-98BAAB05D24F266D.jpg",
         "2023-10-01T13:00:00Z",
         null
        ],
        [
         null,
         "Scientific American",
         "Lauren J. Young",
         "mRNA COVID Vaccine Technology Wins 2023 Nobel Prize in Physiology or Medicine",
         "Katalin Karik&oacute; and Drew Weissman win this year&rsquo;s Nobel Prize in Medicine for their mRNA vaccine discoveries that made the COVID vaccines possible",
         "https://www.scientificamerican.com/article/nobel-prize-medicine-2023-mrna-vaccine-tech/",
         "https://static.scientificamerican.com/sciam/cache/file/520E9815-3A2F-43FA-BB8AB866B23DF71E.jpg",
         "2023-10-02T10:52:00Z",
         null
        ],
        [
         null,
         "Scientific American",
         "Naomi Oreskes",
         "Rosalind Franklin Deserves a Posthumous Nobel Prize for Co-discovering DNA Structure",
         "Awarding Rosalind Franklin a Nobel Prize posthumously for her role in DNA discovery is the honorable&mdash;and scientific&mdash;thing to do",
         "https://www.scientificamerican.com/article/rosalind-franklin-deserves-a-posthumous-nobel-prize-for-co-discovering-dna-structure/",
         "https://static.scientificamerican.com/sciam/cache/file/8A0EB633-E9BB-4F5A-BD912F9B31DC8DD3.jpg",
         "2023-09-24T13:00:00Z",
         null
        ],
        [
         "techradar",
         "TechRadar",
         "desire.athow@futurenet.com (Desire Athow)",
         "Obscure startup plans 10,000TB data cartridges with popular material used in restrooms",
         "Ceramic may displace holographic, DNA and silica as the next big thing in exotic storage",
         "https://www.techradar.com/pro/obscure-startup-plans-10000tb-data-cartridges-with-popular-material-used-in-restrooms",
         "https://cdn.mos.cms.futurecdn.net/nz7KSLbpQxoxTpJzLtoLjk-1200-80.jpg",
         "2023-09-04T17:35:31Z",
         null
        ],
        [
         null,
         "The-sun.com",
         "Israel Salas-Rodriguez",
         "NASA publishes long-awaited UFO report...",
         "NASA publishes long-awaited UFO report...\r\n\n \n \n \n (Third column, 7th story, link)\r\n\n \r\n\n \r\n\n \n Related stories:Scientists unveil 'mummified alien' corpses to Mexico Congress...\r\nThree-fingered hands, unknown DNA, eggs inside...\r\nFound in Peru mines...",
         "https://www.the-sun.com/tech/9080616/nasa-ufo-study-report-findings-conference/",
         "https://www.the-sun.com/wp-content/uploads/sites/6/2023/09/SC-UFO-Breaker-OP-copy.jpg?strip=all&quality=100&w=1920&h=1080&crop=1",
         "2023-09-14T14:10:39Z",
         null
        ],
        [
         null,
         "The Atlantic",
         "Isabel Fattal",
         "How Siblings Shape Who We Are",
         "For many of us, these relationships are the longest of our life.",
         "https://www.theatlantic.com/newsletters/archive/2023/09/siblings-longest-relationships/675349/?utm_source=feed",
         null,
         "2023-09-16T12:00:00Z",
         null
        ],
        [
         "the-verge",
         "The Verge",
         "Jennifer Pattison Tuohy",
         "The Echo Hub is Amazon’s first true smart home controller",
         "The Echo Hub is a $180 smart home controller that is an Echo Show smart speaker, a Thread border router, a Matter controller, and a Zigbee hub for your smart home",
         "https://www.theverge.com/2023/9/20/23880766/amazon-alexa-echo-hub-smart-displays-price-matter",
         "https://cdn.vox-cdn.com/thumbor/uhiovuACNtjdXbZdJ-1tdmcMA2M=/0x0:2448x1378/1200x628/filters:focal(1487x600:1488x601)/cdn.vox-cdn.com/uploads/chorus_asset/file/24936035/Echo_Hub_Image_1.png",
         "2023-09-20T16:15:08Z",
         null
        ],
        [
         null,
         "TMZ",
         "TMZ Staff",
         "Two New 9/11 Victims Identified with Advanced DNA Testing",
         "Two new 9/11 victims have been identified years later through DNA -- a testament to modern science ... but also, to the fact over 1,000 lost souls remain nameless, even today. NYC officials made the announcement Friday -- a few days before the 22nd…",
         "https://www.tmz.com/2023/09/11/two-new-9-11-victims-identified-dna-testing/",
         "https://imagez.tmz.com/image/64/16by9/2023/09/11/642eb77acaf143518cd885ac007a97bd_xl.jpg",
         "2023-09-11T14:45:35Z",
         null
        ],
        [
         null,
         "TMZ",
         "TMZ Staff",
         "Suspected Gilgo Beach Serial Killer's DNA Matches Key Pizza Evidence",
         "The suspected Gilgo Beach serial killer is almost certainly the one authorities have been seeking for years -- this according to prosecutors, who now say the proof is in the pizza. Rex Heuermann appeared in court Wednesday for a status hearing ...…",
         "https://www.tmz.com/2023/09/27/suspected-gilgo-beach-serial-killer-dna-match-pizza-evidence/",
         "https://imagez.tmz.com/image/88/16by9/2023/09/27/889427faa35f429898562b5bbbf06ae9_xl.jpg",
         "2023-09-27T18:50:36Z",
         null
        ],
        [
         null,
         "Universe Today",
         "Evan Gough",
         "Even Tiny Amounts of DNA on Mars Will Be Detectable",
         "The Search for Life is focused on the search for biosignatures. Planetary life leaves a chemical fingerprint on a planet’s atmosphere, and scientists are trying to work out which chemicals in what combinations and amounts are a surefire indicator of life. Mar…",
         "https://www.universetoday.com/163376/even-tiny-amounts-of-dna-on-mars-will-be-detectable/",
         "https://www.universetoday.com/wp-content/uploads/2023/01/27262_PIA25681-web.jpg",
         "2023-09-27T15:42:42Z",
         null
        ],
        [
         null,
         "DIE WELT",
         "Edda Grabar",
         "„Ich schrieb Anträge, Anträge, Anträge“",
         "Der diesjährige Nobelpreis geht an die beiden Wissenschaftler, die die Grundlagen für die mRNA-Impfstoffe gelegt haben: die Ungarin Katalin Karikó und den US-Forscher Drew Weissmann. Die deutschen mRNA-Forscher Özlem Türeci, Ugur Sahin und Ingmar Hörr wurden …",
         "https://www.welt.de/wissenschaft/article247783826/Medizin-Nobelpreis-2023-fuer-Katalin-Kariko-und-Drew-Weissman.html",
         "https://img.welt.de/img/wissenschaft/mobile247783822/1171352217-ci16x9-w1200/FILES-Japan-Prize-2022-Laureates.jpg",
         "2023-10-02T15:58:28Z",
         null
        ],
        [
         "wired",
         "Wired",
         "Amit Katwala",
         "DeepMind’s New AI Can Predict Genetic Diseases",
         "AlphaMissense, a new model from Google’s artificial intelligence team, analyzes the effects of DNA mutations and will accelerate research into rare diseases.",
         "https://www.wired.com/story/deepmind-ai-alphamissense-genetics-rare-diseases/",
         "https://media.wired.com/photos/6509abd0d7ea654c08913301/191:100/w_1280,c_limit/digitized-dna-helix-science-GettyImages-85757934.jpg",
         "2023-09-19T14:35:23Z",
         null
        ],
        [
         "wired",
         "Wired",
         "Megan Farokhmanesh",
         "Can 'Monster Hunter Now' Pull Niantic Out of Its Slump?",
         "The company landed an unprecedented hit with the mobile game \"Pokémon Go.\" Seven years later, it’s still struggling to recapture that success.",
         "https://www.wired.com/story/monster-hunter-now-interview-kawai-osumi-niantic/",
         "https://media.wired.com/photos/65022c8d139c7729ea586425/191:100/w_1280,c_limit/Niantic-Wants-to-Make-Monster-Hunter-Now-the-New-Pok%C3%A9mon-Go-Games.jpg",
         "2023-09-14T01:00:00Z",
         null
        ],
        [
         "wired",
         "Wired",
         "Ramin Skibba",
         "NASA Didn’t Find Aliens—but if You See Any UFOs, Holler",
         "The agency assembled a panel of experts to figure out how to handle future sightings, in case the truth is out there.",
         "https://www.wired.com/story/nasa-ufos-aliens-report-2023/",
         "https://media.wired.com/photos/64c2a41432101aa6f13ca191/191:100/w_1280,c_limit/UFO_science_GettyImages-462275115.jpg",
         "2023-09-14T15:08:39Z",
         null
        ],
        [
         null,
         "Xataka.com",
         "Javier Jiménez",
         "A Katalin Karikó le dijeron hace 30 años que su carrera está acabada. Hoy es premio Nobel tras salvar al mundo",
         "En 1995, Katalin Karikó tuvo la peor reunión de su carrera. Es más, probablemente tuvo la peor reunión de su vida. Tras cinco años persiguiendo una idea que nadie se tomaba en serio, recién recuperada de un cáncer y con su marido atrapado en Hungría por un pr…",
         "https://www.xataka.com/medicina-y-salud/a-katalin-kariko-le-dijeron-hace-30-anos-que-su-carrera-esta-acabada-hoy-premio-nobel-salvar-al-mundo",
         "https://i.blogs.es/e36967/weissman-kariko-1-/840_560.jpeg",
         "2023-10-02T10:46:00Z",
         null
        ],
        [
         "die-zeit",
         "Die Zeit",
         "ZEIT ONLINE: News -",
         "Schwedt: Bürgermeisterin: «Der Wandel liegt in der DNA der Stadt»",
         "",
         "https://www.zeit.de/zustimmung?url=https%3A%2F%2Fwww.zeit.de%2Fnews%2F2023-09%2F07%2Fbuergermeisterin-der-wandel-liegt-in-der-dna-der-stadt",
         null,
         "2023-09-07T04:34:20Z",
         null
        ],
        [
         "die-zeit",
         "Die Zeit",
         "ZEIT ONLINE: News -",
         "Eishockey: Söderholm über Jackson: «DNA von Red Bull München gepusht»",
         "",
         "https://www.zeit.de/zustimmung?url=https%3A%2F%2Fwww.zeit.de%2Fnews%2F2023-09%2F12%2Fsoederholm-ueber-jackson-dna-von-red-bull-muenchen-gepusht",
         null,
         "2023-09-12T11:46:45Z",
         null
        ],
        [
         "die-zeit",
         "Die Zeit",
         "ZEIT ONLINE: News -",
         "Südwestpfalz: DNA-Test bestätigt Wolfriss in der Südwestpfalz",
         "",
         "https://www.zeit.de/zustimmung?url=https%3A%2F%2Fwww.zeit.de%2Fnews%2F2023-09%2F18%2Fdna-test-bestaetigt-wolfriss-in-der-suedwestpfalz",
         null,
         "2023-09-18T15:08:33Z",
         null
        ],
        [
         null,
         "Zoomit.ir",
         "مریم صفدری",
         "دانشمندان برای اولین‌بار RNA را از حیوانی منقرض‌شده بازیابی کردند",
         "یکی از مراحل احیای گونه‌های منقرض‌شده‌ای همچون گرگ تاسمانی توالی‌یابی RNA  است که دانشمندان موفق به انجام آن شده‌اند.",
         "https://www.zoomit.ir/fundamental-science/409481-rna-recovered-from-extinct-tasmanian-tiger/",
         "https://api2.zoomit.ir/media/tasmanian-tiger-65100839ae10e645b292e11d",
         "2023-09-24T11:55:00Z",
         null
        ]
       ],
       "datasetInfos": [],
       "dbfsResultPath": null,
       "isJsonSchema": true,
       "metadata": {},
       "overflow": false,
       "plotOptions": {
        "customPlotOptions": {},
        "displayType": "table",
        "pivotAggregation": null,
        "pivotColumns": null,
        "xColumns": null,
        "yColumns": null
       },
       "removedWidgets": [],
       "schema": [
        {
         "metadata": "{}",
         "name": "id",
         "type": "\"string\""
        },
        {
         "metadata": "{}",
         "name": "name",
         "type": "\"string\""
        },
        {
         "metadata": "{}",
         "name": "author",
         "type": "\"string\""
        },
        {
         "metadata": "{}",
         "name": "title",
         "type": "\"string\""
        },
        {
         "metadata": "{}",
         "name": "description",
         "type": "\"string\""
        },
        {
         "metadata": "{}",
         "name": "url",
         "type": "\"string\""
        },
        {
         "metadata": "{}",
         "name": "urlToImage",
         "type": "\"string\""
        },
        {
         "metadata": "{}",
         "name": "publishedAt",
         "type": "\"string\""
        },
        {
         "metadata": "{}",
         "name": "content",
         "type": "\"integer\""
        }
       ],
       "type": "table"
      }
     },
     "output_type": "display_data"
    }
   ],
   "source": [
    "df_final.display()"
   ]
  },
  {
   "cell_type": "code",
   "execution_count": 0,
   "metadata": {
    "application/vnd.databricks.v1+cell": {
     "cellMetadata": {},
     "inputWidgets": {},
     "nuid": "db26c075-aec7-4708-84d9-459149ff1024",
     "showTitle": false,
     "title": ""
    }
   },
   "outputs": [],
   "source": []
  }
 ],
 "metadata": {
  "application/vnd.databricks.v1+notebook": {
   "dashboards": [],
   "language": "python",
   "notebookMetadata": {
    "mostRecentlyExecutedCommandWithImplicitDF": {
     "commandId": 2880575836770360,
     "dataframes": [
      "_sqldf"
     ]
    },
    "pythonIndentUnit": 4
   },
   "notebookName": "Kafka_consumer(SS)",
   "widgets": {}
  }
 },
 "nbformat": 4,
 "nbformat_minor": 0
}
