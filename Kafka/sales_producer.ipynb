{
 "cells": [
  {
   "cell_type": "code",
   "execution_count": 19,
   "id": "d861d36c",
   "metadata": {},
   "outputs": [],
   "source": [
    "from kafka import KafkaProducer\n",
    "from time import sleep\n",
    "import json\n",
    "import pandas as pd"
   ]
  },
  {
   "cell_type": "code",
   "execution_count": 20,
   "id": "f8d81df7",
   "metadata": {},
   "outputs": [],
   "source": [
    "df_sales=pd.read_csv(filepath_or_buffer='/home/pedro_teixeira/PycharmProjects/pedrom-teixeira.github.io/Kafka/datasets/sales.csv',\n",
    "           delimiter=',',\n",
    "           header=0, index_col=False)"
   ]
  },
  {
   "cell_type": "code",
   "execution_count": 21,
   "id": "7ff456e3",
   "metadata": {},
   "outputs": [],
   "source": [
    "def send_df_as_json(df_in,topic_name,broker):\n",
    "    producer = KafkaProducer(bootstrap_servers=[broker],\n",
    "                         api_version=(0,10,2))\n",
    "    \n",
    "    \n",
    "    for i in range(0,len(df_in)):\n",
    "        producer.send(topic_name, df_in[i:i+1].to_json().encode('utf-8'))\n",
    "        producer.flush()\n",
    "        sleep(0.1)\n",
    "    return print(\"Mensagens enviadas com sucesso!\")"
   ]
  },
  {
   "cell_type": "code",
   "execution_count": 33,
   "id": "16c454ee",
   "metadata": {
    "scrolled": true
   },
   "outputs": [
    {
     "name": "stdout",
     "output_type": "stream",
     "text": [
      "Mensagens enviadas com sucesso!\n"
     ]
    }
   ],
   "source": [
    "send_df_as_json(df_sales,topic_name=\"sales-msg\",broker='localhost:19092')"
   ]
  },
  {
   "cell_type": "code",
   "execution_count": null,
   "id": "3050f074",
   "metadata": {},
   "outputs": [],
   "source": []
  },
  {
   "cell_type": "code",
   "execution_count": null,
   "id": "e057c9ab",
   "metadata": {},
   "outputs": [],
   "source": []
  }
 ],
 "metadata": {
  "kernelspec": {
   "display_name": "Python 3 (ipykernel)",
   "language": "python",
   "name": "python3"
  },
  "language_info": {
   "codemirror_mode": {
    "name": "ipython",
    "version": 3
   },
   "file_extension": ".py",
   "mimetype": "text/x-python",
   "name": "python",
   "nbconvert_exporter": "python",
   "pygments_lexer": "ipython3",
   "version": "3.10.12"
  }
 },
 "nbformat": 4,
 "nbformat_minor": 5
}
